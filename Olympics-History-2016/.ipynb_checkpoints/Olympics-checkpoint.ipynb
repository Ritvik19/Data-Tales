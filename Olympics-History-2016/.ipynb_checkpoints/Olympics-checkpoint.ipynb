{
 "cells": [
  {
   "cell_type": "markdown",
   "metadata": {},
   "source": [
    "https://www.kaggle.com/heesoo37/120-years-of-olympic-history-athletes-and-results"
   ]
  },
  {
   "cell_type": "markdown",
   "metadata": {},
   "source": [
    "# Libraries"
   ]
  },
  {
   "cell_type": "code",
   "execution_count": 1,
   "metadata": {
    "ExecuteTime": {
     "end_time": "2019-09-19T17:22:47.019756Z",
     "start_time": "2019-09-19T17:22:45.279373Z"
    }
   },
   "outputs": [],
   "source": [
    "import numpy as np\n",
    "import pandas as pd\n",
    "import matplotlib.pyplot as plt\n",
    "import seaborn as sns\n",
    "from tqdm.auto import tqdm"
   ]
  },
  {
   "cell_type": "markdown",
   "metadata": {},
   "source": [
    "# Data"
   ]
  },
  {
   "cell_type": "code",
   "execution_count": 2,
   "metadata": {
    "ExecuteTime": {
     "end_time": "2019-09-19T17:22:47.755751Z",
     "start_time": "2019-09-19T17:22:47.022713Z"
    }
   },
   "outputs": [],
   "source": [
    "data = pd.read_csv('E:/Kaggle-Data/120-years-of-olympic-history-athletes-and-results/athlete_events.csv')"
   ]
  },
  {
   "cell_type": "code",
   "execution_count": 3,
   "metadata": {
    "ExecuteTime": {
     "end_time": "2019-09-19T17:22:47.791658Z",
     "start_time": "2019-09-19T17:22:47.758747Z"
    }
   },
   "outputs": [
    {
     "data": {
      "text/html": [
       "<div>\n",
       "<style scoped>\n",
       "    .dataframe tbody tr th:only-of-type {\n",
       "        vertical-align: middle;\n",
       "    }\n",
       "\n",
       "    .dataframe tbody tr th {\n",
       "        vertical-align: top;\n",
       "    }\n",
       "\n",
       "    .dataframe thead th {\n",
       "        text-align: right;\n",
       "    }\n",
       "</style>\n",
       "<table border=\"1\" class=\"dataframe\">\n",
       "  <thead>\n",
       "    <tr style=\"text-align: right;\">\n",
       "      <th></th>\n",
       "      <th>ID</th>\n",
       "      <th>Name</th>\n",
       "      <th>Sex</th>\n",
       "      <th>Age</th>\n",
       "      <th>Height</th>\n",
       "      <th>Weight</th>\n",
       "      <th>Team</th>\n",
       "      <th>NOC</th>\n",
       "      <th>Games</th>\n",
       "      <th>Year</th>\n",
       "      <th>Season</th>\n",
       "      <th>City</th>\n",
       "      <th>Sport</th>\n",
       "      <th>Event</th>\n",
       "      <th>Medal</th>\n",
       "    </tr>\n",
       "  </thead>\n",
       "  <tbody>\n",
       "    <tr>\n",
       "      <td>0</td>\n",
       "      <td>1</td>\n",
       "      <td>A Dijiang</td>\n",
       "      <td>M</td>\n",
       "      <td>24.0</td>\n",
       "      <td>180.0</td>\n",
       "      <td>80.0</td>\n",
       "      <td>China</td>\n",
       "      <td>CHN</td>\n",
       "      <td>1992 Summer</td>\n",
       "      <td>1992</td>\n",
       "      <td>Summer</td>\n",
       "      <td>Barcelona</td>\n",
       "      <td>Basketball</td>\n",
       "      <td>Basketball Men's Basketball</td>\n",
       "      <td>NaN</td>\n",
       "    </tr>\n",
       "    <tr>\n",
       "      <td>1</td>\n",
       "      <td>2</td>\n",
       "      <td>A Lamusi</td>\n",
       "      <td>M</td>\n",
       "      <td>23.0</td>\n",
       "      <td>170.0</td>\n",
       "      <td>60.0</td>\n",
       "      <td>China</td>\n",
       "      <td>CHN</td>\n",
       "      <td>2012 Summer</td>\n",
       "      <td>2012</td>\n",
       "      <td>Summer</td>\n",
       "      <td>London</td>\n",
       "      <td>Judo</td>\n",
       "      <td>Judo Men's Extra-Lightweight</td>\n",
       "      <td>NaN</td>\n",
       "    </tr>\n",
       "    <tr>\n",
       "      <td>2</td>\n",
       "      <td>3</td>\n",
       "      <td>Gunnar Nielsen Aaby</td>\n",
       "      <td>M</td>\n",
       "      <td>24.0</td>\n",
       "      <td>NaN</td>\n",
       "      <td>NaN</td>\n",
       "      <td>Denmark</td>\n",
       "      <td>DEN</td>\n",
       "      <td>1920 Summer</td>\n",
       "      <td>1920</td>\n",
       "      <td>Summer</td>\n",
       "      <td>Antwerpen</td>\n",
       "      <td>Football</td>\n",
       "      <td>Football Men's Football</td>\n",
       "      <td>NaN</td>\n",
       "    </tr>\n",
       "    <tr>\n",
       "      <td>3</td>\n",
       "      <td>4</td>\n",
       "      <td>Edgar Lindenau Aabye</td>\n",
       "      <td>M</td>\n",
       "      <td>34.0</td>\n",
       "      <td>NaN</td>\n",
       "      <td>NaN</td>\n",
       "      <td>Denmark/Sweden</td>\n",
       "      <td>DEN</td>\n",
       "      <td>1900 Summer</td>\n",
       "      <td>1900</td>\n",
       "      <td>Summer</td>\n",
       "      <td>Paris</td>\n",
       "      <td>Tug-Of-War</td>\n",
       "      <td>Tug-Of-War Men's Tug-Of-War</td>\n",
       "      <td>Gold</td>\n",
       "    </tr>\n",
       "    <tr>\n",
       "      <td>4</td>\n",
       "      <td>5</td>\n",
       "      <td>Christine Jacoba Aaftink</td>\n",
       "      <td>F</td>\n",
       "      <td>21.0</td>\n",
       "      <td>185.0</td>\n",
       "      <td>82.0</td>\n",
       "      <td>Netherlands</td>\n",
       "      <td>NED</td>\n",
       "      <td>1988 Winter</td>\n",
       "      <td>1988</td>\n",
       "      <td>Winter</td>\n",
       "      <td>Calgary</td>\n",
       "      <td>Speed Skating</td>\n",
       "      <td>Speed Skating Women's 500 metres</td>\n",
       "      <td>NaN</td>\n",
       "    </tr>\n",
       "  </tbody>\n",
       "</table>\n",
       "</div>"
      ],
      "text/plain": [
       "   ID                      Name Sex   Age  Height  Weight            Team  \\\n",
       "0   1                 A Dijiang   M  24.0   180.0    80.0           China   \n",
       "1   2                  A Lamusi   M  23.0   170.0    60.0           China   \n",
       "2   3       Gunnar Nielsen Aaby   M  24.0     NaN     NaN         Denmark   \n",
       "3   4      Edgar Lindenau Aabye   M  34.0     NaN     NaN  Denmark/Sweden   \n",
       "4   5  Christine Jacoba Aaftink   F  21.0   185.0    82.0     Netherlands   \n",
       "\n",
       "   NOC        Games  Year  Season       City          Sport  \\\n",
       "0  CHN  1992 Summer  1992  Summer  Barcelona     Basketball   \n",
       "1  CHN  2012 Summer  2012  Summer     London           Judo   \n",
       "2  DEN  1920 Summer  1920  Summer  Antwerpen       Football   \n",
       "3  DEN  1900 Summer  1900  Summer      Paris     Tug-Of-War   \n",
       "4  NED  1988 Winter  1988  Winter    Calgary  Speed Skating   \n",
       "\n",
       "                              Event Medal  \n",
       "0       Basketball Men's Basketball   NaN  \n",
       "1      Judo Men's Extra-Lightweight   NaN  \n",
       "2           Football Men's Football   NaN  \n",
       "3       Tug-Of-War Men's Tug-Of-War  Gold  \n",
       "4  Speed Skating Women's 500 metres   NaN  "
      ]
     },
     "execution_count": 3,
     "metadata": {},
     "output_type": "execute_result"
    }
   ],
   "source": [
    "data.head()"
   ]
  },
  {
   "cell_type": "code",
   "execution_count": 4,
   "metadata": {
    "ExecuteTime": {
     "end_time": "2019-09-19T17:22:47.897376Z",
     "start_time": "2019-09-19T17:22:47.795648Z"
    }
   },
   "outputs": [],
   "source": [
    "region = pd.read_csv('E:/Kaggle-Data/120-years-of-olympic-history-athletes-and-results/noc_regions.csv')"
   ]
  },
  {
   "cell_type": "code",
   "execution_count": 5,
   "metadata": {
    "ExecuteTime": {
     "end_time": "2019-09-19T17:22:48.104819Z",
     "start_time": "2019-09-19T17:22:47.900366Z"
    }
   },
   "outputs": [
    {
     "data": {
      "text/html": [
       "<div>\n",
       "<style scoped>\n",
       "    .dataframe tbody tr th:only-of-type {\n",
       "        vertical-align: middle;\n",
       "    }\n",
       "\n",
       "    .dataframe tbody tr th {\n",
       "        vertical-align: top;\n",
       "    }\n",
       "\n",
       "    .dataframe thead th {\n",
       "        text-align: right;\n",
       "    }\n",
       "</style>\n",
       "<table border=\"1\" class=\"dataframe\">\n",
       "  <thead>\n",
       "    <tr style=\"text-align: right;\">\n",
       "      <th></th>\n",
       "      <th>NOC</th>\n",
       "      <th>region</th>\n",
       "      <th>notes</th>\n",
       "    </tr>\n",
       "  </thead>\n",
       "  <tbody>\n",
       "    <tr>\n",
       "      <td>0</td>\n",
       "      <td>AFG</td>\n",
       "      <td>Afghanistan</td>\n",
       "      <td>NaN</td>\n",
       "    </tr>\n",
       "    <tr>\n",
       "      <td>1</td>\n",
       "      <td>AHO</td>\n",
       "      <td>Curacao</td>\n",
       "      <td>Netherlands Antilles</td>\n",
       "    </tr>\n",
       "    <tr>\n",
       "      <td>2</td>\n",
       "      <td>ALB</td>\n",
       "      <td>Albania</td>\n",
       "      <td>NaN</td>\n",
       "    </tr>\n",
       "    <tr>\n",
       "      <td>3</td>\n",
       "      <td>ALG</td>\n",
       "      <td>Algeria</td>\n",
       "      <td>NaN</td>\n",
       "    </tr>\n",
       "    <tr>\n",
       "      <td>4</td>\n",
       "      <td>AND</td>\n",
       "      <td>Andorra</td>\n",
       "      <td>NaN</td>\n",
       "    </tr>\n",
       "  </tbody>\n",
       "</table>\n",
       "</div>"
      ],
      "text/plain": [
       "   NOC       region                 notes\n",
       "0  AFG  Afghanistan                   NaN\n",
       "1  AHO      Curacao  Netherlands Antilles\n",
       "2  ALB      Albania                   NaN\n",
       "3  ALG      Algeria                   NaN\n",
       "4  AND      Andorra                   NaN"
      ]
     },
     "execution_count": 5,
     "metadata": {},
     "output_type": "execute_result"
    }
   ],
   "source": [
    "region.head()"
   ]
  },
  {
   "cell_type": "code",
   "execution_count": 6,
   "metadata": {
    "ExecuteTime": {
     "end_time": "2019-09-19T17:22:48.427953Z",
     "start_time": "2019-09-19T17:22:48.108809Z"
    }
   },
   "outputs": [],
   "source": [
    "data = pd.merge(data, region, on='NOC', how='left')"
   ]
  },
  {
   "cell_type": "code",
   "execution_count": 7,
   "metadata": {
    "ExecuteTime": {
     "end_time": "2019-09-19T17:22:48.437930Z",
     "start_time": "2019-09-19T17:22:48.430948Z"
    }
   },
   "outputs": [
    {
     "data": {
      "text/plain": [
       "(271116, 17)"
      ]
     },
     "execution_count": 7,
     "metadata": {},
     "output_type": "execute_result"
    }
   ],
   "source": [
    "data.shape"
   ]
  },
  {
   "cell_type": "code",
   "execution_count": 8,
   "metadata": {
    "ExecuteTime": {
     "end_time": "2019-09-19T17:22:49.152019Z",
     "start_time": "2019-09-19T17:22:48.442916Z"
    }
   },
   "outputs": [],
   "source": [
    "data.drop_duplicates(inplace=True)"
   ]
  },
  {
   "cell_type": "code",
   "execution_count": 9,
   "metadata": {
    "ExecuteTime": {
     "end_time": "2019-09-19T17:22:49.162990Z",
     "start_time": "2019-09-19T17:22:49.156011Z"
    }
   },
   "outputs": [
    {
     "data": {
      "text/plain": [
       "(269731, 17)"
      ]
     },
     "execution_count": 9,
     "metadata": {},
     "output_type": "execute_result"
    }
   ],
   "source": [
    "data.shape"
   ]
  },
  {
   "cell_type": "code",
   "execution_count": 10,
   "metadata": {
    "ExecuteTime": {
     "end_time": "2019-09-19T17:22:49.343508Z",
     "start_time": "2019-09-19T17:22:49.166980Z"
    }
   },
   "outputs": [
    {
     "data": {
      "text/html": [
       "<div>\n",
       "<style scoped>\n",
       "    .dataframe tbody tr th:only-of-type {\n",
       "        vertical-align: middle;\n",
       "    }\n",
       "\n",
       "    .dataframe tbody tr th {\n",
       "        vertical-align: top;\n",
       "    }\n",
       "\n",
       "    .dataframe thead th {\n",
       "        text-align: right;\n",
       "    }\n",
       "</style>\n",
       "<table border=\"1\" class=\"dataframe\">\n",
       "  <thead>\n",
       "    <tr style=\"text-align: right;\">\n",
       "      <th></th>\n",
       "      <th>ID</th>\n",
       "      <th>Name</th>\n",
       "      <th>Sex</th>\n",
       "      <th>Age</th>\n",
       "      <th>Height</th>\n",
       "      <th>Weight</th>\n",
       "      <th>Team</th>\n",
       "      <th>NOC</th>\n",
       "      <th>Games</th>\n",
       "      <th>Year</th>\n",
       "      <th>Season</th>\n",
       "      <th>City</th>\n",
       "      <th>Sport</th>\n",
       "      <th>Event</th>\n",
       "      <th>Medal</th>\n",
       "      <th>region</th>\n",
       "      <th>notes</th>\n",
       "    </tr>\n",
       "  </thead>\n",
       "  <tbody>\n",
       "    <tr>\n",
       "      <td>0</td>\n",
       "      <td>1</td>\n",
       "      <td>A Dijiang</td>\n",
       "      <td>M</td>\n",
       "      <td>24.0</td>\n",
       "      <td>180.0</td>\n",
       "      <td>80.0</td>\n",
       "      <td>China</td>\n",
       "      <td>CHN</td>\n",
       "      <td>1992 Summer</td>\n",
       "      <td>1992</td>\n",
       "      <td>Summer</td>\n",
       "      <td>Barcelona</td>\n",
       "      <td>Basketball</td>\n",
       "      <td>Basketball Men's Basketball</td>\n",
       "      <td>NaN</td>\n",
       "      <td>China</td>\n",
       "      <td>NaN</td>\n",
       "    </tr>\n",
       "    <tr>\n",
       "      <td>1</td>\n",
       "      <td>2</td>\n",
       "      <td>A Lamusi</td>\n",
       "      <td>M</td>\n",
       "      <td>23.0</td>\n",
       "      <td>170.0</td>\n",
       "      <td>60.0</td>\n",
       "      <td>China</td>\n",
       "      <td>CHN</td>\n",
       "      <td>2012 Summer</td>\n",
       "      <td>2012</td>\n",
       "      <td>Summer</td>\n",
       "      <td>London</td>\n",
       "      <td>Judo</td>\n",
       "      <td>Judo Men's Extra-Lightweight</td>\n",
       "      <td>NaN</td>\n",
       "      <td>China</td>\n",
       "      <td>NaN</td>\n",
       "    </tr>\n",
       "    <tr>\n",
       "      <td>2</td>\n",
       "      <td>3</td>\n",
       "      <td>Gunnar Nielsen Aaby</td>\n",
       "      <td>M</td>\n",
       "      <td>24.0</td>\n",
       "      <td>NaN</td>\n",
       "      <td>NaN</td>\n",
       "      <td>Denmark</td>\n",
       "      <td>DEN</td>\n",
       "      <td>1920 Summer</td>\n",
       "      <td>1920</td>\n",
       "      <td>Summer</td>\n",
       "      <td>Antwerpen</td>\n",
       "      <td>Football</td>\n",
       "      <td>Football Men's Football</td>\n",
       "      <td>NaN</td>\n",
       "      <td>Denmark</td>\n",
       "      <td>NaN</td>\n",
       "    </tr>\n",
       "    <tr>\n",
       "      <td>3</td>\n",
       "      <td>4</td>\n",
       "      <td>Edgar Lindenau Aabye</td>\n",
       "      <td>M</td>\n",
       "      <td>34.0</td>\n",
       "      <td>NaN</td>\n",
       "      <td>NaN</td>\n",
       "      <td>Denmark/Sweden</td>\n",
       "      <td>DEN</td>\n",
       "      <td>1900 Summer</td>\n",
       "      <td>1900</td>\n",
       "      <td>Summer</td>\n",
       "      <td>Paris</td>\n",
       "      <td>Tug-Of-War</td>\n",
       "      <td>Tug-Of-War Men's Tug-Of-War</td>\n",
       "      <td>Gold</td>\n",
       "      <td>Denmark</td>\n",
       "      <td>NaN</td>\n",
       "    </tr>\n",
       "    <tr>\n",
       "      <td>4</td>\n",
       "      <td>5</td>\n",
       "      <td>Christine Jacoba Aaftink</td>\n",
       "      <td>F</td>\n",
       "      <td>21.0</td>\n",
       "      <td>185.0</td>\n",
       "      <td>82.0</td>\n",
       "      <td>Netherlands</td>\n",
       "      <td>NED</td>\n",
       "      <td>1988 Winter</td>\n",
       "      <td>1988</td>\n",
       "      <td>Winter</td>\n",
       "      <td>Calgary</td>\n",
       "      <td>Speed Skating</td>\n",
       "      <td>Speed Skating Women's 500 metres</td>\n",
       "      <td>NaN</td>\n",
       "      <td>Netherlands</td>\n",
       "      <td>NaN</td>\n",
       "    </tr>\n",
       "  </tbody>\n",
       "</table>\n",
       "</div>"
      ],
      "text/plain": [
       "   ID                      Name Sex   Age  Height  Weight            Team  \\\n",
       "0   1                 A Dijiang   M  24.0   180.0    80.0           China   \n",
       "1   2                  A Lamusi   M  23.0   170.0    60.0           China   \n",
       "2   3       Gunnar Nielsen Aaby   M  24.0     NaN     NaN         Denmark   \n",
       "3   4      Edgar Lindenau Aabye   M  34.0     NaN     NaN  Denmark/Sweden   \n",
       "4   5  Christine Jacoba Aaftink   F  21.0   185.0    82.0     Netherlands   \n",
       "\n",
       "   NOC        Games  Year  Season       City          Sport  \\\n",
       "0  CHN  1992 Summer  1992  Summer  Barcelona     Basketball   \n",
       "1  CHN  2012 Summer  2012  Summer     London           Judo   \n",
       "2  DEN  1920 Summer  1920  Summer  Antwerpen       Football   \n",
       "3  DEN  1900 Summer  1900  Summer      Paris     Tug-Of-War   \n",
       "4  NED  1988 Winter  1988  Winter    Calgary  Speed Skating   \n",
       "\n",
       "                              Event Medal       region notes  \n",
       "0       Basketball Men's Basketball   NaN        China   NaN  \n",
       "1      Judo Men's Extra-Lightweight   NaN        China   NaN  \n",
       "2           Football Men's Football   NaN      Denmark   NaN  \n",
       "3       Tug-Of-War Men's Tug-Of-War  Gold      Denmark   NaN  \n",
       "4  Speed Skating Women's 500 metres   NaN  Netherlands   NaN  "
      ]
     },
     "execution_count": 10,
     "metadata": {},
     "output_type": "execute_result"
    }
   ],
   "source": [
    "data.head()"
   ]
  },
  {
   "cell_type": "markdown",
   "metadata": {},
   "source": [
    "# Auxiliary Functions"
   ]
  },
  {
   "cell_type": "code",
   "execution_count": 11,
   "metadata": {
    "ExecuteTime": {
     "end_time": "2019-09-19T17:22:49.506072Z",
     "start_time": "2019-09-19T17:22:49.347497Z"
    }
   },
   "outputs": [],
   "source": [
    "def insight(x):\n",
    "    print('Min:', x.min())\n",
    "    print('Median:', x.median())\n",
    "    print('Max:', x.max())"
   ]
  },
  {
   "cell_type": "code",
   "execution_count": 12,
   "metadata": {
    "ExecuteTime": {
     "end_time": "2019-09-19T17:22:49.635728Z",
     "start_time": "2019-09-19T17:22:49.508070Z"
    }
   },
   "outputs": [],
   "source": [
    "def elaborate(row):\n",
    "    print(f\"{row['Name']} ({row['Age']} {row['Sex']}) from {row['City']}, {row['region']} won {row['Medal']} for {row['Sport']} during {row['Games']} in {row['City']}\")"
   ]
  },
  {
   "cell_type": "markdown",
   "metadata": {},
   "source": [
    "# Narration"
   ]
  },
  {
   "cell_type": "markdown",
   "metadata": {},
   "source": [
    "**PARTICIPATION OVER THE YEARS**"
   ]
  },
  {
   "cell_type": "code",
   "execution_count": 13,
   "metadata": {
    "ExecuteTime": {
     "end_time": "2019-09-19T17:22:50.475482Z",
     "start_time": "2019-09-19T17:22:49.638753Z"
    }
   },
   "outputs": [
    {
     "data": {
      "text/plain": [
       "<matplotlib.axes._subplots.AxesSubplot at 0x1e1bb207f28>"
      ]
     },
     "execution_count": 13,
     "metadata": {},
     "output_type": "execute_result"
    },
    {
     "data": {
      "image/png": "[encoded data removed]",
      "text/plain": [
       "<Figure size 1296x576 with 1 Axes>"
      ]
     },
     "metadata": {
      "needs_background": "light"
     },
     "output_type": "display_data"
    }
   ],
   "source": [
    "data.pivot_table(index='Year', columns='Sex', values='Name', aggfunc='count').plot.bar(figsize=(18,8),\n",
    "                                                                            grid=True, title='Participation Over the Years')"
   ]
  },
  {
   "cell_type": "markdown",
   "metadata": {},
   "source": [
    "**MOST PARTICIPATED SPORTS**"
   ]
  },
  {
   "cell_type": "code",
   "execution_count": 14,
   "metadata": {
    "ExecuteTime": {
     "end_time": "2019-09-19T17:22:52.217856Z",
     "start_time": "2019-09-19T17:22:50.478476Z"
    }
   },
   "outputs": [
    {
     "data": {
      "text/plain": [
       "<matplotlib.axes._subplots.AxesSubplot at 0x1e1b9b1ec18>"
      ]
     },
     "execution_count": 14,
     "metadata": {},
     "output_type": "execute_result"
    },
    {
     "data": {
      "image/png": "[encoded data removed]",
      "text/plain": [
       "<Figure size 1296x576 with 1 Axes>"
      ]
     },
     "metadata": {
      "needs_background": "light"
     },
     "output_type": "display_data"
    }
   ],
   "source": [
    "data['Sport'].value_counts().plot.bar(figsize=(18,8), grid=True, title='Participation in Various Sports')"
   ]
  },
  {
   "cell_type": "code",
   "execution_count": 15,
   "metadata": {
    "ExecuteTime": {
     "end_time": "2019-09-19T17:22:52.714527Z",
     "start_time": "2019-09-19T17:22:52.219819Z"
    }
   },
   "outputs": [
    {
     "data": {
      "text/plain": [
       "<matplotlib.axes._subplots.AxesSubplot at 0x1e1b9c827b8>"
      ]
     },
     "execution_count": 15,
     "metadata": {},
     "output_type": "execute_result"
    },
    {
     "data": {
      "image/png": "[encoded data removed]",
      "text/plain": [
       "<Figure size 1296x576 with 1 Axes>"
      ]
     },
     "metadata": {
      "needs_background": "light"
     },
     "output_type": "display_data"
    }
   ],
   "source": [
    "data['Sport'].value_counts()[:20].plot.bar(figsize=(18,8), grid=True, title='Top 20 Sports')"
   ]
  },
  {
   "cell_type": "code",
   "execution_count": 16,
   "metadata": {
    "ExecuteTime": {
     "end_time": "2019-09-19T17:22:53.084506Z",
     "start_time": "2019-09-19T17:22:52.717488Z"
    }
   },
   "outputs": [
    {
     "data": {
      "text/plain": [
       "<matplotlib.axes._subplots.AxesSubplot at 0x1e1bae174e0>"
      ]
     },
     "execution_count": 16,
     "metadata": {},
     "output_type": "execute_result"
    },
    {
     "data": {
      "image/png": "[encoded data removed]",
      "text/plain": [
       "<Figure size 1296x576 with 1 Axes>"
      ]
     },
     "metadata": {
      "needs_background": "light"
     },
     "output_type": "display_data"
    }
   ],
   "source": [
    "data['Sport'].value_counts()[::-1].head(10).plot.bar(figsize=(18,8), grid=True, title='Top 10 Most Rare Sports')"
   ]
  },
  {
   "cell_type": "code",
   "execution_count": 17,
   "metadata": {
    "ExecuteTime": {
     "end_time": "2019-09-19T17:22:53.751725Z",
     "start_time": "2019-09-19T17:22:53.087501Z"
    }
   },
   "outputs": [
    {
     "data": {
      "text/plain": [
       "<matplotlib.axes._subplots.AxesSubplot at 0x1e1bae7a470>"
      ]
     },
     "execution_count": 17,
     "metadata": {},
     "output_type": "execute_result"
    },
    {
     "data": {
      "image/png": "[encoded data removed]",
      "text/plain": [
       "<Figure size 1296x576 with 2 Axes>"
      ]
     },
     "metadata": {
      "needs_background": "light"
     },
     "output_type": "display_data"
    }
   ],
   "source": [
    "fig, ax = plt.subplots(figsize=(18,8))\n",
    "ax.set_title('Participation in Rare Sports')\n",
    "sns.heatmap(data[data['Sport'].isin(['Aeronautics', 'Basque Pelota', 'Roque', 'Jeu De Paume', 'Racquets',\n",
    "       'Motorboating', 'Croquet', 'Cricket', 'Military Ski Patrol',\n",
    "       'Alpinism'])].pivot_table(index='Year', columns='Sport', aggfunc='count', values='Name').fillna(0),\n",
    "            ax=ax, cmap='bone_r', annot=True)"
   ]
  },
  {
   "cell_type": "code",
   "execution_count": 18,
   "metadata": {
    "ExecuteTime": {
     "end_time": "2019-09-19T17:22:55.161957Z",
     "start_time": "2019-09-19T17:22:53.755712Z"
    }
   },
   "outputs": [
    {
     "name": "stdout",
     "output_type": "stream",
     "text": [
      "Winners for Aeronautics:\n",
      "Hermann Schreiber (26.0 M) from Berlin, Switzerland won Gold for Aeronautics during 1936 Summer in Berlin\n",
      "\n",
      "Winners for Basque Pelota:\n",
      "Jos de Amzola y Aspiza (26.0 M) from Paris, Spain won Gold for Basque Pelota during 1900 Summer in Paris\n",
      "\n",
      "Winners for Roque:\n",
      "Charles Jacobus (64.0 M) from St. Louis, USA won Gold for Roque during 1904 Summer in St. Louis\n",
      "Smith O. Streeter (59.0 M) from St. Louis, USA won Silver for Roque during 1904 Summer in St. Louis\n",
      "Charles Brown (37.0 M) from St. Louis, USA won Bronze for Roque during 1904 Summer in St. Louis\n",
      "\n",
      "Winners for Jeu De Paume:\n",
      "Jay Gould, II (19.0 M) from London, USA won Gold for Jeu De Paume during 1908 Summer in London\n",
      "Eustace Hamilton Miles (39.0 M) from London, UK won Silver for Jeu De Paume during 1908 Summer in London\n",
      "Neville Stephen Bulwer-Lytton (29.0 M) from London, UK won Bronze for Jeu De Paume during 1908 Summer in London\n",
      "\n",
      "Winners for Racquets:\n",
      "John Jacob Astor (21.0 M) from London, UK won Gold for Racquets during 1908 Summer in London\n",
      "Cecil Le Cronier Browning (25.0 M) from London, UK won Silver for Racquets during 1908 Summer in London\n",
      "John Jacob Astor (21.0 M) from London, UK won Bronze for Racquets during 1908 Summer in London\n",
      "\n",
      "Winners for Motorboating:\n",
      "John Charles Field-Richards (29.0 M) from London, UK won Gold for Motorboating during 1908 Summer in London\n",
      "\n",
      "Winners for Croquet:\n",
      "Gaston Achille Louis Aumoitte (15.0 M) from Paris, France won Gold for Croquet during 1900 Summer in Paris\n",
      "Georges douard Johin (22.0 M) from Paris, France won Silver for Croquet during 1900 Summer in Paris\n",
      "Marie Maurice Jacques Alfred Sautereau (39.0 M) from Paris, France won Bronze for Croquet during 1900 Summer in Paris\n",
      "\n",
      "Winners for Cricket:\n",
      "Charles Beachey Beachcroft (Kay-) (nan M) from Paris, UK won Gold for Cricket during 1900 Summer in Paris\n",
      "William Wallace Anderson (40.0 M) from Paris, UK won Silver for Cricket during 1900 Summer in Paris\n",
      "\n",
      "Winners for Military Ski Patrol:\n",
      "Alfred Aufdenblatten (26.0 M) from Chamonix, Switzerland won Gold for Military Ski Patrol during 1924 Winter in Chamonix\n",
      "Vin Elias Bremer (24.0 M) from Chamonix, Finland won Silver for Military Ski Patrol during 1924 Winter in Chamonix\n",
      "Georges Camille Berthet (20.0 M) from Chamonix, France won Bronze for Military Ski Patrol during 1924 Winter in Chamonix\n",
      "\n",
      "Winners for Alpinism:\n",
      "Charles Granville Bruce (57.0 M) from Chamonix, UK won Gold for Alpinism during 1924 Winter in Chamonix\n",
      "\n"
     ]
    }
   ],
   "source": [
    "for sport in ['Aeronautics', 'Basque Pelota', 'Roque', 'Jeu De Paume', 'Racquets',\n",
    "       'Motorboating', 'Croquet', 'Cricket', 'Military Ski Patrol',\n",
    "       'Alpinism']:\n",
    "    print(f'Winners for {sport}:')\n",
    "    try:\n",
    "        elaborate(data[(data['Sport'] == sport) & (data['Medal'] == 'Gold')].iloc[0])\n",
    "        elaborate(data[(data['Sport'] == sport) & (data['Medal'] == 'Silver')].iloc[0])\n",
    "        elaborate(data[(data['Sport'] == sport) & (data['Medal'] == 'Bronze')].iloc[0])\n",
    "    except:\n",
    "        pass\n",
    "    print()"
   ]
  },
  {
   "cell_type": "markdown",
   "metadata": {},
   "source": [
    "**AGE OF ATHELETES**"
   ]
  },
  {
   "cell_type": "code",
   "execution_count": 19,
   "metadata": {
    "ExecuteTime": {
     "end_time": "2019-09-19T17:22:55.216808Z",
     "start_time": "2019-09-19T17:22:55.164946Z"
    }
   },
   "outputs": [
    {
     "name": "stdout",
     "output_type": "stream",
     "text": [
      "Age of Athletes\n",
      "Min: 10.0\n",
      "Median: 24.0\n",
      "Max: 97.0\n"
     ]
    }
   ],
   "source": [
    "print('Age of Athletes')\n",
    "insight(data['Age'])"
   ]
  },
  {
   "cell_type": "code",
   "execution_count": 20,
   "metadata": {
    "ExecuteTime": {
     "end_time": "2019-09-19T17:22:55.854103Z",
     "start_time": "2019-09-19T17:22:55.219799Z"
    }
   },
   "outputs": [
    {
     "data": {
      "text/plain": [
       "<matplotlib.axes._subplots.AxesSubplot at 0x1e1baf93780>"
      ]
     },
     "execution_count": 20,
     "metadata": {},
     "output_type": "execute_result"
    },
    {
     "data": {
      "image/png": "[encoded data removed]",
      "text/plain": [
       "<Figure size 1440x576 with 1 Axes>"
      ]
     },
     "metadata": {
      "needs_background": "light"
     },
     "output_type": "display_data"
    }
   ],
   "source": [
    "data['Age'].plot.hist(bins=88, figsize=(20,8), grid=True)"
   ]
  },
  {
   "cell_type": "code",
   "execution_count": 21,
   "metadata": {
    "ExecuteTime": {
     "end_time": "2019-09-19T17:22:55.996722Z",
     "start_time": "2019-09-19T17:22:55.857096Z"
    }
   },
   "outputs": [
    {
     "name": "stdout",
     "output_type": "stream",
     "text": [
      "Eldest Athlete\n",
      "John Quincy Adams Ward (97.0 M) from Amsterdam, USA won nan for Art Competitions during 1928 Summer in Amsterdam\n"
     ]
    }
   ],
   "source": [
    "print('Eldest Athlete')\n",
    "elaborate(data.sort_values('Age', ascending=False).iloc[0])"
   ]
  },
  {
   "cell_type": "code",
   "execution_count": 22,
   "metadata": {
    "ExecuteTime": {
     "end_time": "2019-09-19T17:22:56.104433Z",
     "start_time": "2019-09-19T17:22:55.999715Z"
    }
   },
   "outputs": [
    {
     "name": "stdout",
     "output_type": "stream",
     "text": [
      "Eldest Female Athlete\n",
      "Ernestine Lonie Ernesta Robert-Mrignac (74.0 F) from Paris, France won nan for Art Competitions during 1924 Summer in Paris\n"
     ]
    }
   ],
   "source": [
    "print('Eldest Female Athlete')\n",
    "elaborate(data[data['Sex'] == 'F'].sort_values('Age', ascending=False).iloc[0])"
   ]
  },
  {
   "cell_type": "markdown",
   "metadata": {},
   "source": [
    "**AGE OF MEDALISTS**"
   ]
  },
  {
   "cell_type": "code",
   "execution_count": 23,
   "metadata": {
    "ExecuteTime": {
     "end_time": "2019-09-19T17:22:56.190205Z",
     "start_time": "2019-09-19T17:22:56.111416Z"
    }
   },
   "outputs": [
    {
     "name": "stdout",
     "output_type": "stream",
     "text": [
      "Age of Medalists\n",
      "Min: 10.0\n",
      "Median: 25.0\n",
      "Max: 73.0\n"
     ]
    }
   ],
   "source": [
    "print('Age of Medalists')\n",
    "insight(data[data['Medal'].notna()]['Age'])"
   ]
  },
  {
   "cell_type": "code",
   "execution_count": 24,
   "metadata": {
    "ExecuteTime": {
     "end_time": "2019-09-19T17:22:56.316865Z",
     "start_time": "2019-09-19T17:22:56.196188Z"
    }
   },
   "outputs": [
    {
     "name": "stdout",
     "output_type": "stream",
     "text": [
      "Age of Bronze Medalists\n",
      "Min: 10.0\n",
      "Median: 25.0\n",
      "Max: 72.0\n"
     ]
    }
   ],
   "source": [
    "print('Age of Bronze Medalists')\n",
    "insight(data[data['Medal'] == 'Bronze']['Age'])"
   ]
  },
  {
   "cell_type": "code",
   "execution_count": 25,
   "metadata": {
    "ExecuteTime": {
     "end_time": "2019-09-19T17:22:56.440535Z",
     "start_time": "2019-09-19T17:22:56.319859Z"
    }
   },
   "outputs": [
    {
     "name": "stdout",
     "output_type": "stream",
     "text": [
      "Age of Silver Medalists\n",
      "Min: 11.0\n",
      "Median: 25.0\n",
      "Max: 73.0\n"
     ]
    }
   ],
   "source": [
    "print('Age of Silver Medalists')\n",
    "insight(data[data['Medal'] == 'Silver']['Age'])"
   ]
  },
  {
   "cell_type": "code",
   "execution_count": 26,
   "metadata": {
    "ExecuteTime": {
     "end_time": "2019-09-19T17:22:56.582157Z",
     "start_time": "2019-09-19T17:22:56.442529Z"
    }
   },
   "outputs": [
    {
     "name": "stdout",
     "output_type": "stream",
     "text": [
      "Age of Gold Medalists\n",
      "Min: 13.0\n",
      "Median: 25.0\n",
      "Max: 64.0\n"
     ]
    }
   ],
   "source": [
    "print('Age of Gold Medalists')\n",
    "insight(data[data['Medal'] == 'Gold']['Age'])"
   ]
  },
  {
   "cell_type": "code",
   "execution_count": 27,
   "metadata": {
    "ExecuteTime": {
     "end_time": "2019-09-19T17:22:57.637334Z",
     "start_time": "2019-09-19T17:22:56.591135Z"
    }
   },
   "outputs": [
    {
     "name": "stderr",
     "output_type": "stream",
     "text": [
      "D:\\Users\\Ritvik\\Anaconda3\\envs\\datascience\\lib\\site-packages\\numpy\\lib\\histograms.py:754: RuntimeWarning: invalid value encountered in greater_equal\n",
      "  keep = (tmp_a >= first_edge)\n",
      "D:\\Users\\Ritvik\\Anaconda3\\envs\\datascience\\lib\\site-packages\\numpy\\lib\\histograms.py:755: RuntimeWarning: invalid value encountered in less_equal\n",
      "  keep &= (tmp_a <= last_edge)\n"
     ]
    },
    {
     "data": {
      "image/png": "[encoded data removed]",
      "text/plain": [
       "<Figure size 1296x576 with 1 Axes>"
      ]
     },
     "metadata": {
      "needs_background": "light"
     },
     "output_type": "display_data"
    }
   ],
   "source": [
    "fig, ax = plt.subplots(figsize=(18,8))\n",
    "plt.hist([data[data['Medal'] == 'Gold']['Age'], \n",
    "          data[data['Medal'] == 'Silver']['Age'], \n",
    "          data[data['Medal'] == 'Bronze']['Age']],\n",
    "         bins=64, label=['Gold', 'Silver', 'Bronze'])\n",
    "plt.title('Age distribution of Medalists')\n",
    "plt.grid()\n",
    "plt.legend()\n",
    "plt.show()"
   ]
  },
  {
   "cell_type": "code",
   "execution_count": 28,
   "metadata": {
    "ExecuteTime": {
     "end_time": "2019-09-19T17:22:58.023305Z",
     "start_time": "2019-09-19T17:22:57.640329Z"
    }
   },
   "outputs": [
    {
     "data": {
      "image/png": "[encoded data removed]",
      "text/plain": [
       "<Figure size 540x432 with 1 Axes>"
      ]
     },
     "metadata": {
      "needs_background": "light"
     },
     "output_type": "display_data"
    }
   ],
   "source": [
    "fig, ax = plt.subplots(figsize=(7.5,6))\n",
    "plt.hist([data[(data['Medal'] == 'Gold') & (data['Age'] <= 19)]['Age'], \n",
    "          data[(data['Medal'] == 'Silver') & (data['Age'] <= 19)]['Age'], \n",
    "          data[(data['Medal'] == 'Bronze') & (data['Age'] <= 19)]['Age']],\n",
    "         bins=10, label=['Gold', 'Silver', 'Bronze'])\n",
    "plt.title('Medals Before 20')\n",
    "plt.grid()\n",
    "plt.legend()\n",
    "plt.show()"
   ]
  },
  {
   "cell_type": "code",
   "execution_count": 29,
   "metadata": {
    "ExecuteTime": {
     "end_time": "2019-09-19T17:22:58.513994Z",
     "start_time": "2019-09-19T17:22:58.027294Z"
    }
   },
   "outputs": [
    {
     "data": {
      "text/plain": [
       "<matplotlib.axes._subplots.AxesSubplot at 0x1e1bbd0c128>"
      ]
     },
     "execution_count": 29,
     "metadata": {},
     "output_type": "execute_result"
    },
    {
     "data": {
      "image/png": "[encoded data removed]",
      "text/plain": [
       "<Figure size 1296x576 with 1 Axes>"
      ]
     },
     "metadata": {
      "needs_background": "light"
     },
     "output_type": "display_data"
    }
   ],
   "source": [
    "data[(data['Medal'].notna()) & (data['Age'] <= 15)]['Sport'].value_counts().plot.bar(figsize=(18,8), grid=True, \n",
    "                                                                                    title='Sports for medals before 15')"
   ]
  },
  {
   "cell_type": "code",
   "execution_count": 30,
   "metadata": {
    "ExecuteTime": {
     "end_time": "2019-09-19T17:22:58.550896Z",
     "start_time": "2019-09-19T17:22:58.516986Z"
    }
   },
   "outputs": [],
   "source": [
    "young_achievers = data[(data['Medal'].notna()) & \n",
    "                       (data['Age'] <= 13)].sort_values('Year').sort_values('Age').reset_index(drop=True)"
   ]
  },
  {
   "cell_type": "code",
   "execution_count": 31,
   "metadata": {
    "ExecuteTime": {
     "end_time": "2019-09-19T17:22:58.694511Z",
     "start_time": "2019-09-19T17:22:58.553889Z"
    }
   },
   "outputs": [
    {
     "data": {
      "text/html": [
       "<div>\n",
       "<style scoped>\n",
       "    .dataframe tbody tr th:only-of-type {\n",
       "        vertical-align: middle;\n",
       "    }\n",
       "\n",
       "    .dataframe tbody tr th {\n",
       "        vertical-align: top;\n",
       "    }\n",
       "\n",
       "    .dataframe thead th {\n",
       "        text-align: right;\n",
       "    }\n",
       "</style>\n",
       "<table border=\"1\" class=\"dataframe\">\n",
       "  <thead>\n",
       "    <tr style=\"text-align: right;\">\n",
       "      <th></th>\n",
       "      <th>ID</th>\n",
       "      <th>Name</th>\n",
       "      <th>Sex</th>\n",
       "      <th>Age</th>\n",
       "      <th>Height</th>\n",
       "      <th>Weight</th>\n",
       "      <th>Team</th>\n",
       "      <th>NOC</th>\n",
       "      <th>Games</th>\n",
       "      <th>Year</th>\n",
       "      <th>Season</th>\n",
       "      <th>City</th>\n",
       "      <th>Sport</th>\n",
       "      <th>Event</th>\n",
       "      <th>Medal</th>\n",
       "      <th>region</th>\n",
       "      <th>notes</th>\n",
       "    </tr>\n",
       "  </thead>\n",
       "  <tbody>\n",
       "    <tr>\n",
       "      <td>0</td>\n",
       "      <td>71691</td>\n",
       "      <td>Dimitrios Loundras</td>\n",
       "      <td>M</td>\n",
       "      <td>10.0</td>\n",
       "      <td>NaN</td>\n",
       "      <td>NaN</td>\n",
       "      <td>Ethnikos Gymnastikos Syllogos</td>\n",
       "      <td>GRE</td>\n",
       "      <td>1896 Summer</td>\n",
       "      <td>1896</td>\n",
       "      <td>Summer</td>\n",
       "      <td>Athina</td>\n",
       "      <td>Gymnastics</td>\n",
       "      <td>Gymnastics Men's Parallel Bars, Teams</td>\n",
       "      <td>Bronze</td>\n",
       "      <td>Greece</td>\n",
       "      <td>NaN</td>\n",
       "    </tr>\n",
       "    <tr>\n",
       "      <td>1</td>\n",
       "      <td>40129</td>\n",
       "      <td>Luigina Giavotti</td>\n",
       "      <td>F</td>\n",
       "      <td>11.0</td>\n",
       "      <td>NaN</td>\n",
       "      <td>NaN</td>\n",
       "      <td>Italy</td>\n",
       "      <td>ITA</td>\n",
       "      <td>1928 Summer</td>\n",
       "      <td>1928</td>\n",
       "      <td>Summer</td>\n",
       "      <td>Amsterdam</td>\n",
       "      <td>Gymnastics</td>\n",
       "      <td>Gymnastics Women's Team All-Around</td>\n",
       "      <td>Silver</td>\n",
       "      <td>Italy</td>\n",
       "      <td>NaN</td>\n",
       "    </tr>\n",
       "    <tr>\n",
       "      <td>2</td>\n",
       "      <td>125092</td>\n",
       "      <td>tienne Nol Henri Vandernotte</td>\n",
       "      <td>M</td>\n",
       "      <td>12.0</td>\n",
       "      <td>NaN</td>\n",
       "      <td>37.0</td>\n",
       "      <td>France</td>\n",
       "      <td>FRA</td>\n",
       "      <td>1936 Summer</td>\n",
       "      <td>1936</td>\n",
       "      <td>Summer</td>\n",
       "      <td>Berlin</td>\n",
       "      <td>Rowing</td>\n",
       "      <td>Rowing Men's Coxed Fours</td>\n",
       "      <td>Bronze</td>\n",
       "      <td>France</td>\n",
       "      <td>NaN</td>\n",
       "    </tr>\n",
       "    <tr>\n",
       "      <td>3</td>\n",
       "      <td>113580</td>\n",
       "      <td>Inge Srensen (-Tabur)</td>\n",
       "      <td>F</td>\n",
       "      <td>12.0</td>\n",
       "      <td>NaN</td>\n",
       "      <td>NaN</td>\n",
       "      <td>Denmark</td>\n",
       "      <td>DEN</td>\n",
       "      <td>1936 Summer</td>\n",
       "      <td>1936</td>\n",
       "      <td>Summer</td>\n",
       "      <td>Berlin</td>\n",
       "      <td>Swimming</td>\n",
       "      <td>Swimming Women's 200 metres Breaststroke</td>\n",
       "      <td>Bronze</td>\n",
       "      <td>Denmark</td>\n",
       "      <td>NaN</td>\n",
       "    </tr>\n",
       "    <tr>\n",
       "      <td>4</td>\n",
       "      <td>125944</td>\n",
       "      <td>Ines Vercesi</td>\n",
       "      <td>F</td>\n",
       "      <td>12.0</td>\n",
       "      <td>NaN</td>\n",
       "      <td>NaN</td>\n",
       "      <td>Italy</td>\n",
       "      <td>ITA</td>\n",
       "      <td>1928 Summer</td>\n",
       "      <td>1928</td>\n",
       "      <td>Summer</td>\n",
       "      <td>Amsterdam</td>\n",
       "      <td>Gymnastics</td>\n",
       "      <td>Gymnastics Women's Team All-Around</td>\n",
       "      <td>Silver</td>\n",
       "      <td>Italy</td>\n",
       "      <td>NaN</td>\n",
       "    </tr>\n",
       "    <tr>\n",
       "      <td>5</td>\n",
       "      <td>125092</td>\n",
       "      <td>tienne Nol Henri Vandernotte</td>\n",
       "      <td>M</td>\n",
       "      <td>12.0</td>\n",
       "      <td>NaN</td>\n",
       "      <td>37.0</td>\n",
       "      <td>France</td>\n",
       "      <td>FRA</td>\n",
       "      <td>1936 Summer</td>\n",
       "      <td>1936</td>\n",
       "      <td>Summer</td>\n",
       "      <td>Berlin</td>\n",
       "      <td>Rowing</td>\n",
       "      <td>Rowing Men's Coxed Pairs</td>\n",
       "      <td>Bronze</td>\n",
       "      <td>France</td>\n",
       "      <td>NaN</td>\n",
       "    </tr>\n",
       "    <tr>\n",
       "      <td>6</td>\n",
       "      <td>96664</td>\n",
       "      <td>Dorothy Poynton-Hill (-Teuber)</td>\n",
       "      <td>F</td>\n",
       "      <td>12.0</td>\n",
       "      <td>NaN</td>\n",
       "      <td>NaN</td>\n",
       "      <td>United States</td>\n",
       "      <td>USA</td>\n",
       "      <td>1928 Summer</td>\n",
       "      <td>1928</td>\n",
       "      <td>Summer</td>\n",
       "      <td>Amsterdam</td>\n",
       "      <td>Diving</td>\n",
       "      <td>Diving Women's Springboard</td>\n",
       "      <td>Silver</td>\n",
       "      <td>USA</td>\n",
       "      <td>NaN</td>\n",
       "    </tr>\n",
       "    <tr>\n",
       "      <td>7</td>\n",
       "      <td>74712</td>\n",
       "      <td>Carla Marangoni</td>\n",
       "      <td>F</td>\n",
       "      <td>12.0</td>\n",
       "      <td>NaN</td>\n",
       "      <td>NaN</td>\n",
       "      <td>Italy</td>\n",
       "      <td>ITA</td>\n",
       "      <td>1928 Summer</td>\n",
       "      <td>1928</td>\n",
       "      <td>Summer</td>\n",
       "      <td>Amsterdam</td>\n",
       "      <td>Gymnastics</td>\n",
       "      <td>Gymnastics Women's Team All-Around</td>\n",
       "      <td>Silver</td>\n",
       "      <td>Italy</td>\n",
       "      <td>NaN</td>\n",
       "    </tr>\n",
       "    <tr>\n",
       "      <td>8</td>\n",
       "      <td>37398</td>\n",
       "      <td>Fu Mingxia</td>\n",
       "      <td>F</td>\n",
       "      <td>13.0</td>\n",
       "      <td>160.0</td>\n",
       "      <td>48.0</td>\n",
       "      <td>China</td>\n",
       "      <td>CHN</td>\n",
       "      <td>1992 Summer</td>\n",
       "      <td>1992</td>\n",
       "      <td>Summer</td>\n",
       "      <td>Barcelona</td>\n",
       "      <td>Diving</td>\n",
       "      <td>Diving Women's Platform</td>\n",
       "      <td>Gold</td>\n",
       "      <td>China</td>\n",
       "      <td>NaN</td>\n",
       "    </tr>\n",
       "    <tr>\n",
       "      <td>9</td>\n",
       "      <td>41040</td>\n",
       "      <td>Gina Elena Gogean (-Groza)</td>\n",
       "      <td>F</td>\n",
       "      <td>13.0</td>\n",
       "      <td>150.0</td>\n",
       "      <td>40.0</td>\n",
       "      <td>Romania</td>\n",
       "      <td>ROU</td>\n",
       "      <td>1992 Summer</td>\n",
       "      <td>1992</td>\n",
       "      <td>Summer</td>\n",
       "      <td>Barcelona</td>\n",
       "      <td>Gymnastics</td>\n",
       "      <td>Gymnastics Women's Team All-Around</td>\n",
       "      <td>Silver</td>\n",
       "      <td>Romania</td>\n",
       "      <td>NaN</td>\n",
       "    </tr>\n",
       "    <tr>\n",
       "      <td>10</td>\n",
       "      <td>23192</td>\n",
       "      <td>Robin Marie Corsiglia (-Scholefield)</td>\n",
       "      <td>F</td>\n",
       "      <td>13.0</td>\n",
       "      <td>157.0</td>\n",
       "      <td>45.0</td>\n",
       "      <td>Canada</td>\n",
       "      <td>CAN</td>\n",
       "      <td>1976 Summer</td>\n",
       "      <td>1976</td>\n",
       "      <td>Summer</td>\n",
       "      <td>Montreal</td>\n",
       "      <td>Swimming</td>\n",
       "      <td>Swimming Women's 4 x 100 metres Medley Relay</td>\n",
       "      <td>Bronze</td>\n",
       "      <td>Canada</td>\n",
       "      <td>NaN</td>\n",
       "    </tr>\n",
       "    <tr>\n",
       "      <td>11</td>\n",
       "      <td>32552</td>\n",
       "      <td>Kornelia Ender (-Matthes, -Grummt)</td>\n",
       "      <td>F</td>\n",
       "      <td>13.0</td>\n",
       "      <td>172.0</td>\n",
       "      <td>59.0</td>\n",
       "      <td>East Germany</td>\n",
       "      <td>GDR</td>\n",
       "      <td>1972 Summer</td>\n",
       "      <td>1972</td>\n",
       "      <td>Summer</td>\n",
       "      <td>Munich</td>\n",
       "      <td>Swimming</td>\n",
       "      <td>Swimming Women's 4 x 100 metres Freestyle Relay</td>\n",
       "      <td>Silver</td>\n",
       "      <td>Germany</td>\n",
       "      <td>NaN</td>\n",
       "    </tr>\n",
       "    <tr>\n",
       "      <td>12</td>\n",
       "      <td>32552</td>\n",
       "      <td>Kornelia Ender (-Matthes, -Grummt)</td>\n",
       "      <td>F</td>\n",
       "      <td>13.0</td>\n",
       "      <td>172.0</td>\n",
       "      <td>59.0</td>\n",
       "      <td>East Germany</td>\n",
       "      <td>GDR</td>\n",
       "      <td>1972 Summer</td>\n",
       "      <td>1972</td>\n",
       "      <td>Summer</td>\n",
       "      <td>Munich</td>\n",
       "      <td>Swimming</td>\n",
       "      <td>Swimming Women's 200 metres Individual Medley</td>\n",
       "      <td>Silver</td>\n",
       "      <td>Germany</td>\n",
       "      <td>NaN</td>\n",
       "    </tr>\n",
       "    <tr>\n",
       "      <td>13</td>\n",
       "      <td>32552</td>\n",
       "      <td>Kornelia Ender (-Matthes, -Grummt)</td>\n",
       "      <td>F</td>\n",
       "      <td>13.0</td>\n",
       "      <td>172.0</td>\n",
       "      <td>59.0</td>\n",
       "      <td>East Germany</td>\n",
       "      <td>GDR</td>\n",
       "      <td>1972 Summer</td>\n",
       "      <td>1972</td>\n",
       "      <td>Summer</td>\n",
       "      <td>Munich</td>\n",
       "      <td>Swimming</td>\n",
       "      <td>Swimming Women's 4 x 100 metres Medley Relay</td>\n",
       "      <td>Silver</td>\n",
       "      <td>Germany</td>\n",
       "      <td>NaN</td>\n",
       "    </tr>\n",
       "    <tr>\n",
       "      <td>14</td>\n",
       "      <td>134381</td>\n",
       "      <td>Klaus Zerta</td>\n",
       "      <td>M</td>\n",
       "      <td>13.0</td>\n",
       "      <td>165.0</td>\n",
       "      <td>48.0</td>\n",
       "      <td>Germany</td>\n",
       "      <td>GER</td>\n",
       "      <td>1960 Summer</td>\n",
       "      <td>1960</td>\n",
       "      <td>Summer</td>\n",
       "      <td>Roma</td>\n",
       "      <td>Rowing</td>\n",
       "      <td>Rowing Men's Coxed Pairs</td>\n",
       "      <td>Gold</td>\n",
       "      <td>Germany</td>\n",
       "      <td>NaN</td>\n",
       "    </tr>\n",
       "    <tr>\n",
       "      <td>15</td>\n",
       "      <td>26731</td>\n",
       "      <td>Donna Elizabeth de Varona (-Pinto)</td>\n",
       "      <td>F</td>\n",
       "      <td>13.0</td>\n",
       "      <td>168.0</td>\n",
       "      <td>61.0</td>\n",
       "      <td>United States</td>\n",
       "      <td>USA</td>\n",
       "      <td>1960 Summer</td>\n",
       "      <td>1960</td>\n",
       "      <td>Summer</td>\n",
       "      <td>Roma</td>\n",
       "      <td>Swimming</td>\n",
       "      <td>Swimming Women's 4 x 100 metres Freestyle Relay</td>\n",
       "      <td>Gold</td>\n",
       "      <td>USA</td>\n",
       "      <td>NaN</td>\n",
       "    </tr>\n",
       "    <tr>\n",
       "      <td>16</td>\n",
       "      <td>111715</td>\n",
       "      <td>Nils Skoglund</td>\n",
       "      <td>M</td>\n",
       "      <td>13.0</td>\n",
       "      <td>NaN</td>\n",
       "      <td>NaN</td>\n",
       "      <td>Sweden</td>\n",
       "      <td>SWE</td>\n",
       "      <td>1920 Summer</td>\n",
       "      <td>1920</td>\n",
       "      <td>Summer</td>\n",
       "      <td>Antwerpen</td>\n",
       "      <td>Diving</td>\n",
       "      <td>Diving Men's Plain High</td>\n",
       "      <td>Silver</td>\n",
       "      <td>Sweden</td>\n",
       "      <td>NaN</td>\n",
       "    </tr>\n",
       "    <tr>\n",
       "      <td>17</td>\n",
       "      <td>60384</td>\n",
       "      <td>Kim Yun-Mi</td>\n",
       "      <td>F</td>\n",
       "      <td>13.0</td>\n",
       "      <td>160.0</td>\n",
       "      <td>48.0</td>\n",
       "      <td>South Korea</td>\n",
       "      <td>KOR</td>\n",
       "      <td>1994 Winter</td>\n",
       "      <td>1994</td>\n",
       "      <td>Winter</td>\n",
       "      <td>Lillehammer</td>\n",
       "      <td>Short Track Speed Skating</td>\n",
       "      <td>Short Track Speed Skating Women's 3,000 metres...</td>\n",
       "      <td>Gold</td>\n",
       "      <td>South Korea</td>\n",
       "      <td>NaN</td>\n",
       "    </tr>\n",
       "    <tr>\n",
       "      <td>18</td>\n",
       "      <td>100797</td>\n",
       "      <td>Aileen Muriel Riggin (-Soule)</td>\n",
       "      <td>F</td>\n",
       "      <td>13.0</td>\n",
       "      <td>142.0</td>\n",
       "      <td>NaN</td>\n",
       "      <td>United States</td>\n",
       "      <td>USA</td>\n",
       "      <td>1920 Summer</td>\n",
       "      <td>1920</td>\n",
       "      <td>Summer</td>\n",
       "      <td>Antwerpen</td>\n",
       "      <td>Diving</td>\n",
       "      <td>Diving Women's Springboard</td>\n",
       "      <td>Gold</td>\n",
       "      <td>USA</td>\n",
       "      <td>NaN</td>\n",
       "    </tr>\n",
       "    <tr>\n",
       "      <td>19</td>\n",
       "      <td>103771</td>\n",
       "      <td>Elizabeth Mary Ryan</td>\n",
       "      <td>F</td>\n",
       "      <td>13.0</td>\n",
       "      <td>NaN</td>\n",
       "      <td>NaN</td>\n",
       "      <td>United States</td>\n",
       "      <td>USA</td>\n",
       "      <td>1936 Summer</td>\n",
       "      <td>1936</td>\n",
       "      <td>Summer</td>\n",
       "      <td>Berlin</td>\n",
       "      <td>Swimming</td>\n",
       "      <td>Swimming Women's 4 x 100 metres Freestyle Relay</td>\n",
       "      <td>Bronze</td>\n",
       "      <td>USA</td>\n",
       "      <td>NaN</td>\n",
       "    </tr>\n",
       "    <tr>\n",
       "      <td>20</td>\n",
       "      <td>14142</td>\n",
       "      <td>Hans Bourquin</td>\n",
       "      <td>M</td>\n",
       "      <td>13.0</td>\n",
       "      <td>NaN</td>\n",
       "      <td>NaN</td>\n",
       "      <td>Switzerland</td>\n",
       "      <td>SUI</td>\n",
       "      <td>1928 Summer</td>\n",
       "      <td>1928</td>\n",
       "      <td>Summer</td>\n",
       "      <td>Amsterdam</td>\n",
       "      <td>Rowing</td>\n",
       "      <td>Rowing Men's Coxed Pairs</td>\n",
       "      <td>Gold</td>\n",
       "      <td>Switzerland</td>\n",
       "      <td>NaN</td>\n",
       "    </tr>\n",
       "    <tr>\n",
       "      <td>21</td>\n",
       "      <td>118514</td>\n",
       "      <td>Anna Luisa Tanzini</td>\n",
       "      <td>F</td>\n",
       "      <td>13.0</td>\n",
       "      <td>NaN</td>\n",
       "      <td>NaN</td>\n",
       "      <td>Italy</td>\n",
       "      <td>ITA</td>\n",
       "      <td>1928 Summer</td>\n",
       "      <td>1928</td>\n",
       "      <td>Summer</td>\n",
       "      <td>Amsterdam</td>\n",
       "      <td>Gymnastics</td>\n",
       "      <td>Gymnastics Women's Team All-Around</td>\n",
       "      <td>Silver</td>\n",
       "      <td>Italy</td>\n",
       "      <td>NaN</td>\n",
       "    </tr>\n",
       "    <tr>\n",
       "      <td>22</td>\n",
       "      <td>39866</td>\n",
       "      <td>Marjorie Gestring (-Redlick)</td>\n",
       "      <td>F</td>\n",
       "      <td>13.0</td>\n",
       "      <td>NaN</td>\n",
       "      <td>NaN</td>\n",
       "      <td>United States</td>\n",
       "      <td>USA</td>\n",
       "      <td>1936 Summer</td>\n",
       "      <td>1936</td>\n",
       "      <td>Summer</td>\n",
       "      <td>Berlin</td>\n",
       "      <td>Diving</td>\n",
       "      <td>Diving Women's Springboard</td>\n",
       "      <td>Gold</td>\n",
       "      <td>USA</td>\n",
       "      <td>NaN</td>\n",
       "    </tr>\n",
       "    <tr>\n",
       "      <td>23</td>\n",
       "      <td>85771</td>\n",
       "      <td>Nian Yun</td>\n",
       "      <td>F</td>\n",
       "      <td>13.0</td>\n",
       "      <td>168.0</td>\n",
       "      <td>61.0</td>\n",
       "      <td>China</td>\n",
       "      <td>CHN</td>\n",
       "      <td>1996 Summer</td>\n",
       "      <td>1996</td>\n",
       "      <td>Summer</td>\n",
       "      <td>Atlanta</td>\n",
       "      <td>Swimming</td>\n",
       "      <td>Swimming Women's 4 x 100 metres Freestyle Relay</td>\n",
       "      <td>Silver</td>\n",
       "      <td>China</td>\n",
       "      <td>NaN</td>\n",
       "    </tr>\n",
       "  </tbody>\n",
       "</table>\n",
       "</div>"
      ],
      "text/plain": [
       "        ID                                  Name Sex   Age  Height  Weight  \\\n",
       "0    71691                    Dimitrios Loundras   M  10.0     NaN     NaN   \n",
       "1    40129                      Luigina Giavotti   F  11.0     NaN     NaN   \n",
       "2   125092          tienne Nol Henri Vandernotte   M  12.0     NaN    37.0   \n",
       "3   113580                 Inge Srensen (-Tabur)   F  12.0     NaN     NaN   \n",
       "4   125944                          Ines Vercesi   F  12.0     NaN     NaN   \n",
       "5   125092          tienne Nol Henri Vandernotte   M  12.0     NaN    37.0   \n",
       "6    96664        Dorothy Poynton-Hill (-Teuber)   F  12.0     NaN     NaN   \n",
       "7    74712                       Carla Marangoni   F  12.0     NaN     NaN   \n",
       "8    37398                            Fu Mingxia   F  13.0   160.0    48.0   \n",
       "9    41040            Gina Elena Gogean (-Groza)   F  13.0   150.0    40.0   \n",
       "10   23192  Robin Marie Corsiglia (-Scholefield)   F  13.0   157.0    45.0   \n",
       "11   32552    Kornelia Ender (-Matthes, -Grummt)   F  13.0   172.0    59.0   \n",
       "12   32552    Kornelia Ender (-Matthes, -Grummt)   F  13.0   172.0    59.0   \n",
       "13   32552    Kornelia Ender (-Matthes, -Grummt)   F  13.0   172.0    59.0   \n",
       "14  134381                           Klaus Zerta   M  13.0   165.0    48.0   \n",
       "15   26731    Donna Elizabeth de Varona (-Pinto)   F  13.0   168.0    61.0   \n",
       "16  111715                         Nils Skoglund   M  13.0     NaN     NaN   \n",
       "17   60384                            Kim Yun-Mi   F  13.0   160.0    48.0   \n",
       "18  100797         Aileen Muriel Riggin (-Soule)   F  13.0   142.0     NaN   \n",
       "19  103771                   Elizabeth Mary Ryan   F  13.0     NaN     NaN   \n",
       "20   14142                         Hans Bourquin   M  13.0     NaN     NaN   \n",
       "21  118514                    Anna Luisa Tanzini   F  13.0     NaN     NaN   \n",
       "22   39866          Marjorie Gestring (-Redlick)   F  13.0     NaN     NaN   \n",
       "23   85771                              Nian Yun   F  13.0   168.0    61.0   \n",
       "\n",
       "                             Team  NOC        Games  Year  Season  \\\n",
       "0   Ethnikos Gymnastikos Syllogos  GRE  1896 Summer  1896  Summer   \n",
       "1                           Italy  ITA  1928 Summer  1928  Summer   \n",
       "2                          France  FRA  1936 Summer  1936  Summer   \n",
       "3                         Denmark  DEN  1936 Summer  1936  Summer   \n",
       "4                           Italy  ITA  1928 Summer  1928  Summer   \n",
       "5                          France  FRA  1936 Summer  1936  Summer   \n",
       "6                   United States  USA  1928 Summer  1928  Summer   \n",
       "7                           Italy  ITA  1928 Summer  1928  Summer   \n",
       "8                           China  CHN  1992 Summer  1992  Summer   \n",
       "9                         Romania  ROU  1992 Summer  1992  Summer   \n",
       "10                         Canada  CAN  1976 Summer  1976  Summer   \n",
       "11                   East Germany  GDR  1972 Summer  1972  Summer   \n",
       "12                   East Germany  GDR  1972 Summer  1972  Summer   \n",
       "13                   East Germany  GDR  1972 Summer  1972  Summer   \n",
       "14                        Germany  GER  1960 Summer  1960  Summer   \n",
       "15                  United States  USA  1960 Summer  1960  Summer   \n",
       "16                         Sweden  SWE  1920 Summer  1920  Summer   \n",
       "17                    South Korea  KOR  1994 Winter  1994  Winter   \n",
       "18                  United States  USA  1920 Summer  1920  Summer   \n",
       "19                  United States  USA  1936 Summer  1936  Summer   \n",
       "20                    Switzerland  SUI  1928 Summer  1928  Summer   \n",
       "21                          Italy  ITA  1928 Summer  1928  Summer   \n",
       "22                  United States  USA  1936 Summer  1936  Summer   \n",
       "23                          China  CHN  1996 Summer  1996  Summer   \n",
       "\n",
       "           City                      Sport  \\\n",
       "0        Athina                 Gymnastics   \n",
       "1     Amsterdam                 Gymnastics   \n",
       "2        Berlin                     Rowing   \n",
       "3        Berlin                   Swimming   \n",
       "4     Amsterdam                 Gymnastics   \n",
       "5        Berlin                     Rowing   \n",
       "6     Amsterdam                     Diving   \n",
       "7     Amsterdam                 Gymnastics   \n",
       "8     Barcelona                     Diving   \n",
       "9     Barcelona                 Gymnastics   \n",
       "10     Montreal                   Swimming   \n",
       "11       Munich                   Swimming   \n",
       "12       Munich                   Swimming   \n",
       "13       Munich                   Swimming   \n",
       "14         Roma                     Rowing   \n",
       "15         Roma                   Swimming   \n",
       "16    Antwerpen                     Diving   \n",
       "17  Lillehammer  Short Track Speed Skating   \n",
       "18    Antwerpen                     Diving   \n",
       "19       Berlin                   Swimming   \n",
       "20    Amsterdam                     Rowing   \n",
       "21    Amsterdam                 Gymnastics   \n",
       "22       Berlin                     Diving   \n",
       "23      Atlanta                   Swimming   \n",
       "\n",
       "                                                Event   Medal       region  \\\n",
       "0               Gymnastics Men's Parallel Bars, Teams  Bronze       Greece   \n",
       "1                  Gymnastics Women's Team All-Around  Silver        Italy   \n",
       "2                            Rowing Men's Coxed Fours  Bronze       France   \n",
       "3            Swimming Women's 200 metres Breaststroke  Bronze      Denmark   \n",
       "4                  Gymnastics Women's Team All-Around  Silver        Italy   \n",
       "5                            Rowing Men's Coxed Pairs  Bronze       France   \n",
       "6                          Diving Women's Springboard  Silver          USA   \n",
       "7                  Gymnastics Women's Team All-Around  Silver        Italy   \n",
       "8                             Diving Women's Platform    Gold        China   \n",
       "9                  Gymnastics Women's Team All-Around  Silver      Romania   \n",
       "10       Swimming Women's 4 x 100 metres Medley Relay  Bronze       Canada   \n",
       "11    Swimming Women's 4 x 100 metres Freestyle Relay  Silver      Germany   \n",
       "12      Swimming Women's 200 metres Individual Medley  Silver      Germany   \n",
       "13       Swimming Women's 4 x 100 metres Medley Relay  Silver      Germany   \n",
       "14                           Rowing Men's Coxed Pairs    Gold      Germany   \n",
       "15    Swimming Women's 4 x 100 metres Freestyle Relay    Gold          USA   \n",
       "16                            Diving Men's Plain High  Silver       Sweden   \n",
       "17  Short Track Speed Skating Women's 3,000 metres...    Gold  South Korea   \n",
       "18                         Diving Women's Springboard    Gold          USA   \n",
       "19    Swimming Women's 4 x 100 metres Freestyle Relay  Bronze          USA   \n",
       "20                           Rowing Men's Coxed Pairs    Gold  Switzerland   \n",
       "21                 Gymnastics Women's Team All-Around  Silver        Italy   \n",
       "22                         Diving Women's Springboard    Gold          USA   \n",
       "23    Swimming Women's 4 x 100 metres Freestyle Relay  Silver        China   \n",
       "\n",
       "   notes  \n",
       "0    NaN  \n",
       "1    NaN  \n",
       "2    NaN  \n",
       "3    NaN  \n",
       "4    NaN  \n",
       "5    NaN  \n",
       "6    NaN  \n",
       "7    NaN  \n",
       "8    NaN  \n",
       "9    NaN  \n",
       "10   NaN  \n",
       "11   NaN  \n",
       "12   NaN  \n",
       "13   NaN  \n",
       "14   NaN  \n",
       "15   NaN  \n",
       "16   NaN  \n",
       "17   NaN  \n",
       "18   NaN  \n",
       "19   NaN  \n",
       "20   NaN  \n",
       "21   NaN  \n",
       "22   NaN  \n",
       "23   NaN  "
      ]
     },
     "execution_count": 31,
     "metadata": {},
     "output_type": "execute_result"
    }
   ],
   "source": [
    "young_achievers"
   ]
  },
  {
   "cell_type": "code",
   "execution_count": 32,
   "metadata": {
    "ExecuteTime": {
     "end_time": "2019-09-19T17:22:58.829150Z",
     "start_time": "2019-09-19T17:22:58.697503Z"
    }
   },
   "outputs": [
    {
     "name": "stdout",
     "output_type": "stream",
     "text": [
      "Youngest Bronze Medalist and Yougest Medalist:\n",
      "Dimitrios Loundras (10.0 M) from Athina, Greece won Bronze for Gymnastics during 1896 Summer in Athina\n",
      "Youngest Female Bronze Medalist:\n",
      "Ines Vercesi (12.0 F) from Amsterdam, Italy won Silver for Gymnastics during 1928 Summer in Amsterdam\n"
     ]
    }
   ],
   "source": [
    "print('Youngest Bronze Medalist and Yougest Medalist:')\n",
    "elaborate(young_achievers.iloc[0])\n",
    "print('Youngest Female Bronze Medalist:')\n",
    "elaborate(young_achievers.iloc[4])"
   ]
  },
  {
   "cell_type": "code",
   "execution_count": 33,
   "metadata": {
    "ExecuteTime": {
     "end_time": "2019-09-19T17:22:58.960797Z",
     "start_time": "2019-09-19T17:22:58.832142Z"
    }
   },
   "outputs": [
    {
     "name": "stdout",
     "output_type": "stream",
     "text": [
      "Yougest Silver Medalist:\n",
      "Luigina Giavotti (11.0 F) from Amsterdam, Italy won Silver for Gymnastics during 1928 Summer in Amsterdam\n",
      "Yougest Male Silver Medalist:\n",
      "Nils Skoglund (13.0 M) from Antwerpen, Sweden won Silver for Diving during 1920 Summer in Antwerpen\n"
     ]
    }
   ],
   "source": [
    "print('Yougest Silver Medalist:')\n",
    "elaborate(young_achievers.iloc[1])\n",
    "print('Yougest Male Silver Medalist:')\n",
    "elaborate(young_achievers.iloc[16])"
   ]
  },
  {
   "cell_type": "code",
   "execution_count": 34,
   "metadata": {
    "ExecuteTime": {
     "end_time": "2019-09-19T17:22:59.115384Z",
     "start_time": "2019-09-19T17:22:58.963791Z"
    }
   },
   "outputs": [
    {
     "name": "stdout",
     "output_type": "stream",
     "text": [
      "Yougest Gold Medalist:\n",
      "Fu Mingxia (13.0 F) from Barcelona, China won Gold for Diving during 1992 Summer in Barcelona\n",
      "Yougest Male Gold Medalist:\n",
      "Klaus Zerta (13.0 M) from Roma, Germany won Gold for Rowing during 1960 Summer in Roma\n"
     ]
    }
   ],
   "source": [
    "print('Yougest Gold Medalist:')\n",
    "elaborate(young_achievers.iloc[8])\n",
    "print('Yougest Male Gold Medalist:')\n",
    "elaborate(young_achievers.iloc[14])"
   ]
  },
  {
   "cell_type": "code",
   "execution_count": 35,
   "metadata": {
    "ExecuteTime": {
     "end_time": "2019-09-19T17:22:59.683873Z",
     "start_time": "2019-09-19T17:22:59.118377Z"
    }
   },
   "outputs": [
    {
     "data": {
      "image/png": "[encoded data removed]",
      "text/plain": [
       "<Figure size 1296x432 with 1 Axes>"
      ]
     },
     "metadata": {
      "needs_background": "light"
     },
     "output_type": "display_data"
    }
   ],
   "source": [
    "fig, ax = plt.subplots(figsize=(18,6))\n",
    "plt.hist([data[(data['Medal'] == 'Gold') & (data['Age'] >= 50)]['Age'], \n",
    "          data[(data['Medal'] == 'Silver') & (data['Age'] >= 50)]['Age'], \n",
    "          data[(data['Medal'] == 'Bronze') & (data['Age'] >= 50)]['Age']],\n",
    "         bins=24, label=['Gold', 'Silver', 'Bronze'])\n",
    "plt.title('Medals After 50')\n",
    "plt.grid()\n",
    "plt.legend()\n",
    "plt.show()"
   ]
  },
  {
   "cell_type": "code",
   "execution_count": 36,
   "metadata": {
    "ExecuteTime": {
     "end_time": "2019-09-19T17:23:00.054871Z",
     "start_time": "2019-09-19T17:22:59.686857Z"
    }
   },
   "outputs": [
    {
     "data": {
      "text/plain": [
       "<matplotlib.axes._subplots.AxesSubplot at 0x1e1bcb3a080>"
      ]
     },
     "execution_count": 36,
     "metadata": {},
     "output_type": "execute_result"
    },
    {
     "data": {
      "image/png": "[encoded data removed]",
      "text/plain": [
       "<Figure size 1296x576 with 1 Axes>"
      ]
     },
     "metadata": {
      "needs_background": "light"
     },
     "output_type": "display_data"
    }
   ],
   "source": [
    "data[(data['Medal'].notna()) & (data['Age'] >= 50)]['Sport'].value_counts().plot.bar(figsize=(18,8), grid=True, \n",
    "                                                                                    title='Sports for medals after 50')"
   ]
  },
  {
   "cell_type": "code",
   "execution_count": 37,
   "metadata": {
    "ExecuteTime": {
     "end_time": "2019-09-19T17:23:00.084792Z",
     "start_time": "2019-09-19T17:23:00.057866Z"
    }
   },
   "outputs": [],
   "source": [
    "old_achievers = data[(data['Medal'].notna()) \n",
    "                     & (data['Age'] >= 64)].sort_values('Year').sort_values('Age', ascending=False).reset_index(drop=True)"
   ]
  },
  {
   "cell_type": "code",
   "execution_count": 38,
   "metadata": {
    "ExecuteTime": {
     "end_time": "2019-09-19T17:23:00.227412Z",
     "start_time": "2019-09-19T17:23:00.088781Z"
    }
   },
   "outputs": [
    {
     "data": {
      "text/html": [
       "<div>\n",
       "<style scoped>\n",
       "    .dataframe tbody tr th:only-of-type {\n",
       "        vertical-align: middle;\n",
       "    }\n",
       "\n",
       "    .dataframe tbody tr th {\n",
       "        vertical-align: top;\n",
       "    }\n",
       "\n",
       "    .dataframe thead th {\n",
       "        text-align: right;\n",
       "    }\n",
       "</style>\n",
       "<table border=\"1\" class=\"dataframe\">\n",
       "  <thead>\n",
       "    <tr style=\"text-align: right;\">\n",
       "      <th></th>\n",
       "      <th>ID</th>\n",
       "      <th>Name</th>\n",
       "      <th>Sex</th>\n",
       "      <th>Age</th>\n",
       "      <th>Height</th>\n",
       "      <th>Weight</th>\n",
       "      <th>Team</th>\n",
       "      <th>NOC</th>\n",
       "      <th>Games</th>\n",
       "      <th>Year</th>\n",
       "      <th>Season</th>\n",
       "      <th>City</th>\n",
       "      <th>Sport</th>\n",
       "      <th>Event</th>\n",
       "      <th>Medal</th>\n",
       "      <th>region</th>\n",
       "      <th>notes</th>\n",
       "    </tr>\n",
       "  </thead>\n",
       "  <tbody>\n",
       "    <tr>\n",
       "      <td>0</td>\n",
       "      <td>22984</td>\n",
       "      <td>John (Herbert Crawford-) Copley (Williamson-)</td>\n",
       "      <td>M</td>\n",
       "      <td>73.0</td>\n",
       "      <td>NaN</td>\n",
       "      <td>NaN</td>\n",
       "      <td>Great Britain</td>\n",
       "      <td>GBR</td>\n",
       "      <td>1948 Summer</td>\n",
       "      <td>1948</td>\n",
       "      <td>Summer</td>\n",
       "      <td>London</td>\n",
       "      <td>Art Competitions</td>\n",
       "      <td>Art Competitions Mixed Painting, Graphic Arts</td>\n",
       "      <td>Silver</td>\n",
       "      <td>UK</td>\n",
       "      <td>NaN</td>\n",
       "    </tr>\n",
       "    <tr>\n",
       "      <td>1</td>\n",
       "      <td>117046</td>\n",
       "      <td>Oscar Gomer Swahn</td>\n",
       "      <td>M</td>\n",
       "      <td>72.0</td>\n",
       "      <td>NaN</td>\n",
       "      <td>NaN</td>\n",
       "      <td>Sweden</td>\n",
       "      <td>SWE</td>\n",
       "      <td>1920 Summer</td>\n",
       "      <td>1920</td>\n",
       "      <td>Summer</td>\n",
       "      <td>Antwerpen</td>\n",
       "      <td>Shooting</td>\n",
       "      <td>Shooting Men's Running Target, Double Shot, Team</td>\n",
       "      <td>Silver</td>\n",
       "      <td>Sweden</td>\n",
       "      <td>NaN</td>\n",
       "    </tr>\n",
       "    <tr>\n",
       "      <td>2</td>\n",
       "      <td>30731</td>\n",
       "      <td>Jozu Dupon</td>\n",
       "      <td>M</td>\n",
       "      <td>72.0</td>\n",
       "      <td>NaN</td>\n",
       "      <td>NaN</td>\n",
       "      <td>Belgium</td>\n",
       "      <td>BEL</td>\n",
       "      <td>1936 Summer</td>\n",
       "      <td>1936</td>\n",
       "      <td>Summer</td>\n",
       "      <td>Berlin</td>\n",
       "      <td>Art Competitions</td>\n",
       "      <td>Art Competitions Mixed Sculpturing, Medals</td>\n",
       "      <td>Bronze</td>\n",
       "      <td>Belgium</td>\n",
       "      <td>NaN</td>\n",
       "    </tr>\n",
       "    <tr>\n",
       "      <td>3</td>\n",
       "      <td>75648</td>\n",
       "      <td>Charles William Martin</td>\n",
       "      <td>M</td>\n",
       "      <td>71.0</td>\n",
       "      <td>NaN</td>\n",
       "      <td>NaN</td>\n",
       "      <td>Crabe II-1</td>\n",
       "      <td>FRA</td>\n",
       "      <td>1900 Summer</td>\n",
       "      <td>1900</td>\n",
       "      <td>Summer</td>\n",
       "      <td>Paris</td>\n",
       "      <td>Sailing</td>\n",
       "      <td>Sailing Mixed 0.5-1 Ton</td>\n",
       "      <td>Silver</td>\n",
       "      <td>France</td>\n",
       "      <td>NaN</td>\n",
       "    </tr>\n",
       "    <tr>\n",
       "      <td>4</td>\n",
       "      <td>75648</td>\n",
       "      <td>Charles William Martin</td>\n",
       "      <td>M</td>\n",
       "      <td>71.0</td>\n",
       "      <td>NaN</td>\n",
       "      <td>NaN</td>\n",
       "      <td>Crabe II-4</td>\n",
       "      <td>FRA</td>\n",
       "      <td>1900 Summer</td>\n",
       "      <td>1900</td>\n",
       "      <td>Summer</td>\n",
       "      <td>Paris</td>\n",
       "      <td>Sailing</td>\n",
       "      <td>Sailing Mixed 0.5-1 Ton</td>\n",
       "      <td>Bronze</td>\n",
       "      <td>France</td>\n",
       "      <td>NaN</td>\n",
       "    </tr>\n",
       "    <tr>\n",
       "      <td>5</td>\n",
       "      <td>45286</td>\n",
       "      <td>Letitia Marion Hamilton</td>\n",
       "      <td>F</td>\n",
       "      <td>69.0</td>\n",
       "      <td>NaN</td>\n",
       "      <td>NaN</td>\n",
       "      <td>Ireland</td>\n",
       "      <td>IRL</td>\n",
       "      <td>1948 Summer</td>\n",
       "      <td>1948</td>\n",
       "      <td>Summer</td>\n",
       "      <td>London</td>\n",
       "      <td>Art Competitions</td>\n",
       "      <td>Art Competitions Mixed Painting, Paintings</td>\n",
       "      <td>Bronze</td>\n",
       "      <td>Ireland</td>\n",
       "      <td>NaN</td>\n",
       "    </tr>\n",
       "    <tr>\n",
       "      <td>6</td>\n",
       "      <td>119650</td>\n",
       "      <td>Oskar Thiede</td>\n",
       "      <td>M</td>\n",
       "      <td>69.0</td>\n",
       "      <td>NaN</td>\n",
       "      <td>NaN</td>\n",
       "      <td>Austria</td>\n",
       "      <td>AUT</td>\n",
       "      <td>1948 Summer</td>\n",
       "      <td>1948</td>\n",
       "      <td>Summer</td>\n",
       "      <td>London</td>\n",
       "      <td>Art Competitions</td>\n",
       "      <td>Art Competitions Mixed Sculpturing, Medals And...</td>\n",
       "      <td>Silver</td>\n",
       "      <td>Austria</td>\n",
       "      <td>NaN</td>\n",
       "    </tr>\n",
       "    <tr>\n",
       "      <td>7</td>\n",
       "      <td>30932</td>\n",
       "      <td>Samuel Harding Duvall</td>\n",
       "      <td>M</td>\n",
       "      <td>68.0</td>\n",
       "      <td>NaN</td>\n",
       "      <td>NaN</td>\n",
       "      <td>Cincinnati Archers</td>\n",
       "      <td>USA</td>\n",
       "      <td>1904 Summer</td>\n",
       "      <td>1904</td>\n",
       "      <td>Summer</td>\n",
       "      <td>St. Louis</td>\n",
       "      <td>Archery</td>\n",
       "      <td>Archery Men's Team Round</td>\n",
       "      <td>Silver</td>\n",
       "      <td>USA</td>\n",
       "      <td>NaN</td>\n",
       "    </tr>\n",
       "    <tr>\n",
       "      <td>8</td>\n",
       "      <td>73120</td>\n",
       "      <td>Frederick William MacMonnies</td>\n",
       "      <td>M</td>\n",
       "      <td>68.0</td>\n",
       "      <td>NaN</td>\n",
       "      <td>NaN</td>\n",
       "      <td>United States</td>\n",
       "      <td>USA</td>\n",
       "      <td>1932 Summer</td>\n",
       "      <td>1932</td>\n",
       "      <td>Summer</td>\n",
       "      <td>Los Angeles</td>\n",
       "      <td>Art Competitions</td>\n",
       "      <td>Art Competitions Mixed Sculpturing, Medals And...</td>\n",
       "      <td>Silver</td>\n",
       "      <td>USA</td>\n",
       "      <td>NaN</td>\n",
       "    </tr>\n",
       "    <tr>\n",
       "      <td>9</td>\n",
       "      <td>93875</td>\n",
       "      <td>Josef Petersen</td>\n",
       "      <td>M</td>\n",
       "      <td>66.0</td>\n",
       "      <td>NaN</td>\n",
       "      <td>NaN</td>\n",
       "      <td>Denmark</td>\n",
       "      <td>DEN</td>\n",
       "      <td>1948 Summer</td>\n",
       "      <td>1948</td>\n",
       "      <td>Summer</td>\n",
       "      <td>London</td>\n",
       "      <td>Art Competitions</td>\n",
       "      <td>Art Competitions Mixed Literature, Epic Works</td>\n",
       "      <td>Silver</td>\n",
       "      <td>Denmark</td>\n",
       "      <td>NaN</td>\n",
       "    </tr>\n",
       "    <tr>\n",
       "      <td>10</td>\n",
       "      <td>87135</td>\n",
       "      <td>Louis Noverraz</td>\n",
       "      <td>M</td>\n",
       "      <td>66.0</td>\n",
       "      <td>179.0</td>\n",
       "      <td>78.0</td>\n",
       "      <td>Switzerland</td>\n",
       "      <td>SUI</td>\n",
       "      <td>1968 Summer</td>\n",
       "      <td>1968</td>\n",
       "      <td>Summer</td>\n",
       "      <td>Mexico City</td>\n",
       "      <td>Sailing</td>\n",
       "      <td>Sailing Mixed 5.5 metres</td>\n",
       "      <td>Silver</td>\n",
       "      <td>Switzerland</td>\n",
       "      <td>NaN</td>\n",
       "    </tr>\n",
       "    <tr>\n",
       "      <td>11</td>\n",
       "      <td>77710</td>\n",
       "      <td>Robert Tait McKenzie</td>\n",
       "      <td>M</td>\n",
       "      <td>65.0</td>\n",
       "      <td>NaN</td>\n",
       "      <td>NaN</td>\n",
       "      <td>Canada</td>\n",
       "      <td>CAN</td>\n",
       "      <td>1932 Summer</td>\n",
       "      <td>1932</td>\n",
       "      <td>Summer</td>\n",
       "      <td>Los Angeles</td>\n",
       "      <td>Art Competitions</td>\n",
       "      <td>Art Competitions Mixed Sculpturing, Medals And...</td>\n",
       "      <td>Bronze</td>\n",
       "      <td>Canada</td>\n",
       "      <td>NaN</td>\n",
       "    </tr>\n",
       "    <tr>\n",
       "      <td>12</td>\n",
       "      <td>53238</td>\n",
       "      <td>Charles Jacobus</td>\n",
       "      <td>M</td>\n",
       "      <td>64.0</td>\n",
       "      <td>NaN</td>\n",
       "      <td>NaN</td>\n",
       "      <td>United States</td>\n",
       "      <td>USA</td>\n",
       "      <td>1904 Summer</td>\n",
       "      <td>1904</td>\n",
       "      <td>Summer</td>\n",
       "      <td>St. Louis</td>\n",
       "      <td>Roque</td>\n",
       "      <td>Roque Men's Singles</td>\n",
       "      <td>Gold</td>\n",
       "      <td>USA</td>\n",
       "      <td>NaN</td>\n",
       "    </tr>\n",
       "    <tr>\n",
       "      <td>13</td>\n",
       "      <td>117046</td>\n",
       "      <td>Oscar Gomer Swahn</td>\n",
       "      <td>M</td>\n",
       "      <td>64.0</td>\n",
       "      <td>NaN</td>\n",
       "      <td>NaN</td>\n",
       "      <td>Sweden</td>\n",
       "      <td>SWE</td>\n",
       "      <td>1912 Summer</td>\n",
       "      <td>1912</td>\n",
       "      <td>Summer</td>\n",
       "      <td>Stockholm</td>\n",
       "      <td>Shooting</td>\n",
       "      <td>Shooting Men's Running Target, Single Shot, Team</td>\n",
       "      <td>Gold</td>\n",
       "      <td>Sweden</td>\n",
       "      <td>NaN</td>\n",
       "    </tr>\n",
       "    <tr>\n",
       "      <td>14</td>\n",
       "      <td>117046</td>\n",
       "      <td>Oscar Gomer Swahn</td>\n",
       "      <td>M</td>\n",
       "      <td>64.0</td>\n",
       "      <td>NaN</td>\n",
       "      <td>NaN</td>\n",
       "      <td>Sweden</td>\n",
       "      <td>SWE</td>\n",
       "      <td>1912 Summer</td>\n",
       "      <td>1912</td>\n",
       "      <td>Summer</td>\n",
       "      <td>Stockholm</td>\n",
       "      <td>Shooting</td>\n",
       "      <td>Shooting Men's Running Target, Double Shot</td>\n",
       "      <td>Bronze</td>\n",
       "      <td>Sweden</td>\n",
       "      <td>NaN</td>\n",
       "    </tr>\n",
       "  </tbody>\n",
       "</table>\n",
       "</div>"
      ],
      "text/plain": [
       "        ID                                           Name Sex   Age  Height  \\\n",
       "0    22984  John (Herbert Crawford-) Copley (Williamson-)   M  73.0     NaN   \n",
       "1   117046                              Oscar Gomer Swahn   M  72.0     NaN   \n",
       "2    30731                                     Jozu Dupon   M  72.0     NaN   \n",
       "3    75648                         Charles William Martin   M  71.0     NaN   \n",
       "4    75648                         Charles William Martin   M  71.0     NaN   \n",
       "5    45286                        Letitia Marion Hamilton   F  69.0     NaN   \n",
       "6   119650                                   Oskar Thiede   M  69.0     NaN   \n",
       "7    30932                          Samuel Harding Duvall   M  68.0     NaN   \n",
       "8    73120                   Frederick William MacMonnies   M  68.0     NaN   \n",
       "9    93875                                 Josef Petersen   M  66.0     NaN   \n",
       "10   87135                                 Louis Noverraz   M  66.0   179.0   \n",
       "11   77710                           Robert Tait McKenzie   M  65.0     NaN   \n",
       "12   53238                                Charles Jacobus   M  64.0     NaN   \n",
       "13  117046                              Oscar Gomer Swahn   M  64.0     NaN   \n",
       "14  117046                              Oscar Gomer Swahn   M  64.0     NaN   \n",
       "\n",
       "    Weight                Team  NOC        Games  Year  Season         City  \\\n",
       "0      NaN       Great Britain  GBR  1948 Summer  1948  Summer       London   \n",
       "1      NaN              Sweden  SWE  1920 Summer  1920  Summer    Antwerpen   \n",
       "2      NaN             Belgium  BEL  1936 Summer  1936  Summer       Berlin   \n",
       "3      NaN          Crabe II-1  FRA  1900 Summer  1900  Summer        Paris   \n",
       "4      NaN          Crabe II-4  FRA  1900 Summer  1900  Summer        Paris   \n",
       "5      NaN             Ireland  IRL  1948 Summer  1948  Summer       London   \n",
       "6      NaN             Austria  AUT  1948 Summer  1948  Summer       London   \n",
       "7      NaN  Cincinnati Archers  USA  1904 Summer  1904  Summer    St. Louis   \n",
       "8      NaN       United States  USA  1932 Summer  1932  Summer  Los Angeles   \n",
       "9      NaN             Denmark  DEN  1948 Summer  1948  Summer       London   \n",
       "10    78.0         Switzerland  SUI  1968 Summer  1968  Summer  Mexico City   \n",
       "11     NaN              Canada  CAN  1932 Summer  1932  Summer  Los Angeles   \n",
       "12     NaN       United States  USA  1904 Summer  1904  Summer    St. Louis   \n",
       "13     NaN              Sweden  SWE  1912 Summer  1912  Summer    Stockholm   \n",
       "14     NaN              Sweden  SWE  1912 Summer  1912  Summer    Stockholm   \n",
       "\n",
       "               Sport                                              Event  \\\n",
       "0   Art Competitions      Art Competitions Mixed Painting, Graphic Arts   \n",
       "1           Shooting   Shooting Men's Running Target, Double Shot, Team   \n",
       "2   Art Competitions         Art Competitions Mixed Sculpturing, Medals   \n",
       "3            Sailing                            Sailing Mixed 0.5-1 Ton   \n",
       "4            Sailing                            Sailing Mixed 0.5-1 Ton   \n",
       "5   Art Competitions         Art Competitions Mixed Painting, Paintings   \n",
       "6   Art Competitions  Art Competitions Mixed Sculpturing, Medals And...   \n",
       "7            Archery                           Archery Men's Team Round   \n",
       "8   Art Competitions  Art Competitions Mixed Sculpturing, Medals And...   \n",
       "9   Art Competitions      Art Competitions Mixed Literature, Epic Works   \n",
       "10           Sailing                           Sailing Mixed 5.5 metres   \n",
       "11  Art Competitions  Art Competitions Mixed Sculpturing, Medals And...   \n",
       "12             Roque                                Roque Men's Singles   \n",
       "13          Shooting   Shooting Men's Running Target, Single Shot, Team   \n",
       "14          Shooting         Shooting Men's Running Target, Double Shot   \n",
       "\n",
       "     Medal       region notes  \n",
       "0   Silver           UK   NaN  \n",
       "1   Silver       Sweden   NaN  \n",
       "2   Bronze      Belgium   NaN  \n",
       "3   Silver       France   NaN  \n",
       "4   Bronze       France   NaN  \n",
       "5   Bronze      Ireland   NaN  \n",
       "6   Silver      Austria   NaN  \n",
       "7   Silver          USA   NaN  \n",
       "8   Silver          USA   NaN  \n",
       "9   Silver      Denmark   NaN  \n",
       "10  Silver  Switzerland   NaN  \n",
       "11  Bronze       Canada   NaN  \n",
       "12    Gold          USA   NaN  \n",
       "13    Gold       Sweden   NaN  \n",
       "14  Bronze       Sweden   NaN  "
      ]
     },
     "execution_count": 38,
     "metadata": {},
     "output_type": "execute_result"
    }
   ],
   "source": [
    "old_achievers"
   ]
  },
  {
   "cell_type": "code",
   "execution_count": 39,
   "metadata": {
    "ExecuteTime": {
     "end_time": "2019-09-19T17:23:00.372025Z",
     "start_time": "2019-09-19T17:23:00.230404Z"
    }
   },
   "outputs": [
    {
     "name": "stdout",
     "output_type": "stream",
     "text": [
      "Eldest Bronze Medalist:\n",
      "Jozu Dupon (72.0 M) from Berlin, Belgium won Bronze for Art Competitions during 1936 Summer in Berlin\n",
      "Eldest Female Bronze Medalist:\n",
      "Letitia Marion Hamilton (69.0 F) from London, Ireland won Bronze for Art Competitions during 1948 Summer in London\n"
     ]
    }
   ],
   "source": [
    "print('Eldest Bronze Medalist:')\n",
    "elaborate(old_achievers.iloc[2])\n",
    "print('Eldest Female Bronze Medalist:')\n",
    "elaborate(old_achievers.iloc[5])"
   ]
  },
  {
   "cell_type": "code",
   "execution_count": 40,
   "metadata": {
    "ExecuteTime": {
     "end_time": "2019-09-19T17:23:00.497707Z",
     "start_time": "2019-09-19T17:23:00.375017Z"
    }
   },
   "outputs": [
    {
     "name": "stdout",
     "output_type": "stream",
     "text": [
      "Eldest Silver Medalist and Oldest Medalist:\n",
      "John (Herbert Crawford-) Copley (Williamson-) (73.0 M) from London, UK won Silver for Art Competitions during 1948 Summer in London\n"
     ]
    }
   ],
   "source": [
    "print('Eldest Silver Medalist and Oldest Medalist:')\n",
    "elaborate(old_achievers.iloc[0])"
   ]
  },
  {
   "cell_type": "code",
   "execution_count": 41,
   "metadata": {
    "ExecuteTime": {
     "end_time": "2019-09-19T17:23:00.624350Z",
     "start_time": "2019-09-19T17:23:00.500681Z"
    }
   },
   "outputs": [
    {
     "name": "stdout",
     "output_type": "stream",
     "text": [
      "Eldest Gold Medalist:\n",
      "Charles Jacobus (64.0 M) from St. Louis, USA won Gold for Roque during 1904 Summer in St. Louis\n",
      "Oscar Gomer Swahn (64.0 M) from Stockholm, Sweden won Gold for Shooting during 1912 Summer in Stockholm\n"
     ]
    }
   ],
   "source": [
    "print('Eldest Gold Medalist:')\n",
    "elaborate(old_achievers.iloc[12])\n",
    "elaborate(old_achievers.iloc[13])"
   ]
  },
  {
   "cell_type": "code",
   "execution_count": 42,
   "metadata": {
    "ExecuteTime": {
     "end_time": "2019-09-19T17:23:00.782925Z",
     "start_time": "2019-09-19T17:23:00.627343Z"
    }
   },
   "outputs": [],
   "source": [
    "old_females = data[(data['Medal'].notna()) \n",
    "                   & (data['Age'] >= 55) \n",
    "                   & (data['Sex'] == 'F')].sort_values('Year').sort_values('Age', ascending=False).reset_index(drop=True)"
   ]
  },
  {
   "cell_type": "code",
   "execution_count": 43,
   "metadata": {
    "ExecuteTime": {
     "end_time": "2019-09-19T17:23:00.880666Z",
     "start_time": "2019-09-19T17:23:00.785918Z"
    }
   },
   "outputs": [
    {
     "data": {
      "text/html": [
       "<div>\n",
       "<style scoped>\n",
       "    .dataframe tbody tr th:only-of-type {\n",
       "        vertical-align: middle;\n",
       "    }\n",
       "\n",
       "    .dataframe tbody tr th {\n",
       "        vertical-align: top;\n",
       "    }\n",
       "\n",
       "    .dataframe thead th {\n",
       "        text-align: right;\n",
       "    }\n",
       "</style>\n",
       "<table border=\"1\" class=\"dataframe\">\n",
       "  <thead>\n",
       "    <tr style=\"text-align: right;\">\n",
       "      <th></th>\n",
       "      <th>ID</th>\n",
       "      <th>Name</th>\n",
       "      <th>Sex</th>\n",
       "      <th>Age</th>\n",
       "      <th>Height</th>\n",
       "      <th>Weight</th>\n",
       "      <th>Team</th>\n",
       "      <th>NOC</th>\n",
       "      <th>Games</th>\n",
       "      <th>Year</th>\n",
       "      <th>Season</th>\n",
       "      <th>City</th>\n",
       "      <th>Sport</th>\n",
       "      <th>Event</th>\n",
       "      <th>Medal</th>\n",
       "      <th>region</th>\n",
       "      <th>notes</th>\n",
       "    </tr>\n",
       "  </thead>\n",
       "  <tbody>\n",
       "    <tr>\n",
       "      <td>0</td>\n",
       "      <td>45286</td>\n",
       "      <td>Letitia Marion Hamilton</td>\n",
       "      <td>F</td>\n",
       "      <td>69.0</td>\n",
       "      <td>NaN</td>\n",
       "      <td>NaN</td>\n",
       "      <td>Ireland</td>\n",
       "      <td>IRL</td>\n",
       "      <td>1948 Summer</td>\n",
       "      <td>1948</td>\n",
       "      <td>Summer</td>\n",
       "      <td>London</td>\n",
       "      <td>Art Competitions</td>\n",
       "      <td>Art Competitions Mixed Painting, Paintings</td>\n",
       "      <td>Bronze</td>\n",
       "      <td>Ireland</td>\n",
       "      <td>NaN</td>\n",
       "    </tr>\n",
       "    <tr>\n",
       "      <td>1</td>\n",
       "      <td>95906</td>\n",
       "      <td>Lida Peyton \"Eliza\" Pollock (McMillen-)</td>\n",
       "      <td>F</td>\n",
       "      <td>63.0</td>\n",
       "      <td>NaN</td>\n",
       "      <td>NaN</td>\n",
       "      <td>United States</td>\n",
       "      <td>USA</td>\n",
       "      <td>1904 Summer</td>\n",
       "      <td>1904</td>\n",
       "      <td>Summer</td>\n",
       "      <td>St. Louis</td>\n",
       "      <td>Archery</td>\n",
       "      <td>Archery Women's Double Columbia Round</td>\n",
       "      <td>Bronze</td>\n",
       "      <td>USA</td>\n",
       "      <td>NaN</td>\n",
       "    </tr>\n",
       "    <tr>\n",
       "      <td>2</td>\n",
       "      <td>95906</td>\n",
       "      <td>Lida Peyton \"Eliza\" Pollock (McMillen-)</td>\n",
       "      <td>F</td>\n",
       "      <td>63.0</td>\n",
       "      <td>NaN</td>\n",
       "      <td>NaN</td>\n",
       "      <td>United States</td>\n",
       "      <td>USA</td>\n",
       "      <td>1904 Summer</td>\n",
       "      <td>1904</td>\n",
       "      <td>Summer</td>\n",
       "      <td>St. Louis</td>\n",
       "      <td>Archery</td>\n",
       "      <td>Archery Women's Double National Round</td>\n",
       "      <td>Bronze</td>\n",
       "      <td>USA</td>\n",
       "      <td>NaN</td>\n",
       "    </tr>\n",
       "    <tr>\n",
       "      <td>3</td>\n",
       "      <td>95906</td>\n",
       "      <td>Lida Peyton \"Eliza\" Pollock (McMillen-)</td>\n",
       "      <td>F</td>\n",
       "      <td>63.0</td>\n",
       "      <td>NaN</td>\n",
       "      <td>NaN</td>\n",
       "      <td>Cincinnati Archers</td>\n",
       "      <td>USA</td>\n",
       "      <td>1904 Summer</td>\n",
       "      <td>1904</td>\n",
       "      <td>Summer</td>\n",
       "      <td>St. Louis</td>\n",
       "      <td>Archery</td>\n",
       "      <td>Archery Women's Team Round</td>\n",
       "      <td>Gold</td>\n",
       "      <td>USA</td>\n",
       "      <td>NaN</td>\n",
       "    </tr>\n",
       "    <tr>\n",
       "      <td>4</td>\n",
       "      <td>131533</td>\n",
       "      <td>Emily Woodruff (Smiley-)</td>\n",
       "      <td>F</td>\n",
       "      <td>58.0</td>\n",
       "      <td>NaN</td>\n",
       "      <td>NaN</td>\n",
       "      <td>Cincinnati Archers</td>\n",
       "      <td>USA</td>\n",
       "      <td>1904 Summer</td>\n",
       "      <td>1904</td>\n",
       "      <td>Summer</td>\n",
       "      <td>St. Louis</td>\n",
       "      <td>Archery</td>\n",
       "      <td>Archery Women's Team Round</td>\n",
       "      <td>Gold</td>\n",
       "      <td>USA</td>\n",
       "      <td>NaN</td>\n",
       "    </tr>\n",
       "    <tr>\n",
       "      <td>5</td>\n",
       "      <td>106621</td>\n",
       "      <td>Margo Sybranda Everdina Scharten-Antink</td>\n",
       "      <td>F</td>\n",
       "      <td>58.0</td>\n",
       "      <td>NaN</td>\n",
       "      <td>NaN</td>\n",
       "      <td>Netherlands</td>\n",
       "      <td>NED</td>\n",
       "      <td>1928 Summer</td>\n",
       "      <td>1928</td>\n",
       "      <td>Summer</td>\n",
       "      <td>Amsterdam</td>\n",
       "      <td>Art Competitions</td>\n",
       "      <td>Art Competitions Mixed Literature, Epic Works</td>\n",
       "      <td>Bronze</td>\n",
       "      <td>Netherlands</td>\n",
       "      <td>NaN</td>\n",
       "    </tr>\n",
       "    <tr>\n",
       "      <td>6</td>\n",
       "      <td>22877</td>\n",
       "      <td>Emma C. Cooke</td>\n",
       "      <td>F</td>\n",
       "      <td>55.0</td>\n",
       "      <td>NaN</td>\n",
       "      <td>NaN</td>\n",
       "      <td>United States</td>\n",
       "      <td>USA</td>\n",
       "      <td>1904 Summer</td>\n",
       "      <td>1904</td>\n",
       "      <td>Summer</td>\n",
       "      <td>St. Louis</td>\n",
       "      <td>Archery</td>\n",
       "      <td>Archery Women's Double Columbia Round</td>\n",
       "      <td>Silver</td>\n",
       "      <td>USA</td>\n",
       "      <td>NaN</td>\n",
       "    </tr>\n",
       "    <tr>\n",
       "      <td>7</td>\n",
       "      <td>22877</td>\n",
       "      <td>Emma C. Cooke</td>\n",
       "      <td>F</td>\n",
       "      <td>55.0</td>\n",
       "      <td>NaN</td>\n",
       "      <td>NaN</td>\n",
       "      <td>United States</td>\n",
       "      <td>USA</td>\n",
       "      <td>1904 Summer</td>\n",
       "      <td>1904</td>\n",
       "      <td>Summer</td>\n",
       "      <td>St. Louis</td>\n",
       "      <td>Archery</td>\n",
       "      <td>Archery Women's Double National Round</td>\n",
       "      <td>Silver</td>\n",
       "      <td>USA</td>\n",
       "      <td>NaN</td>\n",
       "    </tr>\n",
       "  </tbody>\n",
       "</table>\n",
       "</div>"
      ],
      "text/plain": [
       "       ID                                     Name Sex   Age  Height  Weight  \\\n",
       "0   45286                  Letitia Marion Hamilton   F  69.0     NaN     NaN   \n",
       "1   95906  Lida Peyton \"Eliza\" Pollock (McMillen-)   F  63.0     NaN     NaN   \n",
       "2   95906  Lida Peyton \"Eliza\" Pollock (McMillen-)   F  63.0     NaN     NaN   \n",
       "3   95906  Lida Peyton \"Eliza\" Pollock (McMillen-)   F  63.0     NaN     NaN   \n",
       "4  131533                 Emily Woodruff (Smiley-)   F  58.0     NaN     NaN   \n",
       "5  106621  Margo Sybranda Everdina Scharten-Antink   F  58.0     NaN     NaN   \n",
       "6   22877                            Emma C. Cooke   F  55.0     NaN     NaN   \n",
       "7   22877                            Emma C. Cooke   F  55.0     NaN     NaN   \n",
       "\n",
       "                 Team  NOC        Games  Year  Season       City  \\\n",
       "0             Ireland  IRL  1948 Summer  1948  Summer     London   \n",
       "1       United States  USA  1904 Summer  1904  Summer  St. Louis   \n",
       "2       United States  USA  1904 Summer  1904  Summer  St. Louis   \n",
       "3  Cincinnati Archers  USA  1904 Summer  1904  Summer  St. Louis   \n",
       "4  Cincinnati Archers  USA  1904 Summer  1904  Summer  St. Louis   \n",
       "5         Netherlands  NED  1928 Summer  1928  Summer  Amsterdam   \n",
       "6       United States  USA  1904 Summer  1904  Summer  St. Louis   \n",
       "7       United States  USA  1904 Summer  1904  Summer  St. Louis   \n",
       "\n",
       "              Sport                                          Event   Medal  \\\n",
       "0  Art Competitions     Art Competitions Mixed Painting, Paintings  Bronze   \n",
       "1           Archery          Archery Women's Double Columbia Round  Bronze   \n",
       "2           Archery          Archery Women's Double National Round  Bronze   \n",
       "3           Archery                     Archery Women's Team Round    Gold   \n",
       "4           Archery                     Archery Women's Team Round    Gold   \n",
       "5  Art Competitions  Art Competitions Mixed Literature, Epic Works  Bronze   \n",
       "6           Archery          Archery Women's Double Columbia Round  Silver   \n",
       "7           Archery          Archery Women's Double National Round  Silver   \n",
       "\n",
       "        region notes  \n",
       "0      Ireland   NaN  \n",
       "1          USA   NaN  \n",
       "2          USA   NaN  \n",
       "3          USA   NaN  \n",
       "4          USA   NaN  \n",
       "5  Netherlands   NaN  \n",
       "6          USA   NaN  \n",
       "7          USA   NaN  "
      ]
     },
     "execution_count": 43,
     "metadata": {},
     "output_type": "execute_result"
    }
   ],
   "source": [
    "old_females"
   ]
  },
  {
   "cell_type": "code",
   "execution_count": 44,
   "metadata": {
    "ExecuteTime": {
     "end_time": "2019-09-19T17:23:00.998354Z",
     "start_time": "2019-09-19T17:23:00.883659Z"
    }
   },
   "outputs": [
    {
     "name": "stdout",
     "output_type": "stream",
     "text": [
      "Eldest Female Silver Medalist:\n",
      "Emma C. Cooke (55.0 F) from St. Louis, USA won Silver for Archery during 1904 Summer in St. Louis\n"
     ]
    }
   ],
   "source": [
    "print('Eldest Female Silver Medalist:')\n",
    "elaborate(old_females.iloc[6])"
   ]
  },
  {
   "cell_type": "code",
   "execution_count": 45,
   "metadata": {
    "ExecuteTime": {
     "end_time": "2019-09-19T17:23:01.121024Z",
     "start_time": "2019-09-19T17:23:01.001343Z"
    }
   },
   "outputs": [
    {
     "name": "stdout",
     "output_type": "stream",
     "text": [
      "Eldest Female Gold Medalist:\n",
      "Lida Peyton \"Eliza\" Pollock (McMillen-) (63.0 F) from St. Louis, USA won Gold for Archery during 1904 Summer in St. Louis\n"
     ]
    }
   ],
   "source": [
    "print('Eldest Female Gold Medalist:')\n",
    "elaborate(old_females.iloc[3])"
   ]
  },
  {
   "cell_type": "markdown",
   "metadata": {},
   "source": [
    "**MEDALS PER COUNTRY**"
   ]
  },
  {
   "cell_type": "code",
   "execution_count": 46,
   "metadata": {
    "ExecuteTime": {
     "end_time": "2019-09-19T17:23:01.302537Z",
     "start_time": "2019-09-19T17:23:01.124015Z"
    }
   },
   "outputs": [],
   "source": [
    "medals_country = pd.DataFrame(pd.pivot_table(data[data['Medal'].notna()], index='Team', columns='Medal', aggfunc='count', \n",
    "                                             values='ID'))\n",
    "medals_country.fillna(0,inplace=True)\n",
    "medals_country['Total'] = medals_country['Gold']+medals_country['Silver']+medals_country['Bronze']\n",
    "medals_country.sort_values('Total', inplace=True, ascending=False)"
   ]
  },
  {
   "cell_type": "code",
   "execution_count": 47,
   "metadata": {
    "ExecuteTime": {
     "end_time": "2019-09-19T17:23:01.398313Z",
     "start_time": "2019-09-19T17:23:01.304531Z"
    }
   },
   "outputs": [
    {
     "data": {
      "text/html": [
       "<div>\n",
       "<style scoped>\n",
       "    .dataframe tbody tr th:only-of-type {\n",
       "        vertical-align: middle;\n",
       "    }\n",
       "\n",
       "    .dataframe tbody tr th {\n",
       "        vertical-align: top;\n",
       "    }\n",
       "\n",
       "    .dataframe thead th {\n",
       "        text-align: right;\n",
       "    }\n",
       "</style>\n",
       "<table border=\"1\" class=\"dataframe\">\n",
       "  <thead>\n",
       "    <tr style=\"text-align: right;\">\n",
       "      <th>Medal</th>\n",
       "      <th>Team</th>\n",
       "      <th>Bronze</th>\n",
       "      <th>Gold</th>\n",
       "      <th>Silver</th>\n",
       "      <th>Total</th>\n",
       "    </tr>\n",
       "  </thead>\n",
       "  <tbody>\n",
       "    <tr>\n",
       "      <td>0</td>\n",
       "      <td>United States</td>\n",
       "      <td>1233.0</td>\n",
       "      <td>2474.0</td>\n",
       "      <td>1512.0</td>\n",
       "      <td>5219.0</td>\n",
       "    </tr>\n",
       "    <tr>\n",
       "      <td>1</td>\n",
       "      <td>Soviet Union</td>\n",
       "      <td>677.0</td>\n",
       "      <td>1058.0</td>\n",
       "      <td>716.0</td>\n",
       "      <td>2451.0</td>\n",
       "    </tr>\n",
       "    <tr>\n",
       "      <td>2</td>\n",
       "      <td>Germany</td>\n",
       "      <td>678.0</td>\n",
       "      <td>679.0</td>\n",
       "      <td>627.0</td>\n",
       "      <td>1984.0</td>\n",
       "    </tr>\n",
       "    <tr>\n",
       "      <td>3</td>\n",
       "      <td>Great Britain</td>\n",
       "      <td>572.0</td>\n",
       "      <td>519.0</td>\n",
       "      <td>582.0</td>\n",
       "      <td>1673.0</td>\n",
       "    </tr>\n",
       "    <tr>\n",
       "      <td>4</td>\n",
       "      <td>France</td>\n",
       "      <td>577.0</td>\n",
       "      <td>455.0</td>\n",
       "      <td>518.0</td>\n",
       "      <td>1550.0</td>\n",
       "    </tr>\n",
       "    <tr>\n",
       "      <td>...</td>\n",
       "      <td>...</td>\n",
       "      <td>...</td>\n",
       "      <td>...</td>\n",
       "      <td>...</td>\n",
       "      <td>...</td>\n",
       "    </tr>\n",
       "    <tr>\n",
       "      <td>493</td>\n",
       "      <td>Djibouti</td>\n",
       "      <td>1.0</td>\n",
       "      <td>0.0</td>\n",
       "      <td>0.0</td>\n",
       "      <td>1.0</td>\n",
       "    </tr>\n",
       "    <tr>\n",
       "      <td>494</td>\n",
       "      <td>Guyana</td>\n",
       "      <td>1.0</td>\n",
       "      <td>0.0</td>\n",
       "      <td>0.0</td>\n",
       "      <td>1.0</td>\n",
       "    </tr>\n",
       "    <tr>\n",
       "      <td>495</td>\n",
       "      <td>Potsdam</td>\n",
       "      <td>1.0</td>\n",
       "      <td>0.0</td>\n",
       "      <td>0.0</td>\n",
       "      <td>1.0</td>\n",
       "    </tr>\n",
       "    <tr>\n",
       "      <td>496</td>\n",
       "      <td>Bonaparte</td>\n",
       "      <td>0.0</td>\n",
       "      <td>1.0</td>\n",
       "      <td>0.0</td>\n",
       "      <td>1.0</td>\n",
       "    </tr>\n",
       "    <tr>\n",
       "      <td>497</td>\n",
       "      <td>Mignon-3</td>\n",
       "      <td>1.0</td>\n",
       "      <td>0.0</td>\n",
       "      <td>0.0</td>\n",
       "      <td>1.0</td>\n",
       "    </tr>\n",
       "  </tbody>\n",
       "</table>\n",
       "<p>498 rows × 5 columns</p>\n",
       "</div>"
      ],
      "text/plain": [
       "Medal           Team  Bronze    Gold  Silver   Total\n",
       "0      United States  1233.0  2474.0  1512.0  5219.0\n",
       "1       Soviet Union   677.0  1058.0   716.0  2451.0\n",
       "2            Germany   678.0   679.0   627.0  1984.0\n",
       "3      Great Britain   572.0   519.0   582.0  1673.0\n",
       "4             France   577.0   455.0   518.0  1550.0\n",
       "..               ...     ...     ...     ...     ...\n",
       "493         Djibouti     1.0     0.0     0.0     1.0\n",
       "494           Guyana     1.0     0.0     0.0     1.0\n",
       "495          Potsdam     1.0     0.0     0.0     1.0\n",
       "496        Bonaparte     0.0     1.0     0.0     1.0\n",
       "497         Mignon-3     1.0     0.0     0.0     1.0\n",
       "\n",
       "[498 rows x 5 columns]"
      ]
     },
     "execution_count": 47,
     "metadata": {},
     "output_type": "execute_result"
    }
   ],
   "source": [
    "medals_country.reset_index()"
   ]
  },
  {
   "cell_type": "code",
   "execution_count": 48,
   "metadata": {
    "ExecuteTime": {
     "end_time": "2019-09-19T17:23:01.996681Z",
     "start_time": "2019-09-19T17:23:01.401273Z"
    }
   },
   "outputs": [
    {
     "data": {
      "image/png": "[encoded data removed]",
      "text/plain": [
       "<Figure size 1440x576 with 2 Axes>"
      ]
     },
     "metadata": {
      "needs_background": "light"
     },
     "output_type": "display_data"
    }
   ],
   "source": [
    "fig, ax1 = plt.subplots()\n",
    "\n",
    "ax1.set_xlabel('Team')\n",
    "ax1.set_ylabel('count')\n",
    "medals_country.drop(['Total'], axis=1).head(10).plot.bar(title='Top 10 Countries', figsize=(20,8), grid=True, ax=ax1)\n",
    "\n",
    "ax2 = ax1.twinx()\n",
    "\n",
    "color = 'tab:blue'\n",
    "ax2.set_ylabel('count', color=color)\n",
    "medals_country.head(10)['Total'].plot.line(title='Top 10 Countries', figsize=(20,8), grid=True, ax=ax2)\n",
    "ax2.tick_params(axis='y', labelcolor=color)\n",
    "\n",
    "fig.tight_layout()\n",
    "plt.show()"
   ]
  },
  {
   "cell_type": "code",
   "execution_count": 49,
   "metadata": {
    "ExecuteTime": {
     "end_time": "2019-09-19T17:23:02.017626Z",
     "start_time": "2019-09-19T17:23:01.999675Z"
    }
   },
   "outputs": [
    {
     "name": "stdout",
     "output_type": "stream",
     "text": [
      "India's Position: "
     ]
    },
    {
     "data": {
      "text/plain": [
       "34"
      ]
     },
     "execution_count": 49,
     "metadata": {},
     "output_type": "execute_result"
    }
   ],
   "source": [
    "print(\"India's Position: \", end='')\n",
    "medals_country = medals_country.reset_index()\n",
    "medals_country[medals_country['Team'] == 'India'].index[0]"
   ]
  },
  {
   "cell_type": "markdown",
   "metadata": {},
   "source": [
    "**INDIA'S MEDAL BREAKUP**"
   ]
  },
  {
   "cell_type": "code",
   "execution_count": 50,
   "metadata": {
    "ExecuteTime": {
     "end_time": "2019-09-19T17:23:02.170216Z",
     "start_time": "2019-09-19T17:23:02.020618Z"
    }
   },
   "outputs": [],
   "source": [
    "india = data[(data['Medal'].notna()) & (data['Team'] == 'India')]"
   ]
  },
  {
   "cell_type": "code",
   "execution_count": 51,
   "metadata": {
    "ExecuteTime": {
     "end_time": "2019-09-19T17:23:02.288901Z",
     "start_time": "2019-09-19T17:23:02.173210Z"
    }
   },
   "outputs": [
    {
     "name": "stdout",
     "output_type": "stream",
     "text": [
      "Indian's have won 197 medals\n"
     ]
    }
   ],
   "source": [
    "print(f'Indian\\'s have won {len(india)} medals')"
   ]
  },
  {
   "cell_type": "code",
   "execution_count": 52,
   "metadata": {
    "ExecuteTime": {
     "end_time": "2019-09-19T17:23:02.428526Z",
     "start_time": "2019-09-19T17:23:02.291891Z"
    }
   },
   "outputs": [
    {
     "data": {
      "text/html": [
       "<div>\n",
       "<style scoped>\n",
       "    .dataframe tbody tr th:only-of-type {\n",
       "        vertical-align: middle;\n",
       "    }\n",
       "\n",
       "    .dataframe tbody tr th {\n",
       "        vertical-align: top;\n",
       "    }\n",
       "\n",
       "    .dataframe thead th {\n",
       "        text-align: right;\n",
       "    }\n",
       "</style>\n",
       "<table border=\"1\" class=\"dataframe\">\n",
       "  <thead>\n",
       "    <tr style=\"text-align: right;\">\n",
       "      <th></th>\n",
       "      <th>ID</th>\n",
       "      <th>Name</th>\n",
       "      <th>Sex</th>\n",
       "      <th>Age</th>\n",
       "      <th>Height</th>\n",
       "      <th>Weight</th>\n",
       "      <th>Team</th>\n",
       "      <th>NOC</th>\n",
       "      <th>Games</th>\n",
       "      <th>Year</th>\n",
       "      <th>Season</th>\n",
       "      <th>City</th>\n",
       "      <th>Sport</th>\n",
       "      <th>Event</th>\n",
       "      <th>Medal</th>\n",
       "      <th>region</th>\n",
       "      <th>notes</th>\n",
       "    </tr>\n",
       "  </thead>\n",
       "  <tbody>\n",
       "    <tr>\n",
       "      <td>4732</td>\n",
       "      <td>2699</td>\n",
       "      <td>Shaukat Ali</td>\n",
       "      <td>M</td>\n",
       "      <td>30.0</td>\n",
       "      <td>NaN</td>\n",
       "      <td>NaN</td>\n",
       "      <td>India</td>\n",
       "      <td>IND</td>\n",
       "      <td>1928 Summer</td>\n",
       "      <td>1928</td>\n",
       "      <td>Summer</td>\n",
       "      <td>Amsterdam</td>\n",
       "      <td>Hockey</td>\n",
       "      <td>Hockey Men's Hockey</td>\n",
       "      <td>Gold</td>\n",
       "      <td>India</td>\n",
       "      <td>NaN</td>\n",
       "    </tr>\n",
       "    <tr>\n",
       "      <td>4736</td>\n",
       "      <td>2703</td>\n",
       "      <td>Syed Mushtaq Ali</td>\n",
       "      <td>M</td>\n",
       "      <td>22.0</td>\n",
       "      <td>165.0</td>\n",
       "      <td>61.0</td>\n",
       "      <td>India</td>\n",
       "      <td>IND</td>\n",
       "      <td>1964 Summer</td>\n",
       "      <td>1964</td>\n",
       "      <td>Summer</td>\n",
       "      <td>Tokyo</td>\n",
       "      <td>Hockey</td>\n",
       "      <td>Hockey Men's Hockey</td>\n",
       "      <td>Gold</td>\n",
       "      <td>India</td>\n",
       "      <td>NaN</td>\n",
       "    </tr>\n",
       "    <tr>\n",
       "      <td>5032</td>\n",
       "      <td>2864</td>\n",
       "      <td>Richard James Allen</td>\n",
       "      <td>M</td>\n",
       "      <td>25.0</td>\n",
       "      <td>172.0</td>\n",
       "      <td>NaN</td>\n",
       "      <td>India</td>\n",
       "      <td>IND</td>\n",
       "      <td>1928 Summer</td>\n",
       "      <td>1928</td>\n",
       "      <td>Summer</td>\n",
       "      <td>Amsterdam</td>\n",
       "      <td>Hockey</td>\n",
       "      <td>Hockey Men's Hockey</td>\n",
       "      <td>Gold</td>\n",
       "      <td>India</td>\n",
       "      <td>NaN</td>\n",
       "    </tr>\n",
       "    <tr>\n",
       "      <td>5033</td>\n",
       "      <td>2864</td>\n",
       "      <td>Richard James Allen</td>\n",
       "      <td>M</td>\n",
       "      <td>30.0</td>\n",
       "      <td>172.0</td>\n",
       "      <td>NaN</td>\n",
       "      <td>India</td>\n",
       "      <td>IND</td>\n",
       "      <td>1932 Summer</td>\n",
       "      <td>1932</td>\n",
       "      <td>Summer</td>\n",
       "      <td>Los Angeles</td>\n",
       "      <td>Hockey</td>\n",
       "      <td>Hockey Men's Hockey</td>\n",
       "      <td>Gold</td>\n",
       "      <td>India</td>\n",
       "      <td>NaN</td>\n",
       "    </tr>\n",
       "    <tr>\n",
       "      <td>5034</td>\n",
       "      <td>2864</td>\n",
       "      <td>Richard James Allen</td>\n",
       "      <td>M</td>\n",
       "      <td>34.0</td>\n",
       "      <td>172.0</td>\n",
       "      <td>NaN</td>\n",
       "      <td>India</td>\n",
       "      <td>IND</td>\n",
       "      <td>1936 Summer</td>\n",
       "      <td>1936</td>\n",
       "      <td>Summer</td>\n",
       "      <td>Berlin</td>\n",
       "      <td>Hockey</td>\n",
       "      <td>Hockey Men's Hockey</td>\n",
       "      <td>Gold</td>\n",
       "      <td>India</td>\n",
       "      <td>NaN</td>\n",
       "    </tr>\n",
       "    <tr>\n",
       "      <td>...</td>\n",
       "      <td>...</td>\n",
       "      <td>...</td>\n",
       "      <td>...</td>\n",
       "      <td>...</td>\n",
       "      <td>...</td>\n",
       "      <td>...</td>\n",
       "      <td>...</td>\n",
       "      <td>...</td>\n",
       "      <td>...</td>\n",
       "      <td>...</td>\n",
       "      <td>...</td>\n",
       "      <td>...</td>\n",
       "      <td>...</td>\n",
       "      <td>...</td>\n",
       "      <td>...</td>\n",
       "      <td>...</td>\n",
       "      <td>...</td>\n",
       "    </tr>\n",
       "    <tr>\n",
       "      <td>233749</td>\n",
       "      <td>117232</td>\n",
       "      <td>Dung Dung Sylvanus</td>\n",
       "      <td>M</td>\n",
       "      <td>31.0</td>\n",
       "      <td>160.0</td>\n",
       "      <td>62.0</td>\n",
       "      <td>India</td>\n",
       "      <td>IND</td>\n",
       "      <td>1980 Summer</td>\n",
       "      <td>1980</td>\n",
       "      <td>Summer</td>\n",
       "      <td>Moskva</td>\n",
       "      <td>Hockey</td>\n",
       "      <td>Hockey Men's Hockey</td>\n",
       "      <td>Gold</td>\n",
       "      <td>India</td>\n",
       "      <td>NaN</td>\n",
       "    </tr>\n",
       "    <tr>\n",
       "      <td>236445</td>\n",
       "      <td>118553</td>\n",
       "      <td>Carlyle Carrol Tapsell</td>\n",
       "      <td>M</td>\n",
       "      <td>23.0</td>\n",
       "      <td>182.0</td>\n",
       "      <td>NaN</td>\n",
       "      <td>India</td>\n",
       "      <td>IND</td>\n",
       "      <td>1932 Summer</td>\n",
       "      <td>1932</td>\n",
       "      <td>Summer</td>\n",
       "      <td>Los Angeles</td>\n",
       "      <td>Hockey</td>\n",
       "      <td>Hockey Men's Hockey</td>\n",
       "      <td>Gold</td>\n",
       "      <td>India</td>\n",
       "      <td>NaN</td>\n",
       "    </tr>\n",
       "    <tr>\n",
       "      <td>236446</td>\n",
       "      <td>118553</td>\n",
       "      <td>Carlyle Carrol Tapsell</td>\n",
       "      <td>M</td>\n",
       "      <td>27.0</td>\n",
       "      <td>182.0</td>\n",
       "      <td>NaN</td>\n",
       "      <td>India</td>\n",
       "      <td>IND</td>\n",
       "      <td>1936 Summer</td>\n",
       "      <td>1936</td>\n",
       "      <td>Summer</td>\n",
       "      <td>Berlin</td>\n",
       "      <td>Hockey</td>\n",
       "      <td>Hockey Men's Hockey</td>\n",
       "      <td>Gold</td>\n",
       "      <td>India</td>\n",
       "      <td>NaN</td>\n",
       "    </tr>\n",
       "    <tr>\n",
       "      <td>250689</td>\n",
       "      <td>125560</td>\n",
       "      <td>Max \"Maxie\" Vaz</td>\n",
       "      <td>M</td>\n",
       "      <td>NaN</td>\n",
       "      <td>NaN</td>\n",
       "      <td>NaN</td>\n",
       "      <td>India</td>\n",
       "      <td>IND</td>\n",
       "      <td>1948 Summer</td>\n",
       "      <td>1948</td>\n",
       "      <td>Summer</td>\n",
       "      <td>London</td>\n",
       "      <td>Hockey</td>\n",
       "      <td>Hockey Men's Hockey</td>\n",
       "      <td>Gold</td>\n",
       "      <td>India</td>\n",
       "      <td>NaN</td>\n",
       "    </tr>\n",
       "    <tr>\n",
       "      <td>266934</td>\n",
       "      <td>133554</td>\n",
       "      <td>Sayed Muhammad Yusuf</td>\n",
       "      <td>M</td>\n",
       "      <td>NaN</td>\n",
       "      <td>NaN</td>\n",
       "      <td>NaN</td>\n",
       "      <td>India</td>\n",
       "      <td>IND</td>\n",
       "      <td>1928 Summer</td>\n",
       "      <td>1928</td>\n",
       "      <td>Summer</td>\n",
       "      <td>Amsterdam</td>\n",
       "      <td>Hockey</td>\n",
       "      <td>Hockey Men's Hockey</td>\n",
       "      <td>Gold</td>\n",
       "      <td>India</td>\n",
       "      <td>NaN</td>\n",
       "    </tr>\n",
       "  </tbody>\n",
       "</table>\n",
       "<p>197 rows × 17 columns</p>\n",
       "</div>"
      ],
      "text/plain": [
       "            ID                    Name Sex   Age  Height  Weight   Team  NOC  \\\n",
       "4732      2699             Shaukat Ali   M  30.0     NaN     NaN  India  IND   \n",
       "4736      2703        Syed Mushtaq Ali   M  22.0   165.0    61.0  India  IND   \n",
       "5032      2864     Richard James Allen   M  25.0   172.0     NaN  India  IND   \n",
       "5033      2864     Richard James Allen   M  30.0   172.0     NaN  India  IND   \n",
       "5034      2864     Richard James Allen   M  34.0   172.0     NaN  India  IND   \n",
       "...        ...                     ...  ..   ...     ...     ...    ...  ...   \n",
       "233749  117232      Dung Dung Sylvanus   M  31.0   160.0    62.0  India  IND   \n",
       "236445  118553  Carlyle Carrol Tapsell   M  23.0   182.0     NaN  India  IND   \n",
       "236446  118553  Carlyle Carrol Tapsell   M  27.0   182.0     NaN  India  IND   \n",
       "250689  125560         Max \"Maxie\" Vaz   M   NaN     NaN     NaN  India  IND   \n",
       "266934  133554    Sayed Muhammad Yusuf   M   NaN     NaN     NaN  India  IND   \n",
       "\n",
       "              Games  Year  Season         City   Sport                Event  \\\n",
       "4732    1928 Summer  1928  Summer    Amsterdam  Hockey  Hockey Men's Hockey   \n",
       "4736    1964 Summer  1964  Summer        Tokyo  Hockey  Hockey Men's Hockey   \n",
       "5032    1928 Summer  1928  Summer    Amsterdam  Hockey  Hockey Men's Hockey   \n",
       "5033    1932 Summer  1932  Summer  Los Angeles  Hockey  Hockey Men's Hockey   \n",
       "5034    1936 Summer  1936  Summer       Berlin  Hockey  Hockey Men's Hockey   \n",
       "...             ...   ...     ...          ...     ...                  ...   \n",
       "233749  1980 Summer  1980  Summer       Moskva  Hockey  Hockey Men's Hockey   \n",
       "236445  1932 Summer  1932  Summer  Los Angeles  Hockey  Hockey Men's Hockey   \n",
       "236446  1936 Summer  1936  Summer       Berlin  Hockey  Hockey Men's Hockey   \n",
       "250689  1948 Summer  1948  Summer       London  Hockey  Hockey Men's Hockey   \n",
       "266934  1928 Summer  1928  Summer    Amsterdam  Hockey  Hockey Men's Hockey   \n",
       "\n",
       "       Medal region notes  \n",
       "4732    Gold  India   NaN  \n",
       "4736    Gold  India   NaN  \n",
       "5032    Gold  India   NaN  \n",
       "5033    Gold  India   NaN  \n",
       "5034    Gold  India   NaN  \n",
       "...      ...    ...   ...  \n",
       "233749  Gold  India   NaN  \n",
       "236445  Gold  India   NaN  \n",
       "236446  Gold  India   NaN  \n",
       "250689  Gold  India   NaN  \n",
       "266934  Gold  India   NaN  \n",
       "\n",
       "[197 rows x 17 columns]"
      ]
     },
     "execution_count": 52,
     "metadata": {},
     "output_type": "execute_result"
    }
   ],
   "source": [
    "india"
   ]
  },
  {
   "cell_type": "code",
   "execution_count": 53,
   "metadata": {
    "ExecuteTime": {
     "end_time": "2019-09-19T17:23:02.568152Z",
     "start_time": "2019-09-19T17:23:02.431519Z"
    }
   },
   "outputs": [],
   "source": [
    "india_sports = pd.pivot_table(india, index='Sport', columns='Medal', aggfunc='count', values='ID').fillna(0)"
   ]
  },
  {
   "cell_type": "code",
   "execution_count": 54,
   "metadata": {
    "ExecuteTime": {
     "end_time": "2019-09-19T17:23:02.692853Z",
     "start_time": "2019-09-19T17:23:02.570148Z"
    }
   },
   "outputs": [
    {
     "data": {
      "text/html": [
       "<div>\n",
       "<style scoped>\n",
       "    .dataframe tbody tr th:only-of-type {\n",
       "        vertical-align: middle;\n",
       "    }\n",
       "\n",
       "    .dataframe tbody tr th {\n",
       "        vertical-align: top;\n",
       "    }\n",
       "\n",
       "    .dataframe thead th {\n",
       "        text-align: right;\n",
       "    }\n",
       "</style>\n",
       "<table border=\"1\" class=\"dataframe\">\n",
       "  <thead>\n",
       "    <tr style=\"text-align: right;\">\n",
       "      <th>Medal</th>\n",
       "      <th>Bronze</th>\n",
       "      <th>Gold</th>\n",
       "      <th>Silver</th>\n",
       "    </tr>\n",
       "    <tr>\n",
       "      <th>Sport</th>\n",
       "      <th></th>\n",
       "      <th></th>\n",
       "      <th></th>\n",
       "    </tr>\n",
       "  </thead>\n",
       "  <tbody>\n",
       "    <tr>\n",
       "      <td>Alpinism</td>\n",
       "      <td>0.0</td>\n",
       "      <td>7.0</td>\n",
       "      <td>0.0</td>\n",
       "    </tr>\n",
       "    <tr>\n",
       "      <td>Athletics</td>\n",
       "      <td>0.0</td>\n",
       "      <td>0.0</td>\n",
       "      <td>2.0</td>\n",
       "    </tr>\n",
       "    <tr>\n",
       "      <td>Badminton</td>\n",
       "      <td>1.0</td>\n",
       "      <td>0.0</td>\n",
       "      <td>1.0</td>\n",
       "    </tr>\n",
       "    <tr>\n",
       "      <td>Boxing</td>\n",
       "      <td>2.0</td>\n",
       "      <td>0.0</td>\n",
       "      <td>0.0</td>\n",
       "    </tr>\n",
       "    <tr>\n",
       "      <td>Hockey</td>\n",
       "      <td>30.0</td>\n",
       "      <td>130.0</td>\n",
       "      <td>13.0</td>\n",
       "    </tr>\n",
       "    <tr>\n",
       "      <td>Shooting</td>\n",
       "      <td>1.0</td>\n",
       "      <td>1.0</td>\n",
       "      <td>2.0</td>\n",
       "    </tr>\n",
       "    <tr>\n",
       "      <td>Tennis</td>\n",
       "      <td>1.0</td>\n",
       "      <td>0.0</td>\n",
       "      <td>0.0</td>\n",
       "    </tr>\n",
       "    <tr>\n",
       "      <td>Weightlifting</td>\n",
       "      <td>1.0</td>\n",
       "      <td>0.0</td>\n",
       "      <td>0.0</td>\n",
       "    </tr>\n",
       "    <tr>\n",
       "      <td>Wrestling</td>\n",
       "      <td>4.0</td>\n",
       "      <td>0.0</td>\n",
       "      <td>1.0</td>\n",
       "    </tr>\n",
       "  </tbody>\n",
       "</table>\n",
       "</div>"
      ],
      "text/plain": [
       "Medal          Bronze   Gold  Silver\n",
       "Sport                               \n",
       "Alpinism          0.0    7.0     0.0\n",
       "Athletics         0.0    0.0     2.0\n",
       "Badminton         1.0    0.0     1.0\n",
       "Boxing            2.0    0.0     0.0\n",
       "Hockey           30.0  130.0    13.0\n",
       "Shooting          1.0    1.0     2.0\n",
       "Tennis            1.0    0.0     0.0\n",
       "Weightlifting     1.0    0.0     0.0\n",
       "Wrestling         4.0    0.0     1.0"
      ]
     },
     "execution_count": 54,
     "metadata": {},
     "output_type": "execute_result"
    }
   ],
   "source": [
    "india_sports"
   ]
  },
  {
   "cell_type": "code",
   "execution_count": 55,
   "metadata": {
    "ExecuteTime": {
     "end_time": "2019-09-19T17:23:03.230381Z",
     "start_time": "2019-09-19T17:23:02.694815Z"
    }
   },
   "outputs": [
    {
     "data": {
      "text/plain": [
       "<matplotlib.axes._subplots.AxesSubplot at 0x1e1bda4d518>"
      ]
     },
     "execution_count": 55,
     "metadata": {},
     "output_type": "execute_result"
    },
    {
     "data": {
      "image/png": "[encoded data removed]",
      "text/plain": [
       "<Figure size 1296x576 with 1 Axes>"
      ]
     },
     "metadata": {
      "needs_background": "light"
     },
     "output_type": "display_data"
    }
   ],
   "source": [
    "india_sports.plot.bar(figsize=(18,8), title=\"India In Various Sports\", grid=True)"
   ]
  },
  {
   "cell_type": "code",
   "execution_count": 56,
   "metadata": {
    "ExecuteTime": {
     "end_time": "2019-09-19T17:23:03.259340Z",
     "start_time": "2019-09-19T17:23:03.233376Z"
    }
   },
   "outputs": [],
   "source": [
    "india_years = pd.pivot_table(india, index='Year', columns='Medal', aggfunc='count', values='ID').fillna(0)"
   ]
  },
  {
   "cell_type": "code",
   "execution_count": 57,
   "metadata": {
    "ExecuteTime": {
     "end_time": "2019-09-19T17:23:03.403949Z",
     "start_time": "2019-09-19T17:23:03.262298Z"
    }
   },
   "outputs": [
    {
     "data": {
      "text/html": [
       "<div>\n",
       "<style scoped>\n",
       "    .dataframe tbody tr th:only-of-type {\n",
       "        vertical-align: middle;\n",
       "    }\n",
       "\n",
       "    .dataframe tbody tr th {\n",
       "        vertical-align: top;\n",
       "    }\n",
       "\n",
       "    .dataframe thead th {\n",
       "        text-align: right;\n",
       "    }\n",
       "</style>\n",
       "<table border=\"1\" class=\"dataframe\">\n",
       "  <thead>\n",
       "    <tr style=\"text-align: right;\">\n",
       "      <th>Medal</th>\n",
       "      <th>Bronze</th>\n",
       "      <th>Gold</th>\n",
       "      <th>Silver</th>\n",
       "    </tr>\n",
       "    <tr>\n",
       "      <th>Year</th>\n",
       "      <th></th>\n",
       "      <th></th>\n",
       "      <th></th>\n",
       "    </tr>\n",
       "  </thead>\n",
       "  <tbody>\n",
       "    <tr>\n",
       "      <td>1900</td>\n",
       "      <td>0.0</td>\n",
       "      <td>0.0</td>\n",
       "      <td>2.0</td>\n",
       "    </tr>\n",
       "    <tr>\n",
       "      <td>1924</td>\n",
       "      <td>0.0</td>\n",
       "      <td>7.0</td>\n",
       "      <td>0.0</td>\n",
       "    </tr>\n",
       "    <tr>\n",
       "      <td>1928</td>\n",
       "      <td>0.0</td>\n",
       "      <td>14.0</td>\n",
       "      <td>0.0</td>\n",
       "    </tr>\n",
       "    <tr>\n",
       "      <td>1932</td>\n",
       "      <td>0.0</td>\n",
       "      <td>15.0</td>\n",
       "      <td>0.0</td>\n",
       "    </tr>\n",
       "    <tr>\n",
       "      <td>1936</td>\n",
       "      <td>0.0</td>\n",
       "      <td>19.0</td>\n",
       "      <td>0.0</td>\n",
       "    </tr>\n",
       "    <tr>\n",
       "      <td>1948</td>\n",
       "      <td>0.0</td>\n",
       "      <td>20.0</td>\n",
       "      <td>0.0</td>\n",
       "    </tr>\n",
       "    <tr>\n",
       "      <td>1952</td>\n",
       "      <td>1.0</td>\n",
       "      <td>14.0</td>\n",
       "      <td>0.0</td>\n",
       "    </tr>\n",
       "    <tr>\n",
       "      <td>1956</td>\n",
       "      <td>0.0</td>\n",
       "      <td>17.0</td>\n",
       "      <td>0.0</td>\n",
       "    </tr>\n",
       "    <tr>\n",
       "      <td>1960</td>\n",
       "      <td>0.0</td>\n",
       "      <td>0.0</td>\n",
       "      <td>13.0</td>\n",
       "    </tr>\n",
       "    <tr>\n",
       "      <td>1964</td>\n",
       "      <td>0.0</td>\n",
       "      <td>15.0</td>\n",
       "      <td>0.0</td>\n",
       "    </tr>\n",
       "    <tr>\n",
       "      <td>1968</td>\n",
       "      <td>16.0</td>\n",
       "      <td>0.0</td>\n",
       "      <td>0.0</td>\n",
       "    </tr>\n",
       "    <tr>\n",
       "      <td>1972</td>\n",
       "      <td>14.0</td>\n",
       "      <td>0.0</td>\n",
       "      <td>0.0</td>\n",
       "    </tr>\n",
       "    <tr>\n",
       "      <td>1980</td>\n",
       "      <td>0.0</td>\n",
       "      <td>16.0</td>\n",
       "      <td>0.0</td>\n",
       "    </tr>\n",
       "    <tr>\n",
       "      <td>1996</td>\n",
       "      <td>1.0</td>\n",
       "      <td>0.0</td>\n",
       "      <td>0.0</td>\n",
       "    </tr>\n",
       "    <tr>\n",
       "      <td>2000</td>\n",
       "      <td>1.0</td>\n",
       "      <td>0.0</td>\n",
       "      <td>0.0</td>\n",
       "    </tr>\n",
       "    <tr>\n",
       "      <td>2004</td>\n",
       "      <td>0.0</td>\n",
       "      <td>0.0</td>\n",
       "      <td>1.0</td>\n",
       "    </tr>\n",
       "    <tr>\n",
       "      <td>2008</td>\n",
       "      <td>2.0</td>\n",
       "      <td>1.0</td>\n",
       "      <td>0.0</td>\n",
       "    </tr>\n",
       "    <tr>\n",
       "      <td>2012</td>\n",
       "      <td>4.0</td>\n",
       "      <td>0.0</td>\n",
       "      <td>2.0</td>\n",
       "    </tr>\n",
       "    <tr>\n",
       "      <td>2016</td>\n",
       "      <td>1.0</td>\n",
       "      <td>0.0</td>\n",
       "      <td>1.0</td>\n",
       "    </tr>\n",
       "  </tbody>\n",
       "</table>\n",
       "</div>"
      ],
      "text/plain": [
       "Medal  Bronze  Gold  Silver\n",
       "Year                       \n",
       "1900      0.0   0.0     2.0\n",
       "1924      0.0   7.0     0.0\n",
       "1928      0.0  14.0     0.0\n",
       "1932      0.0  15.0     0.0\n",
       "1936      0.0  19.0     0.0\n",
       "1948      0.0  20.0     0.0\n",
       "1952      1.0  14.0     0.0\n",
       "1956      0.0  17.0     0.0\n",
       "1960      0.0   0.0    13.0\n",
       "1964      0.0  15.0     0.0\n",
       "1968     16.0   0.0     0.0\n",
       "1972     14.0   0.0     0.0\n",
       "1980      0.0  16.0     0.0\n",
       "1996      1.0   0.0     0.0\n",
       "2000      1.0   0.0     0.0\n",
       "2004      0.0   0.0     1.0\n",
       "2008      2.0   1.0     0.0\n",
       "2012      4.0   0.0     2.0\n",
       "2016      1.0   0.0     1.0"
      ]
     },
     "execution_count": 57,
     "metadata": {},
     "output_type": "execute_result"
    }
   ],
   "source": [
    "india_years"
   ]
  },
  {
   "cell_type": "code",
   "execution_count": 58,
   "metadata": {
    "ExecuteTime": {
     "end_time": "2019-09-19T17:23:04.036228Z",
     "start_time": "2019-09-19T17:23:03.406912Z"
    }
   },
   "outputs": [
    {
     "data": {
      "text/plain": [
       "<matplotlib.axes._subplots.AxesSubplot at 0x1e1bdb1a7b8>"
      ]
     },
     "execution_count": 58,
     "metadata": {},
     "output_type": "execute_result"
    },
    {
     "data": {
      "image/png": "[encoded data removed]",
      "text/plain": [
       "<Figure size 1296x576 with 1 Axes>"
      ]
     },
     "metadata": {
      "needs_background": "light"
     },
     "output_type": "display_data"
    }
   ],
   "source": [
    "india_years.plot.bar(figsize=(18,8), title=\"India Over the Years\", grid=True)"
   ]
  },
  {
   "cell_type": "code",
   "execution_count": 59,
   "metadata": {
    "ExecuteTime": {
     "end_time": "2019-09-19T17:23:04.065150Z",
     "start_time": "2019-09-19T17:23:04.039222Z"
    }
   },
   "outputs": [],
   "source": [
    "india_hockey = pd.pivot_table(india[india['Sport'] == 'Hockey'], index='Year',\n",
    "                              columns='Medal', aggfunc='count', values='ID').fillna(0)"
   ]
  },
  {
   "cell_type": "code",
   "execution_count": 60,
   "metadata": {
    "ExecuteTime": {
     "end_time": "2019-09-19T17:23:04.190820Z",
     "start_time": "2019-09-19T17:23:04.069141Z"
    }
   },
   "outputs": [
    {
     "data": {
      "text/html": [
       "<div>\n",
       "<style scoped>\n",
       "    .dataframe tbody tr th:only-of-type {\n",
       "        vertical-align: middle;\n",
       "    }\n",
       "\n",
       "    .dataframe tbody tr th {\n",
       "        vertical-align: top;\n",
       "    }\n",
       "\n",
       "    .dataframe thead th {\n",
       "        text-align: right;\n",
       "    }\n",
       "</style>\n",
       "<table border=\"1\" class=\"dataframe\">\n",
       "  <thead>\n",
       "    <tr style=\"text-align: right;\">\n",
       "      <th>Medal</th>\n",
       "      <th>Bronze</th>\n",
       "      <th>Gold</th>\n",
       "      <th>Silver</th>\n",
       "    </tr>\n",
       "    <tr>\n",
       "      <th>Year</th>\n",
       "      <th></th>\n",
       "      <th></th>\n",
       "      <th></th>\n",
       "    </tr>\n",
       "  </thead>\n",
       "  <tbody>\n",
       "    <tr>\n",
       "      <td>1928</td>\n",
       "      <td>0.0</td>\n",
       "      <td>14.0</td>\n",
       "      <td>0.0</td>\n",
       "    </tr>\n",
       "    <tr>\n",
       "      <td>1932</td>\n",
       "      <td>0.0</td>\n",
       "      <td>15.0</td>\n",
       "      <td>0.0</td>\n",
       "    </tr>\n",
       "    <tr>\n",
       "      <td>1936</td>\n",
       "      <td>0.0</td>\n",
       "      <td>19.0</td>\n",
       "      <td>0.0</td>\n",
       "    </tr>\n",
       "    <tr>\n",
       "      <td>1948</td>\n",
       "      <td>0.0</td>\n",
       "      <td>20.0</td>\n",
       "      <td>0.0</td>\n",
       "    </tr>\n",
       "    <tr>\n",
       "      <td>1952</td>\n",
       "      <td>0.0</td>\n",
       "      <td>14.0</td>\n",
       "      <td>0.0</td>\n",
       "    </tr>\n",
       "    <tr>\n",
       "      <td>1956</td>\n",
       "      <td>0.0</td>\n",
       "      <td>17.0</td>\n",
       "      <td>0.0</td>\n",
       "    </tr>\n",
       "    <tr>\n",
       "      <td>1960</td>\n",
       "      <td>0.0</td>\n",
       "      <td>0.0</td>\n",
       "      <td>13.0</td>\n",
       "    </tr>\n",
       "    <tr>\n",
       "      <td>1964</td>\n",
       "      <td>0.0</td>\n",
       "      <td>15.0</td>\n",
       "      <td>0.0</td>\n",
       "    </tr>\n",
       "    <tr>\n",
       "      <td>1968</td>\n",
       "      <td>16.0</td>\n",
       "      <td>0.0</td>\n",
       "      <td>0.0</td>\n",
       "    </tr>\n",
       "    <tr>\n",
       "      <td>1972</td>\n",
       "      <td>14.0</td>\n",
       "      <td>0.0</td>\n",
       "      <td>0.0</td>\n",
       "    </tr>\n",
       "    <tr>\n",
       "      <td>1980</td>\n",
       "      <td>0.0</td>\n",
       "      <td>16.0</td>\n",
       "      <td>0.0</td>\n",
       "    </tr>\n",
       "  </tbody>\n",
       "</table>\n",
       "</div>"
      ],
      "text/plain": [
       "Medal  Bronze  Gold  Silver\n",
       "Year                       \n",
       "1928      0.0  14.0     0.0\n",
       "1932      0.0  15.0     0.0\n",
       "1936      0.0  19.0     0.0\n",
       "1948      0.0  20.0     0.0\n",
       "1952      0.0  14.0     0.0\n",
       "1956      0.0  17.0     0.0\n",
       "1960      0.0   0.0    13.0\n",
       "1964      0.0  15.0     0.0\n",
       "1968     16.0   0.0     0.0\n",
       "1972     14.0   0.0     0.0\n",
       "1980      0.0  16.0     0.0"
      ]
     },
     "execution_count": 60,
     "metadata": {},
     "output_type": "execute_result"
    }
   ],
   "source": [
    "india_hockey"
   ]
  },
  {
   "cell_type": "code",
   "execution_count": 61,
   "metadata": {
    "ExecuteTime": {
     "end_time": "2019-09-19T17:23:04.884958Z",
     "start_time": "2019-09-19T17:23:04.193809Z"
    }
   },
   "outputs": [
    {
     "data": {
      "text/plain": [
       "<matplotlib.axes._subplots.AxesSubplot at 0x1e1bec26b70>"
      ]
     },
     "execution_count": 61,
     "metadata": {},
     "output_type": "execute_result"
    },
    {
     "data": {
      "image/png": "[encoded data removed]",
      "text/plain": [
       "<Figure size 1296x576 with 1 Axes>"
      ]
     },
     "metadata": {
      "needs_background": "light"
     },
     "output_type": "display_data"
    }
   ],
   "source": [
    "india_years.plot.bar(figsize=(18,8), title=\"India in Hockey\", grid=True)"
   ]
  },
  {
   "cell_type": "markdown",
   "metadata": {},
   "source": [
    "**WOMEN IN OLYMPICS**"
   ]
  },
  {
   "cell_type": "code",
   "execution_count": 62,
   "metadata": {
    "ExecuteTime": {
     "end_time": "2019-09-19T17:23:05.870325Z",
     "start_time": "2019-09-19T17:23:04.887954Z"
    }
   },
   "outputs": [
    {
     "data": {
      "text/plain": [
       "<matplotlib.axes._subplots.AxesSubplot at 0x1e1becd9668>"
      ]
     },
     "execution_count": 62,
     "metadata": {},
     "output_type": "execute_result"
    },
    {
     "data": {
      "image/png": "[encoded data removed]",
      "text/plain": [
       "<Figure size 1296x576 with 1 Axes>"
      ]
     },
     "metadata": {
      "needs_background": "light"
     },
     "output_type": "display_data"
    }
   ],
   "source": [
    "data[data['Sex'] == 'F'].pivot_table(index='Year', \n",
    "                                     columns='Medal', \n",
    "                                     values='Name', \n",
    "                                     aggfunc='count').plot.bar(figsize=(18,8), grid=True)"
   ]
  },
  {
   "cell_type": "code",
   "execution_count": 63,
   "metadata": {
    "ExecuteTime": {
     "end_time": "2019-09-19T17:23:06.340069Z",
     "start_time": "2019-09-19T17:23:05.873320Z"
    }
   },
   "outputs": [
    {
     "data": {
      "text/plain": [
       "<matplotlib.axes._subplots.AxesSubplot at 0x1e1bb806dd8>"
      ]
     },
     "execution_count": 63,
     "metadata": {},
     "output_type": "execute_result"
    },
    {
     "data": {
      "image/png": "[encoded data removed]",
      "text/plain": [
       "<Figure size 1296x576 with 1 Axes>"
      ]
     },
     "metadata": {
      "needs_background": "light"
     },
     "output_type": "display_data"
    }
   ],
   "source": [
    "pd.DataFrame(data[data['Sex'] == 'F'].groupby('Year')['Year'].count()/data[data['Sex'] == 'M'].groupby('Year')['Year'].count()).dropna().plot.line(legend=False, figsize=(18,8), grid=True)"
   ]
  },
  {
   "cell_type": "code",
   "execution_count": null,
   "metadata": {},
   "outputs": [],
   "source": []
  },
  {
   "cell_type": "code",
   "execution_count": null,
   "metadata": {},
   "outputs": [],
   "source": []
  }
 ],
 "metadata": {
  "kernelspec": {
   "display_name": "Python 3",
   "language": "python",
   "name": "python3"
  },
  "language_info": {
   "codemirror_mode": {
    "name": "ipython",
    "version": 3
   },
   "file_extension": ".py",
   "mimetype": "text/x-python",
   "name": "python",
   "nbconvert_exporter": "python",
   "pygments_lexer": "ipython3",
   "version": "3.7.3"
  },
  "toc": {
   "base_numbering": 1,
   "nav_menu": {},
   "number_sections": true,
   "sideBar": true,
   "skip_h1_title": false,
   "title_cell": "Table of Contents",
   "title_sidebar": "Contents",
   "toc_cell": false,
   "toc_position": {},
   "toc_section_display": true,
   "toc_window_display": false
  },
  "varInspector": {
   "cols": {
    "lenName": 16,
    "lenType": 16,
    "lenVar": 40
   },
   "kernels_config": {
    "python": {
     "delete_cmd_postfix": "",
     "delete_cmd_prefix": "del ",
     "library": "var_list.py",
     "varRefreshCmd": "print(var_dic_list())"
    },
    "r": {
     "delete_cmd_postfix": ") ",
     "delete_cmd_prefix": "rm(",
     "library": "var_list.r",
     "varRefreshCmd": "cat(var_dic_list()) "
    }
   },
   "types_to_exclude": [
    "module",
    "function",
    "builtin_function_or_method",
    "instance",
    "_Feature"
   ],
   "window_display": false
  }
 },
 "nbformat": 4,
 "nbformat_minor": 2
}
