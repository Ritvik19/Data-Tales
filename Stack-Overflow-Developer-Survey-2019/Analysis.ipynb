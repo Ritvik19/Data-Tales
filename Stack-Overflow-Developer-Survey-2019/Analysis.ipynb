{
 "cells": [
  {
   "cell_type": "markdown",
   "metadata": {},
   "source": [
    "# Stack Overflow Developer Survey 2019\n",
    "The Stack Overflow Developer Survey is the largest and most comprehensive survey of software developers (and anyone else who codes!) on Earth."
   ]
  },
  {
   "cell_type": "markdown",
   "metadata": {},
   "source": [
    "# Libraries"
   ]
  },
  {
   "cell_type": "code",
   "execution_count": 1,
   "metadata": {
    "ExecuteTime": {
     "end_time": "2019-10-25T04:58:27.312099Z",
     "start_time": "2019-10-25T04:58:27.307118Z"
    }
   },
   "outputs": [],
   "source": [
    "import warnings\n",
    "warnings.filterwarnings(\"ignore\")"
   ]
  },
  {
   "cell_type": "code",
   "execution_count": 2,
   "metadata": {
    "ExecuteTime": {
     "end_time": "2019-10-25T04:58:28.855965Z",
     "start_time": "2019-10-25T04:58:27.315090Z"
    }
   },
   "outputs": [],
   "source": [
    "import numpy as np\n",
    "import pandas as pd\n",
    "import matplotlib.pyplot as plt\n",
    "import seaborn as sns\n",
    "\n",
    "from tqdm.auto import tqdm"
   ]
  },
  {
   "cell_type": "code",
   "execution_count": 3,
   "metadata": {
    "ExecuteTime": {
     "end_time": "2019-10-25T04:58:28.863946Z",
     "start_time": "2019-10-25T04:58:28.858960Z"
    }
   },
   "outputs": [],
   "source": [
    "pd.options.display.max_colwidth = -1\n",
    "pd.options.display.max_columns = 100"
   ]
  },
  {
   "cell_type": "markdown",
   "metadata": {},
   "source": [
    "# Data"
   ]
  },
  {
   "cell_type": "code",
   "execution_count": 4,
   "metadata": {
    "ExecuteTime": {
     "end_time": "2019-10-25T04:58:32.102281Z",
     "start_time": "2019-10-25T04:58:28.867935Z"
    }
   },
   "outputs": [],
   "source": [
    "data = pd.read_csv('E:/Tales-Data/Stack-Overflow-Developer-Survey-2019/survey_results_public.csv')"
   ]
  },
  {
   "cell_type": "code",
   "execution_count": 5,
   "metadata": {
    "ExecuteTime": {
     "end_time": "2019-10-25T04:58:32.193040Z",
     "start_time": "2019-10-25T04:58:32.104277Z"
    }
   },
   "outputs": [
    {
     "data": {
      "text/html": [
       "<div>\n",
       "<style scoped>\n",
       "    .dataframe tbody tr th:only-of-type {\n",
       "        vertical-align: middle;\n",
       "    }\n",
       "\n",
       "    .dataframe tbody tr th {\n",
       "        vertical-align: top;\n",
       "    }\n",
       "\n",
       "    .dataframe thead th {\n",
       "        text-align: right;\n",
       "    }\n",
       "</style>\n",
       "<table border=\"1\" class=\"dataframe\">\n",
       "  <thead>\n",
       "    <tr style=\"text-align: right;\">\n",
       "      <th></th>\n",
       "      <th>Respondent</th>\n",
       "      <th>MainBranch</th>\n",
       "      <th>Hobbyist</th>\n",
       "      <th>OpenSourcer</th>\n",
       "      <th>OpenSource</th>\n",
       "      <th>Employment</th>\n",
       "      <th>Country</th>\n",
       "      <th>Student</th>\n",
       "      <th>EdLevel</th>\n",
       "      <th>UndergradMajor</th>\n",
       "      <th>EduOther</th>\n",
       "      <th>OrgSize</th>\n",
       "      <th>DevType</th>\n",
       "      <th>YearsCode</th>\n",
       "      <th>Age1stCode</th>\n",
       "      <th>YearsCodePro</th>\n",
       "      <th>CareerSat</th>\n",
       "      <th>JobSat</th>\n",
       "      <th>MgrIdiot</th>\n",
       "      <th>MgrMoney</th>\n",
       "      <th>MgrWant</th>\n",
       "      <th>JobSeek</th>\n",
       "      <th>LastHireDate</th>\n",
       "      <th>LastInt</th>\n",
       "      <th>FizzBuzz</th>\n",
       "      <th>JobFactors</th>\n",
       "      <th>ResumeUpdate</th>\n",
       "      <th>CurrencySymbol</th>\n",
       "      <th>CurrencyDesc</th>\n",
       "      <th>CompTotal</th>\n",
       "      <th>CompFreq</th>\n",
       "      <th>ConvertedComp</th>\n",
       "      <th>WorkWeekHrs</th>\n",
       "      <th>WorkPlan</th>\n",
       "      <th>WorkChallenge</th>\n",
       "      <th>WorkRemote</th>\n",
       "      <th>WorkLoc</th>\n",
       "      <th>ImpSyn</th>\n",
       "      <th>CodeRev</th>\n",
       "      <th>CodeRevHrs</th>\n",
       "      <th>UnitTests</th>\n",
       "      <th>PurchaseHow</th>\n",
       "      <th>PurchaseWhat</th>\n",
       "      <th>LanguageWorkedWith</th>\n",
       "      <th>LanguageDesireNextYear</th>\n",
       "      <th>DatabaseWorkedWith</th>\n",
       "      <th>DatabaseDesireNextYear</th>\n",
       "      <th>PlatformWorkedWith</th>\n",
       "      <th>PlatformDesireNextYear</th>\n",
       "      <th>WebFrameWorkedWith</th>\n",
       "      <th>WebFrameDesireNextYear</th>\n",
       "      <th>MiscTechWorkedWith</th>\n",
       "      <th>MiscTechDesireNextYear</th>\n",
       "      <th>DevEnviron</th>\n",
       "      <th>OpSys</th>\n",
       "      <th>Containers</th>\n",
       "      <th>BlockchainOrg</th>\n",
       "      <th>BlockchainIs</th>\n",
       "      <th>BetterLife</th>\n",
       "      <th>ITperson</th>\n",
       "      <th>OffOn</th>\n",
       "      <th>SocialMedia</th>\n",
       "      <th>Extraversion</th>\n",
       "      <th>ScreenName</th>\n",
       "      <th>SOVisit1st</th>\n",
       "      <th>SOVisitFreq</th>\n",
       "      <th>SOVisitTo</th>\n",
       "      <th>SOFindAnswer</th>\n",
       "      <th>SOTimeSaved</th>\n",
       "      <th>SOHowMuchTime</th>\n",
       "      <th>SOAccount</th>\n",
       "      <th>SOPartFreq</th>\n",
       "      <th>SOJobs</th>\n",
       "      <th>EntTeams</th>\n",
       "      <th>SOComm</th>\n",
       "      <th>WelcomeChange</th>\n",
       "      <th>SONewContent</th>\n",
       "      <th>Age</th>\n",
       "      <th>Gender</th>\n",
       "      <th>Trans</th>\n",
       "      <th>Sexuality</th>\n",
       "      <th>Ethnicity</th>\n",
       "      <th>Dependents</th>\n",
       "      <th>SurveyLength</th>\n",
       "      <th>SurveyEase</th>\n",
       "    </tr>\n",
       "  </thead>\n",
       "  <tbody>\n",
       "    <tr>\n",
       "      <td>0</td>\n",
       "      <td>1</td>\n",
       "      <td>I am a student who is learning to code</td>\n",
       "      <td>Yes</td>\n",
       "      <td>Never</td>\n",
       "      <td>The quality of OSS and closed source software is about the same</td>\n",
       "      <td>Not employed, and not looking for work</td>\n",
       "      <td>United Kingdom</td>\n",
       "      <td>No</td>\n",
       "      <td>Primary/elementary school</td>\n",
       "      <td>NaN</td>\n",
       "      <td>Taught yourself a new language, framework, or tool without taking a formal course</td>\n",
       "      <td>NaN</td>\n",
       "      <td>NaN</td>\n",
       "      <td>4</td>\n",
       "      <td>10</td>\n",
       "      <td>NaN</td>\n",
       "      <td>NaN</td>\n",
       "      <td>NaN</td>\n",
       "      <td>NaN</td>\n",
       "      <td>NaN</td>\n",
       "      <td>NaN</td>\n",
       "      <td>NaN</td>\n",
       "      <td>NaN</td>\n",
       "      <td>NaN</td>\n",
       "      <td>NaN</td>\n",
       "      <td>NaN</td>\n",
       "      <td>NaN</td>\n",
       "      <td>NaN</td>\n",
       "      <td>NaN</td>\n",
       "      <td>NaN</td>\n",
       "      <td>NaN</td>\n",
       "      <td>NaN</td>\n",
       "      <td>NaN</td>\n",
       "      <td>NaN</td>\n",
       "      <td>NaN</td>\n",
       "      <td>NaN</td>\n",
       "      <td>NaN</td>\n",
       "      <td>NaN</td>\n",
       "      <td>NaN</td>\n",
       "      <td>NaN</td>\n",
       "      <td>NaN</td>\n",
       "      <td>NaN</td>\n",
       "      <td>NaN</td>\n",
       "      <td>HTML/CSS;Java;JavaScript;Python</td>\n",
       "      <td>C;C++;C#;Go;HTML/CSS;Java;JavaScript;Python;SQL</td>\n",
       "      <td>SQLite</td>\n",
       "      <td>MySQL</td>\n",
       "      <td>MacOS;Windows</td>\n",
       "      <td>Android;Arduino;Windows</td>\n",
       "      <td>Django;Flask</td>\n",
       "      <td>Flask;jQuery</td>\n",
       "      <td>Node.js</td>\n",
       "      <td>Node.js</td>\n",
       "      <td>IntelliJ;Notepad++;PyCharm</td>\n",
       "      <td>Windows</td>\n",
       "      <td>I do not use containers</td>\n",
       "      <td>NaN</td>\n",
       "      <td>NaN</td>\n",
       "      <td>Yes</td>\n",
       "      <td>Fortunately, someone else has that title</td>\n",
       "      <td>Yes</td>\n",
       "      <td>Twitter</td>\n",
       "      <td>Online</td>\n",
       "      <td>Username</td>\n",
       "      <td>2017</td>\n",
       "      <td>A few times per month or weekly</td>\n",
       "      <td>Find answers to specific questions;Learn how to do things I didn’t necessarily look for</td>\n",
       "      <td>3-5 times per week</td>\n",
       "      <td>Stack Overflow was much faster</td>\n",
       "      <td>31-60 minutes</td>\n",
       "      <td>No</td>\n",
       "      <td>NaN</td>\n",
       "      <td>No, I didn't know that Stack Overflow had a job board</td>\n",
       "      <td>No, and I don't know what those are</td>\n",
       "      <td>Neutral</td>\n",
       "      <td>Just as welcome now as I felt last year</td>\n",
       "      <td>Tech articles written by other developers;Industry news about technologies you're interested in;Courses on technologies you're interested in</td>\n",
       "      <td>14.0</td>\n",
       "      <td>Man</td>\n",
       "      <td>No</td>\n",
       "      <td>Straight / Heterosexual</td>\n",
       "      <td>NaN</td>\n",
       "      <td>No</td>\n",
       "      <td>Appropriate in length</td>\n",
       "      <td>Neither easy nor difficult</td>\n",
       "    </tr>\n",
       "    <tr>\n",
       "      <td>1</td>\n",
       "      <td>2</td>\n",
       "      <td>I am a student who is learning to code</td>\n",
       "      <td>No</td>\n",
       "      <td>Less than once per year</td>\n",
       "      <td>The quality of OSS and closed source software is about the same</td>\n",
       "      <td>Not employed, but looking for work</td>\n",
       "      <td>Bosnia and Herzegovina</td>\n",
       "      <td>Yes, full-time</td>\n",
       "      <td>Secondary school (e.g. American high school, German Realschule or Gymnasium, etc.)</td>\n",
       "      <td>NaN</td>\n",
       "      <td>Taken an online course in programming or software development (e.g. a MOOC)</td>\n",
       "      <td>NaN</td>\n",
       "      <td>Developer, desktop or enterprise applications;Developer, front-end</td>\n",
       "      <td>NaN</td>\n",
       "      <td>17</td>\n",
       "      <td>NaN</td>\n",
       "      <td>NaN</td>\n",
       "      <td>NaN</td>\n",
       "      <td>NaN</td>\n",
       "      <td>NaN</td>\n",
       "      <td>NaN</td>\n",
       "      <td>I am actively looking for a job</td>\n",
       "      <td>I've never had a job</td>\n",
       "      <td>NaN</td>\n",
       "      <td>NaN</td>\n",
       "      <td>Financial performance or funding status of the company or organization;Specific department or team I'd be working on;Languages, frameworks, and other technologies I'd be working with</td>\n",
       "      <td>Something else changed (education, award, media, etc.)</td>\n",
       "      <td>NaN</td>\n",
       "      <td>NaN</td>\n",
       "      <td>NaN</td>\n",
       "      <td>NaN</td>\n",
       "      <td>NaN</td>\n",
       "      <td>NaN</td>\n",
       "      <td>NaN</td>\n",
       "      <td>NaN</td>\n",
       "      <td>NaN</td>\n",
       "      <td>NaN</td>\n",
       "      <td>NaN</td>\n",
       "      <td>NaN</td>\n",
       "      <td>NaN</td>\n",
       "      <td>NaN</td>\n",
       "      <td>NaN</td>\n",
       "      <td>NaN</td>\n",
       "      <td>C++;HTML/CSS;Python</td>\n",
       "      <td>C++;HTML/CSS;JavaScript;SQL</td>\n",
       "      <td>NaN</td>\n",
       "      <td>MySQL</td>\n",
       "      <td>Windows</td>\n",
       "      <td>Windows</td>\n",
       "      <td>Django</td>\n",
       "      <td>Django</td>\n",
       "      <td>NaN</td>\n",
       "      <td>NaN</td>\n",
       "      <td>Atom;PyCharm</td>\n",
       "      <td>Windows</td>\n",
       "      <td>I do not use containers</td>\n",
       "      <td>NaN</td>\n",
       "      <td>Useful across many domains and could change many aspects of our lives</td>\n",
       "      <td>Yes</td>\n",
       "      <td>Yes</td>\n",
       "      <td>Yes</td>\n",
       "      <td>Instagram</td>\n",
       "      <td>Online</td>\n",
       "      <td>Username</td>\n",
       "      <td>2017</td>\n",
       "      <td>Daily or almost daily</td>\n",
       "      <td>Find answers to specific questions;Learn how to do things I didn’t necessarily look for</td>\n",
       "      <td>3-5 times per week</td>\n",
       "      <td>Stack Overflow was much faster</td>\n",
       "      <td>11-30 minutes</td>\n",
       "      <td>Yes</td>\n",
       "      <td>A few times per month or weekly</td>\n",
       "      <td>No, I knew that Stack Overflow had a job board but have never used or visited it</td>\n",
       "      <td>No, and I don't know what those are</td>\n",
       "      <td>Yes, somewhat</td>\n",
       "      <td>Just as welcome now as I felt last year</td>\n",
       "      <td>Tech articles written by other developers;Industry news about technologies you're interested in;Tech meetups or events in your area;Courses on technologies you're interested in</td>\n",
       "      <td>19.0</td>\n",
       "      <td>Man</td>\n",
       "      <td>No</td>\n",
       "      <td>Straight / Heterosexual</td>\n",
       "      <td>NaN</td>\n",
       "      <td>No</td>\n",
       "      <td>Appropriate in length</td>\n",
       "      <td>Neither easy nor difficult</td>\n",
       "    </tr>\n",
       "  </tbody>\n",
       "</table>\n",
       "</div>"
      ],
      "text/plain": [
       "   Respondent                              MainBranch Hobbyist  \\\n",
       "0  1           I am a student who is learning to code  Yes       \n",
       "1  2           I am a student who is learning to code  No        \n",
       "\n",
       "               OpenSourcer  \\\n",
       "0  Never                     \n",
       "1  Less than once per year   \n",
       "\n",
       "                                                        OpenSource  \\\n",
       "0  The quality of OSS and closed source software is about the same   \n",
       "1  The quality of OSS and closed source software is about the same   \n",
       "\n",
       "                               Employment                 Country  \\\n",
       "0  Not employed, and not looking for work  United Kingdom           \n",
       "1  Not employed, but looking for work      Bosnia and Herzegovina   \n",
       "\n",
       "          Student  \\\n",
       "0  No               \n",
       "1  Yes, full-time   \n",
       "\n",
       "                                                                              EdLevel  \\\n",
       "0  Primary/elementary school                                                            \n",
       "1  Secondary school (e.g. American high school, German Realschule or Gymnasium, etc.)   \n",
       "\n",
       "  UndergradMajor  \\\n",
       "0  NaN             \n",
       "1  NaN             \n",
       "\n",
       "                                                                            EduOther  \\\n",
       "0  Taught yourself a new language, framework, or tool without taking a formal course   \n",
       "1  Taken an online course in programming or software development (e.g. a MOOC)         \n",
       "\n",
       "  OrgSize                                                             DevType  \\\n",
       "0  NaN     NaN                                                                  \n",
       "1  NaN     Developer, desktop or enterprise applications;Developer, front-end   \n",
       "\n",
       "  YearsCode Age1stCode YearsCodePro CareerSat JobSat MgrIdiot MgrMoney  \\\n",
       "0  4         10         NaN          NaN       NaN    NaN      NaN       \n",
       "1  NaN       17         NaN          NaN       NaN    NaN      NaN       \n",
       "\n",
       "  MgrWant                          JobSeek          LastHireDate LastInt  \\\n",
       "0  NaN     NaN                              NaN                   NaN      \n",
       "1  NaN     I am actively looking for a job  I've never had a job  NaN      \n",
       "\n",
       "  FizzBuzz  \\\n",
       "0  NaN       \n",
       "1  NaN       \n",
       "\n",
       "                                                                                                                                                                               JobFactors  \\\n",
       "0  NaN                                                                                                                                                                                      \n",
       "1  Financial performance or funding status of the company or organization;Specific department or team I'd be working on;Languages, frameworks, and other technologies I'd be working with   \n",
       "\n",
       "                                             ResumeUpdate CurrencySymbol  \\\n",
       "0  NaN                                                     NaN             \n",
       "1  Something else changed (education, award, media, etc.)  NaN             \n",
       "\n",
       "  CurrencyDesc  CompTotal CompFreq  ConvertedComp  WorkWeekHrs WorkPlan  \\\n",
       "0  NaN         NaN         NaN     NaN            NaN           NaN       \n",
       "1  NaN         NaN         NaN     NaN            NaN           NaN       \n",
       "\n",
       "  WorkChallenge WorkRemote WorkLoc ImpSyn CodeRev  CodeRevHrs UnitTests  \\\n",
       "0  NaN           NaN        NaN     NaN    NaN    NaN          NaN        \n",
       "1  NaN           NaN        NaN     NaN    NaN    NaN          NaN        \n",
       "\n",
       "  PurchaseHow PurchaseWhat               LanguageWorkedWith  \\\n",
       "0  NaN         NaN          HTML/CSS;Java;JavaScript;Python   \n",
       "1  NaN         NaN          C++;HTML/CSS;Python               \n",
       "\n",
       "                            LanguageDesireNextYear DatabaseWorkedWith  \\\n",
       "0  C;C++;C#;Go;HTML/CSS;Java;JavaScript;Python;SQL  SQLite              \n",
       "1  C++;HTML/CSS;JavaScript;SQL                      NaN                 \n",
       "\n",
       "  DatabaseDesireNextYear PlatformWorkedWith   PlatformDesireNextYear  \\\n",
       "0  MySQL                  MacOS;Windows      Android;Arduino;Windows   \n",
       "1  MySQL                  Windows            Windows                   \n",
       "\n",
       "  WebFrameWorkedWith WebFrameDesireNextYear MiscTechWorkedWith  \\\n",
       "0  Django;Flask       Flask;jQuery           Node.js             \n",
       "1  Django             Django                 NaN                 \n",
       "\n",
       "  MiscTechDesireNextYear                  DevEnviron    OpSys  \\\n",
       "0  Node.js                IntelliJ;Notepad++;PyCharm  Windows   \n",
       "1  NaN                    Atom;PyCharm                Windows   \n",
       "\n",
       "                Containers BlockchainOrg  \\\n",
       "0  I do not use containers  NaN            \n",
       "1  I do not use containers  NaN            \n",
       "\n",
       "                                                            BlockchainIs  \\\n",
       "0  NaN                                                                     \n",
       "1  Useful across many domains and could change many aspects of our lives   \n",
       "\n",
       "  BetterLife                                  ITperson OffOn SocialMedia  \\\n",
       "0  Yes        Fortunately, someone else has that title  Yes   Twitter      \n",
       "1  Yes        Yes                                       Yes   Instagram    \n",
       "\n",
       "  Extraversion ScreenName SOVisit1st                      SOVisitFreq  \\\n",
       "0  Online       Username   2017       A few times per month or weekly   \n",
       "1  Online       Username   2017       Daily or almost daily             \n",
       "\n",
       "                                                                                 SOVisitTo  \\\n",
       "0  Find answers to specific questions;Learn how to do things I didn’t necessarily look for   \n",
       "1  Find answers to specific questions;Learn how to do things I didn’t necessarily look for   \n",
       "\n",
       "         SOFindAnswer                     SOTimeSaved  SOHowMuchTime  \\\n",
       "0  3-5 times per week  Stack Overflow was much faster  31-60 minutes   \n",
       "1  3-5 times per week  Stack Overflow was much faster  11-30 minutes   \n",
       "\n",
       "  SOAccount                       SOPartFreq  \\\n",
       "0  No        NaN                               \n",
       "1  Yes       A few times per month or weekly   \n",
       "\n",
       "                                                                             SOJobs  \\\n",
       "0  No, I didn't know that Stack Overflow had a job board                              \n",
       "1  No, I knew that Stack Overflow had a job board but have never used or visited it   \n",
       "\n",
       "                              EntTeams         SOComm  \\\n",
       "0  No, and I don't know what those are  Neutral         \n",
       "1  No, and I don't know what those are  Yes, somewhat   \n",
       "\n",
       "                             WelcomeChange  \\\n",
       "0  Just as welcome now as I felt last year   \n",
       "1  Just as welcome now as I felt last year   \n",
       "\n",
       "                                                                                                                                                                       SONewContent  \\\n",
       "0  Tech articles written by other developers;Industry news about technologies you're interested in;Courses on technologies you're interested in                                       \n",
       "1  Tech articles written by other developers;Industry news about technologies you're interested in;Tech meetups or events in your area;Courses on technologies you're interested in   \n",
       "\n",
       "    Age Gender Trans                Sexuality Ethnicity Dependents  \\\n",
       "0  14.0  Man    No    Straight / Heterosexual  NaN       No          \n",
       "1  19.0  Man    No    Straight / Heterosexual  NaN       No          \n",
       "\n",
       "            SurveyLength                  SurveyEase  \n",
       "0  Appropriate in length  Neither easy nor difficult  \n",
       "1  Appropriate in length  Neither easy nor difficult  "
      ]
     },
     "execution_count": 5,
     "metadata": {},
     "output_type": "execute_result"
    }
   ],
   "source": [
    "data.head(2)"
   ]
  },
  {
   "cell_type": "code",
   "execution_count": 6,
   "metadata": {
    "ExecuteTime": {
     "end_time": "2019-10-25T04:58:32.243906Z",
     "start_time": "2019-10-25T04:58:32.197031Z"
    }
   },
   "outputs": [
    {
     "data": {
      "text/plain": [
       "(88883, 85)"
      ]
     },
     "execution_count": 6,
     "metadata": {},
     "output_type": "execute_result"
    }
   ],
   "source": [
    "data.shape"
   ]
  },
  {
   "cell_type": "markdown",
   "metadata": {},
   "source": [
    "**SCHEMA**"
   ]
  },
  {
   "cell_type": "markdown",
   "metadata": {},
   "source": [
    "Column | QuestionText\n",
    ":---: | :---:\n",
    "Respondent | Randomized respondent ID number (not in order of survey response time)\n",
    "MainBranch | Which of the following options best describes you today? Here, by \"developer\" we mean \"someone who writes code.\"\n",
    "Hobbyist | Do you code as a hobby?\n",
    "OpenSourcer |\tHow often do you contribute to open source?\n",
    "OpenSource | How do you feel about the quality of open source software (OSS)?\n",
    "Employment | Which of the following best describes your current employment status?\n",
    "Country | In which country do you currently reside?\n",
    "Student | Are you currently enrolled in a formal, degree-granting college or university program?\n",
    "EdLevel | Which of the following best describes the highest level of formal education that youâ€™ve completed?\n",
    "UndergradMajor | What was your main or most important field of study?\n",
    "EduOther | Which of the following types of non-degree education have you used or participated in? Please select all that apply.\n",
    "OrgSize | Approximately how many people are employed by the company or organization you work for?\n",
    "DevType | Which of the following describe you? Please select all that apply.\n",
    "YearsCode | Including any education, how many years have you been coding?\n",
    "Age1stCode | At what age did you write your first line of code or program? (E.g., webpage, Hello World, Scratch project)\n",
    "YearsCodePro | How many years have you coded professionally (as a part of your work)?\n",
    "CareerSat | Overall, how satisfied are you with your career thus far?\n",
    "JobSat | How satisfied are you with your current job? (If you work multiple jobs, answer for the one you spend the most hours on.)\n",
    "MgrIdiot | How confident are you that your manager knows what theyâ€™re doing?\n",
    "MgrMoney | Do you believe that you need to be a manager to make more money?\n",
    "MgrWant | Do you want to become a manager yourself in the future?\n",
    "JobSeek | Which of the following best describes your current job-seeking status?\n",
    "LastHireDate | When was the last time that you took a job with a new employer?\n",
    "LastInt | In your most recent successful job interview (resulting in a job offer), you were asked to... (check all that apply)\n",
    "FizzBuzz | Have you ever been asked to solve FizzBuzz in an interview?\n",
    "JobFactors | Imagine that you are deciding between two job offers with the same compensation, benefits, and location. Of the following factors, which 3 are MOST important to you?\n",
    "ResumeUpdate | Think back to the last time you updated your resumÃ©, CV, or an online profile on a job site. What is the PRIMARY reason that you did so?\n",
    "CurrencySymbol | Which currency do you use day-to-day? If your answer is complicated, please pick the one you're most comfortable estimating in.\n",
    "CurrencyDesc | Which currency do you use day-to-day? If your answer is complicated, please pick the one you're most comfortable estimating in.\n",
    "CompTotal | What is your current total compensation (salary, bonuses, and perks, before taxes and deductions), in `CurrencySymbol`? Please enter a whole number in the box below, without any punctuation. If you are paid hourly, please estimate an equivalent weekly, monthly, or yearly salary. If you prefer not to answer, please leave the box empty.\n",
    "CompFreq | Is that compensation weekly, monthly, or yearly?\n",
    "ConvertedComp | Salary converted to annual USD salaries using the exchange rate on 2019-02-01, assuming 12 working months and 50 working weeks.\n",
    "WorkWeekHrs | On average, how many hours per week do you work?\n",
    "WorkPlan | How structured or planned is your work?\n",
    "WorkChallenge | Of these options, what are your greatest challenges to productivity as a developer? Select up to 3:\n",
    "WorkRemote | How often do you work remotely?\n",
    "WorkLoc | Where would you prefer to work?\n",
    "ImpSyn | For the specific work you do, and the years of experience you have, how do you rate your own level of competence?\n",
    "CodeRev | Do you review code as part of your work?\n",
    "CodeRevHrs | On average, how many hours per week do you spend on code review?\n",
    "UnitTests | Does your company regularly employ unit tests in the development of their products?\n",
    "PurchaseHow | How does your company make decisions about purchasing new technology (cloud, AI, IoT, databases)?\n",
    "PurchaseWhat | What level of influence do you, personally, have over new technology purchases at your organization?\n",
    "LanguageWorkedWith | Which of the following programming, scripting, and markup languages have you done extensive development work in over the past year, and which do you want to work in over the next year?  (If you both worked with the language and want to continue to do so, please check both boxes in that row.)\n",
    "LanguageDesireNextYear | Which of the following programming, scripting, and markup languages have you done extensive development work in over the past year, and which do you want to work in over the next year?  (If you both worked with the language and want to continue to do so, please check both boxes in that row.)\n",
    "DatabaseWorkedWith | Which of the following database environments have you done extensive development work in over the past year, and which do you want to work in over the next year?   (If you both worked with the database and want to continue to do so, please check both boxes in that row.)\n",
    "DatabaseDesireNextYear | Which of the following database environments have you done extensive development work in over the past year, and which do you want to work in over the next year?   (If you both worked with the database and want to continue to do so, please check both boxes in that row.)\n",
    "PlatformWorkedWith | Which of the following platforms have you done extensive development work for over the past year?   (If you both developed for the platform and want to continue to do so, please check both boxes in that row.)\n",
    "PlatformDesireNextYear | Which of the following platforms have you done extensive development work for over the past year?   (If you both developed for the platform and want to continue to do so, please check both boxes in that row.)\n",
    "WebFrameWorkedWith | Which of the following web frameworks have you done extensive development work in over the past year, and which do you want to work in over the next year? (If you both worked with the framework and want to continue to do so, please check both boxes in that row.)\n",
    "WebFrameDesireNextYear | Which of the following web frameworks have you done extensive development work in over the past year, and which do you want to work in over the next year? (If you both worked with the framework and want to continue to do so, please check both boxes in that row.)\n",
    "MiscTechWorkedWith | Which of the following other frameworks, libraries, and tools have you done extensive development work in over the past year, and which do you want to work in over the next year? (If you both worked with the technology and want to continue to do so, please check both boxes in that row.)\n",
    "MiscTechDesireNextYear | Which of the following other frameworks, libraries, and tools have you done extensive development work in over the past year, and which do you want to work in over the next year? (If you both worked with the technology and want to continue to do so, please check both boxes in that row.)\n",
    "DevEnviron | Which development environment(s) do you use regularly?  Please check all that apply.\n",
    "OpSys | What is the primary operating system in which you work?\n",
    "Containers | How do you use containers (Docker, Open Container Initiative (OCI), etc.)?\n",
    "BlockchainOrg | How is your organization thinking about or implementing blockchain technology?\n",
    "BlockchainIs | Blockchain / cryptocurrency technology is primarily:\n",
    "BetterLife | Do you think people born today will have a better life than their parents?\n",
    "ITperson | Are you the \"IT support person\" for your family?\n",
    "OffOn | Have you tried turning it off and on again?\n",
    "SocialMedia | What social media site do you use the most?\n",
    "Extraversion | Do you prefer online chat or IRL conversations?\n",
    "ScreenName | What do you call it?\n",
    "SOVisit1st | To the best of your memory, when did you first visit Stack Overflow?\n",
    "SOVisitFreq | How frequently would you say you visit Stack Overflow?\n",
    "SOVisitTo | I visit Stack Overflow to... (check all that apply)\n",
    "SOFindAnswer | On average, how many times a week do you find (and use) an answer on Stack Overflow?\n",
    "SOTimeSaved | Think back to the last time you solved a coding problem using Stack Overflow, as well as the last time you solved a problem using a different resource. Which was faster?\n",
    "SOHowMuchTime | About how much time did you save? If you're not sure, please use your best estimate.\n",
    "SOAccount | Do you have a Stack Overflow account?\n",
    "SOPartFreq | How frequently would you say you participate in Q&A on Stack Overflow? By participate we mean ask, answer, vote for, or comment on questions.\n",
    "SOJobs | Have you ever used or visited Stack Overflow Jobs?\n",
    "EntTeams | Have you ever used Stack Overflow for Enterprise or Stack Overflow for Teams?\n",
    "SOComm | Do you consider yourself a member of the Stack Overflow community?\n",
    "WelcomeChange | Compared to last year, how welcome do you feel on Stack Overflow?\n",
    "SONewContent | Would you like to see any of the following on Stack Overflow? Check all that apply.\n",
    "Age | What is your age (in years)? If you prefer not to answer, you may leave this question blank.\n",
    "Gender | Which of the following do you currently identify as? Please select all that apply. If you prefer not to answer, you may leave this question blank.\n",
    "Trans | Do you identify as transgender?\n",
    "Sexuality | Which of the following do you currently identify as? Please select all that apply. If you prefer not to answer, you may leave this question blank.\n",
    "Ethnicity | Which of the following do you identify as? Please check all that apply. If you prefer not to answer, you may leave this question blank.\n",
    "Dependents | Do you have any dependents (e.g., children, elders, or others) that you care for?\n",
    "SurveyLength | How do you feel about the length of the survey this year?\n",
    "SurveyEase | How easy or difficult was this survey to complete?"
   ]
  },
  {
   "cell_type": "markdown",
   "metadata": {},
   "source": [
    "# Narration"
   ]
  },
  {
   "cell_type": "code",
   "execution_count": 7,
   "metadata": {
    "ExecuteTime": {
     "end_time": "2019-10-25T04:58:32.566044Z",
     "start_time": "2019-10-25T04:58:32.247894Z"
    }
   },
   "outputs": [
    {
     "data": {
      "text/plain": [
       "<matplotlib.axes._subplots.AxesSubplot at 0x25e84c03400>"
      ]
     },
     "execution_count": 7,
     "metadata": {},
     "output_type": "execute_result"
    },
    {
     "data": {
      "image/png": "[encoded data removed]",
      "text/plain": [
       "<Figure size 576x576 with 1 Axes>"
      ]
     },
     "metadata": {},
     "output_type": "display_data"
    }
   ],
   "source": [
    "data['MainBranch'].value_counts().plot.pie(figsize=(8,8), autopct='%1.0f%%')"
   ]
  },
  {
   "cell_type": "code",
   "execution_count": 8,
   "metadata": {
    "ExecuteTime": {
     "end_time": "2019-10-25T04:58:32.736586Z",
     "start_time": "2019-10-25T04:58:32.569036Z"
    }
   },
   "outputs": [
    {
     "data": {
      "text/plain": [
       "<matplotlib.axes._subplots.AxesSubplot at 0x25e8505a630>"
      ]
     },
     "execution_count": 8,
     "metadata": {},
     "output_type": "execute_result"
    },
    {
     "data": {
      "image/png": "[encoded data removed]",
      "text/plain": [
       "<Figure size 576x576 with 1 Axes>"
      ]
     },
     "metadata": {},
     "output_type": "display_data"
    }
   ],
   "source": [
    "data['Hobbyist'].value_counts().plot.pie(figsize=(8,8), autopct='%1.0f%%')"
   ]
  },
  {
   "cell_type": "code",
   "execution_count": 9,
   "metadata": {
    "ExecuteTime": {
     "end_time": "2019-10-25T04:58:32.895162Z",
     "start_time": "2019-10-25T04:58:32.739578Z"
    },
    "scrolled": false
   },
   "outputs": [
    {
     "data": {
      "text/plain": [
       "<matplotlib.axes._subplots.AxesSubplot at 0x25e852178d0>"
      ]
     },
     "execution_count": 9,
     "metadata": {},
     "output_type": "execute_result"
    },
    {
     "data": {
      "image/png": "[encoded data removed]",
      "text/plain": [
       "<Figure size 576x576 with 1 Axes>"
      ]
     },
     "metadata": {},
     "output_type": "display_data"
    }
   ],
   "source": [
    "data['OpenSourcer'].value_counts().plot.pie(figsize=(8,8), autopct='%1.0f%%')"
   ]
  },
  {
   "cell_type": "code",
   "execution_count": 10,
   "metadata": {
    "ExecuteTime": {
     "end_time": "2019-10-25T04:58:32.930068Z",
     "start_time": "2019-10-25T04:58:32.898156Z"
    }
   },
   "outputs": [],
   "source": [
    "_ = pd.concat([data['MainBranch'],\n",
    "               pd.get_dummies(data['Hobbyist'], drop_first=True), \n",
    "               pd.get_dummies(data['OpenSourcer'], prefix='OpenSourcer', prefix_sep=': ')], \n",
    "              axis=1).rename({'Yes': 'Hobbyist'}, axis=1)"
   ]
  },
  {
   "cell_type": "code",
   "execution_count": 11,
   "metadata": {
    "ExecuteTime": {
     "end_time": "2019-10-25T04:58:33.049749Z",
     "start_time": "2019-10-25T04:58:32.932062Z"
    }
   },
   "outputs": [
    {
     "data": {
      "text/html": [
       "<div>\n",
       "<style scoped>\n",
       "    .dataframe tbody tr th:only-of-type {\n",
       "        vertical-align: middle;\n",
       "    }\n",
       "\n",
       "    .dataframe tbody tr th {\n",
       "        vertical-align: top;\n",
       "    }\n",
       "\n",
       "    .dataframe thead th {\n",
       "        text-align: right;\n",
       "    }\n",
       "</style>\n",
       "<table border=\"1\" class=\"dataframe\">\n",
       "  <thead>\n",
       "    <tr style=\"text-align: right;\">\n",
       "      <th></th>\n",
       "      <th>MainBranch</th>\n",
       "      <th>Hobbyist</th>\n",
       "      <th>OpenSourcer: Less than once a month but more than once per year</th>\n",
       "      <th>OpenSourcer: Less than once per year</th>\n",
       "      <th>OpenSourcer: Never</th>\n",
       "      <th>OpenSourcer: Once a month or more often</th>\n",
       "    </tr>\n",
       "  </thead>\n",
       "  <tbody>\n",
       "    <tr>\n",
       "      <td>0</td>\n",
       "      <td>I am a student who is learning to code</td>\n",
       "      <td>1</td>\n",
       "      <td>0</td>\n",
       "      <td>0</td>\n",
       "      <td>1</td>\n",
       "      <td>0</td>\n",
       "    </tr>\n",
       "    <tr>\n",
       "      <td>1</td>\n",
       "      <td>I am a student who is learning to code</td>\n",
       "      <td>0</td>\n",
       "      <td>0</td>\n",
       "      <td>1</td>\n",
       "      <td>0</td>\n",
       "      <td>0</td>\n",
       "    </tr>\n",
       "    <tr>\n",
       "      <td>2</td>\n",
       "      <td>I am not primarily a developer, but I write code sometimes as part of my work</td>\n",
       "      <td>1</td>\n",
       "      <td>0</td>\n",
       "      <td>0</td>\n",
       "      <td>1</td>\n",
       "      <td>0</td>\n",
       "    </tr>\n",
       "    <tr>\n",
       "      <td>3</td>\n",
       "      <td>I am a developer by profession</td>\n",
       "      <td>0</td>\n",
       "      <td>0</td>\n",
       "      <td>0</td>\n",
       "      <td>1</td>\n",
       "      <td>0</td>\n",
       "    </tr>\n",
       "    <tr>\n",
       "      <td>4</td>\n",
       "      <td>I am a developer by profession</td>\n",
       "      <td>1</td>\n",
       "      <td>0</td>\n",
       "      <td>0</td>\n",
       "      <td>0</td>\n",
       "      <td>1</td>\n",
       "    </tr>\n",
       "    <tr>\n",
       "      <td>...</td>\n",
       "      <td>...</td>\n",
       "      <td>...</td>\n",
       "      <td>...</td>\n",
       "      <td>...</td>\n",
       "      <td>...</td>\n",
       "      <td>...</td>\n",
       "    </tr>\n",
       "    <tr>\n",
       "      <td>88878</td>\n",
       "      <td>NaN</td>\n",
       "      <td>1</td>\n",
       "      <td>1</td>\n",
       "      <td>0</td>\n",
       "      <td>0</td>\n",
       "      <td>0</td>\n",
       "    </tr>\n",
       "    <tr>\n",
       "      <td>88879</td>\n",
       "      <td>NaN</td>\n",
       "      <td>0</td>\n",
       "      <td>0</td>\n",
       "      <td>0</td>\n",
       "      <td>1</td>\n",
       "      <td>0</td>\n",
       "    </tr>\n",
       "    <tr>\n",
       "      <td>88880</td>\n",
       "      <td>NaN</td>\n",
       "      <td>0</td>\n",
       "      <td>0</td>\n",
       "      <td>0</td>\n",
       "      <td>1</td>\n",
       "      <td>0</td>\n",
       "    </tr>\n",
       "    <tr>\n",
       "      <td>88881</td>\n",
       "      <td>NaN</td>\n",
       "      <td>0</td>\n",
       "      <td>0</td>\n",
       "      <td>0</td>\n",
       "      <td>1</td>\n",
       "      <td>0</td>\n",
       "    </tr>\n",
       "    <tr>\n",
       "      <td>88882</td>\n",
       "      <td>NaN</td>\n",
       "      <td>1</td>\n",
       "      <td>0</td>\n",
       "      <td>1</td>\n",
       "      <td>0</td>\n",
       "      <td>0</td>\n",
       "    </tr>\n",
       "  </tbody>\n",
       "</table>\n",
       "<p>88883 rows × 6 columns</p>\n",
       "</div>"
      ],
      "text/plain": [
       "                                                                          MainBranch  \\\n",
       "0      I am a student who is learning to code                                          \n",
       "1      I am a student who is learning to code                                          \n",
       "2      I am not primarily a developer, but I write code sometimes as part of my work   \n",
       "3      I am a developer by profession                                                  \n",
       "4      I am a developer by profession                                                  \n",
       "...                               ...                                                  \n",
       "88878  NaN                                                                             \n",
       "88879  NaN                                                                             \n",
       "88880  NaN                                                                             \n",
       "88881  NaN                                                                             \n",
       "88882  NaN                                                                             \n",
       "\n",
       "       Hobbyist  \\\n",
       "0      1          \n",
       "1      0          \n",
       "2      1          \n",
       "3      0          \n",
       "4      1          \n",
       "...   ..          \n",
       "88878  1          \n",
       "88879  0          \n",
       "88880  0          \n",
       "88881  0          \n",
       "88882  1          \n",
       "\n",
       "       OpenSourcer: Less than once a month but more than once per year  \\\n",
       "0      0                                                                 \n",
       "1      0                                                                 \n",
       "2      0                                                                 \n",
       "3      0                                                                 \n",
       "4      0                                                                 \n",
       "...   ..                                                                 \n",
       "88878  1                                                                 \n",
       "88879  0                                                                 \n",
       "88880  0                                                                 \n",
       "88881  0                                                                 \n",
       "88882  0                                                                 \n",
       "\n",
       "       OpenSourcer: Less than once per year  OpenSourcer: Never  \\\n",
       "0      0                                     1                    \n",
       "1      1                                     0                    \n",
       "2      0                                     1                    \n",
       "3      0                                     1                    \n",
       "4      0                                     0                    \n",
       "...   ..                                    ..                    \n",
       "88878  0                                     0                    \n",
       "88879  0                                     1                    \n",
       "88880  0                                     1                    \n",
       "88881  0                                     1                    \n",
       "88882  1                                     0                    \n",
       "\n",
       "       OpenSourcer: Once a month or more often  \n",
       "0      0                                        \n",
       "1      0                                        \n",
       "2      0                                        \n",
       "3      0                                        \n",
       "4      1                                        \n",
       "...   ..                                        \n",
       "88878  0                                        \n",
       "88879  0                                        \n",
       "88880  0                                        \n",
       "88881  0                                        \n",
       "88882  0                                        \n",
       "\n",
       "[88883 rows x 6 columns]"
      ]
     },
     "execution_count": 11,
     "metadata": {},
     "output_type": "execute_result"
    }
   ],
   "source": [
    "_"
   ]
  },
  {
   "cell_type": "code",
   "execution_count": 12,
   "metadata": {
    "ExecuteTime": {
     "end_time": "2019-10-25T04:58:33.218300Z",
     "start_time": "2019-10-25T04:58:33.052742Z"
    }
   },
   "outputs": [
    {
     "data": {
      "text/html": [
       "<div>\n",
       "<style scoped>\n",
       "    .dataframe tbody tr th:only-of-type {\n",
       "        vertical-align: middle;\n",
       "    }\n",
       "\n",
       "    .dataframe tbody tr th {\n",
       "        vertical-align: top;\n",
       "    }\n",
       "\n",
       "    .dataframe thead th {\n",
       "        text-align: right;\n",
       "    }\n",
       "</style>\n",
       "<table border=\"1\" class=\"dataframe\">\n",
       "  <thead>\n",
       "    <tr style=\"text-align: right;\">\n",
       "      <th></th>\n",
       "      <th>Hobbyist</th>\n",
       "      <th>OpenSourcer: Less than once a month but more than once per year</th>\n",
       "      <th>OpenSourcer: Less than once per year</th>\n",
       "      <th>OpenSourcer: Never</th>\n",
       "      <th>OpenSourcer: Once a month or more often</th>\n",
       "    </tr>\n",
       "    <tr>\n",
       "      <th>MainBranch</th>\n",
       "      <th></th>\n",
       "      <th></th>\n",
       "      <th></th>\n",
       "      <th></th>\n",
       "      <th></th>\n",
       "    </tr>\n",
       "  </thead>\n",
       "  <tbody>\n",
       "    <tr>\n",
       "      <td>I am a developer by profession</td>\n",
       "      <td>52008.0</td>\n",
       "      <td>15988.0</td>\n",
       "      <td>19319.0</td>\n",
       "      <td>22373.0</td>\n",
       "      <td>7999.0</td>\n",
       "    </tr>\n",
       "    <tr>\n",
       "      <td>I am a student who is learning to code</td>\n",
       "      <td>8521.0</td>\n",
       "      <td>1797.0</td>\n",
       "      <td>2210.0</td>\n",
       "      <td>4817.0</td>\n",
       "      <td>1365.0</td>\n",
       "    </tr>\n",
       "    <tr>\n",
       "      <td>I am not primarily a developer, but I write code sometimes as part of my work</td>\n",
       "      <td>5847.0</td>\n",
       "      <td>1700.0</td>\n",
       "      <td>2125.0</td>\n",
       "      <td>2880.0</td>\n",
       "      <td>834.0</td>\n",
       "    </tr>\n",
       "    <tr>\n",
       "      <td>I code primarily as a hobby</td>\n",
       "      <td>3340.0</td>\n",
       "      <td>692.0</td>\n",
       "      <td>703.0</td>\n",
       "      <td>1356.0</td>\n",
       "      <td>589.0</td>\n",
       "    </tr>\n",
       "    <tr>\n",
       "      <td>I used to be a developer by profession, but no longer am</td>\n",
       "      <td>1246.0</td>\n",
       "      <td>307.0</td>\n",
       "      <td>500.0</td>\n",
       "      <td>625.0</td>\n",
       "      <td>152.0</td>\n",
       "    </tr>\n",
       "  </tbody>\n",
       "</table>\n",
       "</div>"
      ],
      "text/plain": [
       "                                                                               Hobbyist  \\\n",
       "MainBranch                                                                                \n",
       "I am a developer by profession                                                 52008.0    \n",
       "I am a student who is learning to code                                         8521.0     \n",
       "I am not primarily a developer, but I write code sometimes as part of my work  5847.0     \n",
       "I code primarily as a hobby                                                    3340.0     \n",
       "I used to be a developer by profession, but no longer am                       1246.0     \n",
       "\n",
       "                                                                               OpenSourcer: Less than once a month but more than once per year  \\\n",
       "MainBranch                                                                                                                                       \n",
       "I am a developer by profession                                                 15988.0                                                           \n",
       "I am a student who is learning to code                                         1797.0                                                            \n",
       "I am not primarily a developer, but I write code sometimes as part of my work  1700.0                                                            \n",
       "I code primarily as a hobby                                                    692.0                                                             \n",
       "I used to be a developer by profession, but no longer am                       307.0                                                             \n",
       "\n",
       "                                                                               OpenSourcer: Less than once per year  \\\n",
       "MainBranch                                                                                                            \n",
       "I am a developer by profession                                                 19319.0                                \n",
       "I am a student who is learning to code                                         2210.0                                 \n",
       "I am not primarily a developer, but I write code sometimes as part of my work  2125.0                                 \n",
       "I code primarily as a hobby                                                    703.0                                  \n",
       "I used to be a developer by profession, but no longer am                       500.0                                  \n",
       "\n",
       "                                                                               OpenSourcer: Never  \\\n",
       "MainBranch                                                                                          \n",
       "I am a developer by profession                                                 22373.0              \n",
       "I am a student who is learning to code                                         4817.0               \n",
       "I am not primarily a developer, but I write code sometimes as part of my work  2880.0               \n",
       "I code primarily as a hobby                                                    1356.0               \n",
       "I used to be a developer by profession, but no longer am                       625.0                \n",
       "\n",
       "                                                                               OpenSourcer: Once a month or more often  \n",
       "MainBranch                                                                                                              \n",
       "I am a developer by profession                                                 7999.0                                   \n",
       "I am a student who is learning to code                                         1365.0                                   \n",
       "I am not primarily a developer, but I write code sometimes as part of my work  834.0                                    \n",
       "I code primarily as a hobby                                                    589.0                                    \n",
       "I used to be a developer by profession, but no longer am                       152.0                                    "
      ]
     },
     "execution_count": 12,
     "metadata": {},
     "output_type": "execute_result"
    }
   ],
   "source": [
    "_.groupby('MainBranch').sum()"
   ]
  },
  {
   "cell_type": "markdown",
   "metadata": {},
   "source": [
    "**MOST WORKED LANGUAGE**"
   ]
  },
  {
   "cell_type": "code",
   "execution_count": 13,
   "metadata": {
    "ExecuteTime": {
     "end_time": "2019-10-25T04:58:33.369891Z",
     "start_time": "2019-10-25T04:58:33.220292Z"
    }
   },
   "outputs": [],
   "source": [
    "languages = pd.DataFrame(data['LanguageWorkedWith'].value_counts()).reset_index()\n",
    "languages.columns=['LanguageWorkedWith', 'Counts']\n",
    "languages['LanguageWorkedWith'] = languages['LanguageWorkedWith'].apply(lambda x: x.split(';'))"
   ]
  },
  {
   "cell_type": "code",
   "execution_count": 14,
   "metadata": {
    "ExecuteTime": {
     "end_time": "2019-10-25T04:58:34.065032Z",
     "start_time": "2019-10-25T04:58:33.371885Z"
    }
   },
   "outputs": [
    {
     "data": {
      "text/plain": [
       "<matplotlib.axes._subplots.AxesSubplot at 0x25e84f0ecf8>"
      ]
     },
     "execution_count": 14,
     "metadata": {},
     "output_type": "execute_result"
    },
    {
     "data": {
      "image/png": "[encoded data removed]",
      "text/plain": [
       "<Figure size 1296x576 with 1 Axes>"
      ]
     },
     "metadata": {
      "needs_background": "light"
     },
     "output_type": "display_data"
    }
   ],
   "source": [
    "languages.explode('LanguageWorkedWith').groupby('LanguageWorkedWith').sum().plot.bar(figsize=(18,8), grid=True)"
   ]
  },
  {
   "cell_type": "code",
   "execution_count": null,
   "metadata": {},
   "outputs": [],
   "source": []
  }
 ],
 "metadata": {
  "kernelspec": {
   "display_name": "Python 3",
   "language": "python",
   "name": "python3"
  },
  "language_info": {
   "codemirror_mode": {
    "name": "ipython",
    "version": 3
   },
   "file_extension": ".py",
   "mimetype": "text/x-python",
   "name": "python",
   "nbconvert_exporter": "python",
   "pygments_lexer": "ipython3",
   "version": "3.7.3"
  },
  "toc": {
   "base_numbering": 1,
   "nav_menu": {},
   "number_sections": true,
   "sideBar": true,
   "skip_h1_title": false,
   "title_cell": "Table of Contents",
   "title_sidebar": "Contents",
   "toc_cell": false,
   "toc_position": {},
   "toc_section_display": true,
   "toc_window_display": false
  },
  "varInspector": {
   "cols": {
    "lenName": 16,
    "lenType": 16,
    "lenVar": 40
   },
   "kernels_config": {
    "python": {
     "delete_cmd_postfix": "",
     "delete_cmd_prefix": "del ",
     "library": "var_list.py",
     "varRefreshCmd": "print(var_dic_list())"
    },
    "r": {
     "delete_cmd_postfix": ") ",
     "delete_cmd_prefix": "rm(",
     "library": "var_list.r",
     "varRefreshCmd": "cat(var_dic_list()) "
    }
   },
   "types_to_exclude": [
    "module",
    "function",
    "builtin_function_or_method",
    "instance",
    "_Feature"
   ],
   "window_display": false
  }
 },
 "nbformat": 4,
 "nbformat_minor": 2
}
